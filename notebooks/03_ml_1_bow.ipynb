{
 "cells": [
  {
   "cell_type": "code",
   "execution_count": 1,
   "id": "e2f5161b-e12c-4285-9f1e-d94ac4f0f530",
   "metadata": {},
   "outputs": [
    {
     "name": "stderr",
     "output_type": "stream",
     "text": [
      "2024-11-20 23:41:51.759947: E external/local_xla/xla/stream_executor/cuda/cuda_fft.cc:477] Unable to register cuFFT factory: Attempting to register factory for plugin cuFFT when one has already been registered\n",
      "WARNING: All log messages before absl::InitializeLog() is called are written to STDERR\n",
      "E0000 00:00:1732142511.779592   48530 cuda_dnn.cc:8310] Unable to register cuDNN factory: Attempting to register factory for plugin cuDNN when one has already been registered\n",
      "E0000 00:00:1732142511.785396   48530 cuda_blas.cc:1418] Unable to register cuBLAS factory: Attempting to register factory for plugin cuBLAS when one has already been registered\n",
      "2024-11-20 23:41:51.804223: I tensorflow/core/platform/cpu_feature_guard.cc:210] This TensorFlow binary is optimized to use available CPU instructions in performance-critical operations.\n",
      "To enable the following instructions: AVX2 FMA, in other operations, rebuild TensorFlow with the appropriate compiler flags.\n"
     ]
    }
   ],
   "source": [
    "import pandas as pd\n",
    "from sklearn.model_selection import train_test_split\n",
    "from sklearn.feature_extraction.text import CountVectorizer\n",
    "from sklearn.metrics import accuracy_score, classification_report, f1_score, average_precision_score, make_scorer\n",
    "from sklearn.ensemble import RandomForestClassifier, GradientBoostingClassifier, StackingClassifier\n",
    "from sklearn.svm import SVC\n",
    "from sklearn.neural_network import MLPClassifier\n",
    "from lightgbm import LGBMClassifier\n",
    "from xgboost import XGBClassifier\n",
    "from catboost import CatBoostClassifier\n",
    "import optuna\n",
    "\n",
    "from functions import *\n",
    "\n",
    "# Load your dataset\n",
    "df = pd.read_csv(\"../data/clean/dataset.csv\").fillna('')\n",
    "X = df[\"lemmes\"]\n",
    "y = df[\"funny\"]\n",
    "\n",
    "# Split into train/test sets\n",
    "X_train, X_test, y_train, y_test = train_test_split(X, y, test_size=0.2, random_state=42, stratify=y)"
   ]
  },
  {
   "cell_type": "code",
   "execution_count": 2,
   "id": "cd8c793b-8e0f-45a7-aff1-8963ed1f1db8",
   "metadata": {},
   "outputs": [],
   "source": [
    "vectorizer = CountVectorizer(min_df=50, max_features=10000)"
   ]
  },
  {
   "cell_type": "code",
   "execution_count": 3,
   "id": "d3a7305c-5102-45d4-b50d-05f6b476372e",
   "metadata": {},
   "outputs": [],
   "source": [
    "X_train_embeddings = vectorizer.fit_transform(X_train)\n",
    "X_test_embeddings = vectorizer.transform(X_test)"
   ]
  },
  {
   "cell_type": "code",
   "execution_count": 4,
   "id": "2476ad58-6b1c-48e3-9a8a-6e8f318675f7",
   "metadata": {},
   "outputs": [],
   "source": [
    "# Train models\n",
    "best_models = []"
   ]
  },
  {
   "cell_type": "code",
   "execution_count": 5,
   "id": "8eac7d57-d971-40cb-be09-218e33f62f3d",
   "metadata": {},
   "outputs": [
    {
     "name": "stderr",
     "output_type": "stream",
     "text": [
      "/home/michael/code/python/funnypress-data-study/notebooks/functions.py:139: ExperimentalWarning: OptunaSearchCV is experimental (supported from v0.17.0). The interface can change in the future.\n",
      "  search = OptunaSearchCV(\n",
      "[I 2024-11-20 23:41:55,493] A new study created in memory with name: no-name-13a45776-8c8e-493c-ba54-1cf2629e3fa5\n",
      "[I 2024-11-20 23:42:04,386] Trial 0 finished with value: 0.0 and parameters: {'classifier__n_estimators': 162, 'classifier__max_depth': 7, 'classifier__min_samples_split': 3, 'classifier__min_samples_leaf': 5}. Best is trial 0 with value: 0.0.\n",
      "[I 2024-11-20 23:42:14,546] Trial 1 finished with value: 0.0 and parameters: {'classifier__n_estimators': 193, 'classifier__max_depth': 7, 'classifier__min_samples_split': 3, 'classifier__min_samples_leaf': 1}. Best is trial 0 with value: 0.0.\n",
      "[I 2024-11-20 23:42:17,788] Trial 2 finished with value: 0.0 and parameters: {'classifier__n_estimators': 58, 'classifier__max_depth': 8, 'classifier__min_samples_split': 5, 'classifier__min_samples_leaf': 2}. Best is trial 0 with value: 0.0.\n",
      "[I 2024-11-20 23:42:28,977] Trial 3 finished with value: 0.00012642225031605565 and parameters: {'classifier__n_estimators': 181, 'classifier__max_depth': 9, 'classifier__min_samples_split': 2, 'classifier__min_samples_leaf': 1}. Best is trial 3 with value: 0.00012642225031605565.\n",
      "[I 2024-11-20 23:42:34,143] Trial 4 finished with value: 0.0 and parameters: {'classifier__n_estimators': 119, 'classifier__max_depth': 3, 'classifier__min_samples_split': 7, 'classifier__min_samples_leaf': 4}. Best is trial 3 with value: 0.00012642225031605565.\n",
      "[I 2024-11-20 23:42:40,564] Trial 5 finished with value: 0.005924878979694343 and parameters: {'classifier__n_estimators': 91, 'classifier__max_depth': 14, 'classifier__min_samples_split': 4, 'classifier__min_samples_leaf': 4}. Best is trial 5 with value: 0.005924878979694343.\n",
      "[I 2024-11-20 23:42:52,665] Trial 6 finished with value: 0.00981198296660872 and parameters: {'classifier__n_estimators': 169, 'classifier__max_depth': 15, 'classifier__min_samples_split': 5, 'classifier__min_samples_leaf': 3}. Best is trial 6 with value: 0.00981198296660872.\n",
      "[I 2024-11-20 23:42:59,618] Trial 7 finished with value: 0.0 and parameters: {'classifier__n_estimators': 147, 'classifier__max_depth': 4, 'classifier__min_samples_split': 5, 'classifier__min_samples_leaf': 1}. Best is trial 6 with value: 0.00981198296660872.\n",
      "[I 2024-11-20 23:43:06,087] Trial 8 finished with value: 0.007556016794052836 and parameters: {'classifier__n_estimators': 94, 'classifier__max_depth': 14, 'classifier__min_samples_split': 7, 'classifier__min_samples_leaf': 3}. Best is trial 6 with value: 0.00981198296660872.\n",
      "[I 2024-11-20 23:43:08,822] Trial 9 finished with value: 0.0 and parameters: {'classifier__n_estimators': 50, 'classifier__max_depth': 7, 'classifier__min_samples_split': 9, 'classifier__min_samples_leaf': 3}. Best is trial 6 with value: 0.00981198296660872.\n",
      "[I 2024-11-20 23:43:17,573] Trial 10 finished with value: 0.0002528844697280063 and parameters: {'classifier__n_estimators': 144, 'classifier__max_depth': 11, 'classifier__min_samples_split': 10, 'classifier__min_samples_leaf': 5}. Best is trial 6 with value: 0.00981198296660872.\n",
      "[I 2024-11-20 23:43:24,767] Trial 11 finished with value: 0.005924046735590179 and parameters: {'classifier__n_estimators': 104, 'classifier__max_depth': 14, 'classifier__min_samples_split': 7, 'classifier__min_samples_leaf': 3}. Best is trial 6 with value: 0.00981198296660872.\n",
      "[I 2024-11-20 23:43:30,915] Trial 12 finished with value: 0.013933465497115351 and parameters: {'classifier__n_estimators': 85, 'classifier__max_depth': 15, 'classifier__min_samples_split': 7, 'classifier__min_samples_leaf': 2}. Best is trial 12 with value: 0.013933465497115351.\n",
      "[I 2024-11-20 23:43:35,722] Trial 13 finished with value: 0.001894976647729634 and parameters: {'classifier__n_estimators': 72, 'classifier__max_depth': 12, 'classifier__min_samples_split': 8, 'classifier__min_samples_leaf': 2}. Best is trial 12 with value: 0.013933465497115351.\n",
      "[I 2024-11-20 23:43:45,669] Trial 14 finished with value: 0.009813512629542595 and parameters: {'classifier__n_estimators': 126, 'classifier__max_depth': 15, 'classifier__min_samples_split': 6, 'classifier__min_samples_leaf': 2}. Best is trial 12 with value: 0.013933465497115351.\n",
      "[I 2024-11-20 23:43:54,664] Trial 15 finished with value: 0.0013899261680077085 and parameters: {'classifier__n_estimators': 124, 'classifier__max_depth': 12, 'classifier__min_samples_split': 6, 'classifier__min_samples_leaf': 2}. Best is trial 12 with value: 0.013933465497115351.\n",
      "[I 2024-11-20 23:43:59,417] Trial 16 finished with value: 0.001011098395655708 and parameters: {'classifier__n_estimators': 71, 'classifier__max_depth': 11, 'classifier__min_samples_split': 8, 'classifier__min_samples_leaf': 2}. Best is trial 12 with value: 0.013933465497115351.\n",
      "[I 2024-11-20 23:44:09,557] Trial 17 finished with value: 0.009188299373893215 and parameters: {'classifier__n_estimators': 137, 'classifier__max_depth': 15, 'classifier__min_samples_split': 6, 'classifier__min_samples_leaf': 2}. Best is trial 12 with value: 0.013933465497115351.\n",
      "[I 2024-11-20 23:44:17,292] Trial 18 finished with value: 0.005421736078223886 and parameters: {'classifier__n_estimators': 106, 'classifier__max_depth': 13, 'classifier__min_samples_split': 10, 'classifier__min_samples_leaf': 1}. Best is trial 12 with value: 0.013933465497115351.\n",
      "[I 2024-11-20 23:44:22,113] Trial 19 finished with value: 0.0002528445006321113 and parameters: {'classifier__n_estimators': 81, 'classifier__max_depth': 10, 'classifier__min_samples_split': 8, 'classifier__min_samples_leaf': 4}. Best is trial 12 with value: 0.013933465497115351.\n"
     ]
    },
    {
     "name": "stdout",
     "output_type": "stream",
     "text": [
      "Best parameters: {'classifier__n_estimators': 85, 'classifier__max_depth': 15, 'classifier__min_samples_split': 7, 'classifier__min_samples_leaf': 2}\n",
      "Test Accuracy: 0.815605498991226\n",
      "F1 Score: 0.012066365007541479\n",
      "              precision    recall  f1-score   support\n",
      "\n",
      "           0       0.82      1.00      0.90     17359\n",
      "           1       1.00      0.01      0.01      3954\n",
      "\n",
      "    accuracy                           0.82     21313\n",
      "   macro avg       0.91      0.50      0.46     21313\n",
      "weighted avg       0.85      0.82      0.73     21313\n",
      "\n"
     ]
    }
   ],
   "source": [
    "# Random Forest\n",
    "\n",
    "rf_param_distributions = {\n",
    "    \"classifier__n_estimators\": optuna.distributions.IntDistribution(50, 200),\n",
    "    \"classifier__max_depth\": optuna.distributions.IntDistribution(3, 15),\n",
    "    \"classifier__min_samples_split\": optuna.distributions.IntDistribution(2, 10),\n",
    "    \"classifier__min_samples_leaf\": optuna.distributions.IntDistribution(1, 5),\n",
    "}\n",
    "\n",
    "rf_model, rf_acc = train_model_with_optuna(\n",
    "    model=RandomForestClassifier(random_state=314),\n",
    "    param_distributions=rf_param_distributions,\n",
    "    X_train_embeddings=X_train_embeddings,\n",
    "    y_train=y_train,\n",
    "    X_test_embeddings=X_test_embeddings,\n",
    "    y_test=y_test,\n",
    ")\n",
    "best_models.append((\"random_forest\", rf_model))"
   ]
  },
  {
   "cell_type": "code",
   "execution_count": 6,
   "id": "0f538672-aff1-43df-a3d2-a86b66a5cdd6",
   "metadata": {},
   "outputs": [
    {
     "name": "stderr",
     "output_type": "stream",
     "text": [
      "/home/michael/code/python/funnypress-data-study/notebooks/functions.py:139: ExperimentalWarning: OptunaSearchCV is experimental (supported from v0.17.0). The interface can change in the future.\n",
      "  search = OptunaSearchCV(\n",
      "[I 2024-11-20 23:44:23,803] A new study created in memory with name: no-name-39fc3ce4-7c10-44bc-a2dc-a44d3ad43add\n",
      "[I 2024-11-20 23:44:26,281] Trial 0 finished with value: 0.3958100720296195 and parameters: {'classifier__n_estimators': 162, 'classifier__learning_rate': 0.10223368484312673, 'classifier__max_depth': 4}. Best is trial 0 with value: 0.3958100720296195.\n",
      "[I 2024-11-20 23:44:29,791] Trial 1 finished with value: 0.5365765039231933 and parameters: {'classifier__n_estimators': 199, 'classifier__learning_rate': 0.2849341173889311, 'classifier__max_depth': 5}. Best is trial 1 with value: 0.5365765039231933.\n",
      "[I 2024-11-20 23:44:31,206] Trial 2 finished with value: 0.29100310557835163 and parameters: {'classifier__n_estimators': 77, 'classifier__learning_rate': 0.025252317480855793, 'classifier__max_depth': 3}. Best is trial 1 with value: 0.5365765039231933.\n",
      "[I 2024-11-20 23:44:33,957] Trial 3 finished with value: 0.40262150908203365 and parameters: {'classifier__n_estimators': 112, 'classifier__learning_rate': 0.12667259142102733, 'classifier__max_depth': 5}. Best is trial 1 with value: 0.5365765039231933.\n",
      "[I 2024-11-20 23:44:36,375] Trial 4 finished with value: 0.40915461025681416 and parameters: {'classifier__n_estimators': 181, 'classifier__learning_rate': 0.1477663017197216, 'classifier__max_depth': 3}. Best is trial 1 with value: 0.5365765039231933.\n",
      "[I 2024-11-20 23:44:37,795] Trial 5 finished with value: 0.3489444087256145 and parameters: {'classifier__n_estimators': 73, 'classifier__learning_rate': 0.1432318394127453, 'classifier__max_depth': 3}. Best is trial 1 with value: 0.5365765039231933.\n",
      "[I 2024-11-20 23:44:41,316] Trial 6 finished with value: 0.46985281950488317 and parameters: {'classifier__n_estimators': 143, 'classifier__learning_rate': 0.20404853189561545, 'classifier__max_depth': 5}. Best is trial 1 with value: 0.5365765039231933.\n",
      "[I 2024-11-20 23:44:47,834] Trial 7 finished with value: 0.45929312646794485 and parameters: {'classifier__n_estimators': 179, 'classifier__learning_rate': 0.08046416010940738, 'classifier__max_depth': 9}. Best is trial 1 with value: 0.5365765039231933.\n",
      "[I 2024-11-20 23:44:51,683] Trial 8 finished with value: 0.5237262752407498 and parameters: {'classifier__n_estimators': 169, 'classifier__learning_rate': 0.286781093643082, 'classifier__max_depth': 5}. Best is trial 1 with value: 0.5365765039231933.\n",
      "[I 2024-11-20 23:44:53,567] Trial 9 finished with value: 0.4019812937543111 and parameters: {'classifier__n_estimators': 116, 'classifier__learning_rate': 0.19645471219985927, 'classifier__max_depth': 3}. Best is trial 1 with value: 0.5365765039231933.\n",
      "[I 2024-11-20 23:44:58,996] Trial 10 finished with value: 0.5813509721915808 and parameters: {'classifier__n_estimators': 199, 'classifier__learning_rate': 0.29317319449311763, 'classifier__max_depth': 8}. Best is trial 10 with value: 0.5813509721915808.\n",
      "[I 2024-11-20 23:45:04,550] Trial 11 finished with value: 0.5837675281632586 and parameters: {'classifier__n_estimators': 200, 'classifier__learning_rate': 0.29934142188815765, 'classifier__max_depth': 8}. Best is trial 11 with value: 0.5837675281632586.\n",
      "[I 2024-11-20 23:45:10,279] Trial 12 finished with value: 0.5637839377066369 and parameters: {'classifier__n_estimators': 194, 'classifier__learning_rate': 0.25039145809816366, 'classifier__max_depth': 8}. Best is trial 11 with value: 0.5837675281632586.\n",
      "[I 2024-11-20 23:45:14,893] Trial 13 finished with value: 0.5192336892545404 and parameters: {'classifier__n_estimators': 145, 'classifier__learning_rate': 0.2315899131669124, 'classifier__max_depth': 7}. Best is trial 11 with value: 0.5837675281632586.\n",
      "[I 2024-11-20 23:45:17,225] Trial 14 finished with value: 0.48750705409529776 and parameters: {'classifier__n_estimators': 52, 'classifier__learning_rate': 0.2894856422801379, 'classifier__max_depth': 10}. Best is trial 11 with value: 0.5837675281632586.\n",
      "[I 2024-11-20 23:45:21,467] Trial 15 finished with value: 0.5304845871046797 and parameters: {'classifier__n_estimators': 151, 'classifier__learning_rate': 0.24727035729067562, 'classifier__max_depth': 7}. Best is trial 11 with value: 0.5837675281632586.\n",
      "[I 2024-11-20 23:45:27,067] Trial 16 finished with value: 0.5421768506443627 and parameters: {'classifier__n_estimators': 199, 'classifier__learning_rate': 0.19385742479660814, 'classifier__max_depth': 8}. Best is trial 11 with value: 0.5837675281632586.\n",
      "[I 2024-11-20 23:45:31,682] Trial 17 finished with value: 0.5494756286186276 and parameters: {'classifier__n_estimators': 124, 'classifier__learning_rate': 0.25308670953230106, 'classifier__max_depth': 10}. Best is trial 11 with value: 0.5837675281632586.\n",
      "[I 2024-11-20 23:45:38,228] Trial 18 finished with value: 0.5755817559197949 and parameters: {'classifier__n_estimators': 183, 'classifier__learning_rate': 0.2988475969994817, 'classifier__max_depth': 8}. Best is trial 11 with value: 0.5837675281632586.\n",
      "[I 2024-11-20 23:45:42,722] Trial 19 finished with value: 0.3201476658925637 and parameters: {'classifier__n_estimators': 99, 'classifier__learning_rate': 0.012012384985819469, 'classifier__max_depth': 9}. Best is trial 11 with value: 0.5837675281632586.\n"
     ]
    },
    {
     "name": "stdout",
     "output_type": "stream",
     "text": [
      "Best parameters: {'classifier__n_estimators': 200, 'classifier__learning_rate': 0.29934142188815765, 'classifier__max_depth': 8}\n",
      "Test Accuracy: 0.8815277060948716\n",
      "F1 Score: 0.5870809484873263\n",
      "              precision    recall  f1-score   support\n",
      "\n",
      "           0       0.89      0.98      0.93     17359\n",
      "           1       0.83      0.45      0.59      3954\n",
      "\n",
      "    accuracy                           0.88     21313\n",
      "   macro avg       0.86      0.72      0.76     21313\n",
      "weighted avg       0.88      0.88      0.87     21313\n",
      "\n"
     ]
    }
   ],
   "source": [
    "# XGBoost\n",
    "\n",
    "xgb_param_distributions = {\n",
    "    \"classifier__n_estimators\": optuna.distributions.IntDistribution(50, 200),\n",
    "    \"classifier__learning_rate\": optuna.distributions.FloatDistribution(0.01, 0.3),\n",
    "    \"classifier__max_depth\": optuna.distributions.IntDistribution(3, 10),\n",
    "}\n",
    "\n",
    "xgb_model, xgb_acc = train_model_with_optuna(\n",
    "    model=XGBClassifier(random_state=314),\n",
    "    param_distributions=xgb_param_distributions,\n",
    "    X_train_embeddings=X_train_embeddings,\n",
    "    y_train=y_train,\n",
    "    X_test_embeddings=X_test_embeddings,\n",
    "    y_test=y_test,\n",
    ")\n",
    "best_models.append((\"xgboost\", xgb_model))"
   ]
  },
  {
   "cell_type": "code",
   "execution_count": 7,
   "id": "7ad32ba3-ccf5-4f2d-81d2-39db408bf2d4",
   "metadata": {},
   "outputs": [
    {
     "name": "stderr",
     "output_type": "stream",
     "text": [
      "/home/michael/code/python/funnypress-data-study/notebooks/functions.py:139: ExperimentalWarning: OptunaSearchCV is experimental (supported from v0.17.0). The interface can change in the future.\n",
      "  search = OptunaSearchCV(\n",
      "[I 2024-11-20 23:45:44,295] A new study created in memory with name: no-name-caf5e402-0352-407b-8fed-73f0408eff8a\n",
      "[I 2024-11-20 23:45:55,642] Trial 0 finished with value: 0.4093662591346961 and parameters: {'classifier__iterations': 162, 'classifier__learning_rate': 0.10223368484312673, 'classifier__depth': 4}. Best is trial 0 with value: 0.4093662591346961.\n",
      "[I 2024-11-20 23:46:10,559] Trial 1 finished with value: 0.5539762274032631 and parameters: {'classifier__iterations': 199, 'classifier__learning_rate': 0.2849341173889311, 'classifier__depth': 5}. Best is trial 1 with value: 0.5539762274032631.\n",
      "[I 2024-11-20 23:46:16,210] Trial 2 finished with value: 0.2986521241238643 and parameters: {'classifier__iterations': 77, 'classifier__learning_rate': 0.025252317480855793, 'classifier__depth': 3}. Best is trial 1 with value: 0.5539762274032631.\n",
      "[I 2024-11-20 23:46:26,588] Trial 3 finished with value: 0.4140299818767231 and parameters: {'classifier__iterations': 112, 'classifier__learning_rate': 0.12667259142102733, 'classifier__depth': 5}. Best is trial 1 with value: 0.5539762274032631.\n",
      "[I 2024-11-20 23:46:37,747] Trial 4 finished with value: 0.4275482682629714 and parameters: {'classifier__iterations': 181, 'classifier__learning_rate': 0.1477663017197216, 'classifier__depth': 3}. Best is trial 1 with value: 0.5539762274032631.\n",
      "[I 2024-11-20 23:46:43,038] Trial 5 finished with value: 0.3619846592867278 and parameters: {'classifier__iterations': 73, 'classifier__learning_rate': 0.1432318394127453, 'classifier__depth': 3}. Best is trial 1 with value: 0.5539762274032631.\n",
      "[I 2024-11-20 23:46:54,124] Trial 6 finished with value: 0.48572677510854384 and parameters: {'classifier__iterations': 143, 'classifier__learning_rate': 0.20404853189561545, 'classifier__depth': 5}. Best is trial 1 with value: 0.5539762274032631.\n",
      "[I 2024-11-20 23:47:25,886] Trial 7 finished with value: 0.45970018040776683 and parameters: {'classifier__iterations': 179, 'classifier__learning_rate': 0.08046416010940738, 'classifier__depth': 9}. Best is trial 1 with value: 0.5539762274032631.\n",
      "[I 2024-11-20 23:47:39,941] Trial 8 finished with value: 0.5382309942076807 and parameters: {'classifier__iterations': 169, 'classifier__learning_rate': 0.286781093643082, 'classifier__depth': 5}. Best is trial 1 with value: 0.5539762274032631.\n",
      "[I 2024-11-20 23:47:48,093] Trial 9 finished with value: 0.41859374439808245 and parameters: {'classifier__iterations': 116, 'classifier__learning_rate': 0.19645471219985927, 'classifier__depth': 3}. Best is trial 1 with value: 0.5539762274032631.\n",
      "[I 2024-11-20 23:48:14,758] Trial 10 finished with value: 0.5938866930502507 and parameters: {'classifier__iterations': 199, 'classifier__learning_rate': 0.29317319449311763, 'classifier__depth': 8}. Best is trial 10 with value: 0.5938866930502507.\n",
      "[I 2024-11-20 23:48:40,534] Trial 11 finished with value: 0.5969408296722672 and parameters: {'classifier__iterations': 200, 'classifier__learning_rate': 0.29934142188815765, 'classifier__depth': 8}. Best is trial 11 with value: 0.5969408296722672.\n",
      "[I 2024-11-20 23:49:05,112] Trial 12 finished with value: 0.5833671751768513 and parameters: {'classifier__iterations': 194, 'classifier__learning_rate': 0.25039145809816366, 'classifier__depth': 8}. Best is trial 11 with value: 0.5969408296722672.\n",
      "[I 2024-11-20 23:49:20,650] Trial 13 finished with value: 0.5351647134928716 and parameters: {'classifier__iterations': 145, 'classifier__learning_rate': 0.2315899131669124, 'classifier__depth': 7}. Best is trial 11 with value: 0.5969408296722672.\n",
      "[I 2024-11-20 23:49:43,296] Trial 14 finished with value: 0.4886476714796227 and parameters: {'classifier__iterations': 52, 'classifier__learning_rate': 0.2894856422801379, 'classifier__depth': 10}. Best is trial 11 with value: 0.5969408296722672.\n",
      "[I 2024-11-20 23:49:58,855] Trial 15 finished with value: 0.5460512658293512 and parameters: {'classifier__iterations': 151, 'classifier__learning_rate': 0.24727035729067562, 'classifier__depth': 7}. Best is trial 11 with value: 0.5969408296722672.\n",
      "[I 2024-11-20 23:50:24,670] Trial 16 finished with value: 0.5583873455803439 and parameters: {'classifier__iterations': 199, 'classifier__learning_rate': 0.19385742479660814, 'classifier__depth': 8}. Best is trial 11 with value: 0.5969408296722672.\n",
      "[I 2024-11-20 23:51:19,127] Trial 17 finished with value: 0.5599068686189299 and parameters: {'classifier__iterations': 124, 'classifier__learning_rate': 0.25308670953230106, 'classifier__depth': 10}. Best is trial 11 with value: 0.5969408296722672.\n",
      "[I 2024-11-20 23:51:41,773] Trial 18 finished with value: 0.5917582746556459 and parameters: {'classifier__iterations': 183, 'classifier__learning_rate': 0.2988475969994817, 'classifier__depth': 8}. Best is trial 11 with value: 0.5969408296722672.\n",
      "[I 2024-11-20 23:51:59,898] Trial 19 finished with value: 0.3142934123472025 and parameters: {'classifier__iterations': 99, 'classifier__learning_rate': 0.012012384985819469, 'classifier__depth': 9}. Best is trial 11 with value: 0.5969408296722672.\n"
     ]
    },
    {
     "name": "stdout",
     "output_type": "stream",
     "text": [
      "Best parameters: {'classifier__iterations': 200, 'classifier__learning_rate': 0.29934142188815765, 'classifier__depth': 8}\n",
      "Test Accuracy: 0.8822315019002487\n",
      "F1 Score: 0.5990415335463258\n",
      "              precision    recall  f1-score   support\n",
      "\n",
      "           0       0.89      0.98      0.93     17359\n",
      "           1       0.81      0.47      0.60      3954\n",
      "\n",
      "    accuracy                           0.88     21313\n",
      "   macro avg       0.85      0.72      0.77     21313\n",
      "weighted avg       0.88      0.88      0.87     21313\n",
      "\n"
     ]
    }
   ],
   "source": [
    "# CatBoost\n",
    "catboost_param_distributions = {\n",
    "    \"classifier__iterations\": optuna.distributions.IntDistribution(50, 200),\n",
    "    \"classifier__learning_rate\": optuna.distributions.FloatDistribution(0.01, 0.3),\n",
    "    \"classifier__depth\": optuna.distributions.IntDistribution(3, 10),\n",
    "}\n",
    "\n",
    "catboost_model, catboost_acc = train_model_with_optuna(\n",
    "    model=CatBoostClassifier(verbose=0, random_state=314),\n",
    "    param_distributions=catboost_param_distributions,\n",
    "    X_train_embeddings=X_train_embeddings,\n",
    "    y_train=y_train,\n",
    "    X_test_embeddings=X_test_embeddings,\n",
    "    y_test=y_test,\n",
    ")\n",
    "best_models.append((\"catboost\", catboost_model))"
   ]
  },
  {
   "cell_type": "code",
   "execution_count": 8,
   "id": "cf053c75-cc3a-4b62-a136-5fa0b8a52bb3",
   "metadata": {},
   "outputs": [
    {
     "name": "stdout",
     "output_type": "stream",
     "text": [
      "Stacking Classifier Test Accuracy: 0.888706423309717\n",
      "Stacking Classifier F1 Score: 0.6578188113098673\n",
      "              precision    recall  f1-score   support\n",
      "\n",
      "           0       0.91      0.96      0.93     17359\n",
      "           1       0.77      0.58      0.66      3954\n",
      "\n",
      "    accuracy                           0.89     21313\n",
      "   macro avg       0.84      0.77      0.80     21313\n",
      "weighted avg       0.88      0.89      0.88     21313\n",
      "\n"
     ]
    }
   ],
   "source": [
    "# Stacking the best models\n",
    "stacked_classifier = StackingClassifier(\n",
    "    estimators=best_models,\n",
    "    final_estimator=GradientBoostingClassifier(random_state=314),\n",
    "    cv=5,\n",
    ")\n",
    "\n",
    "\n",
    "stacked_classifier.fit(X_train_embeddings, y_train)\n",
    "y_pred = stacked_classifier.predict(X_test_embeddings)\n",
    "\n",
    "acc = accuracy_score(y_test, y_pred)\n",
    "f1 = f1_score(y_test, y_pred)\n",
    "\n",
    "print(f\"Stacking Classifier Test Accuracy: {acc}\")\n",
    "print(f\"Stacking Classifier F1 Score: {f1}\")\n",
    "\n",
    "print(classification_report(y_test, y_pred))\n"
   ]
  },
  {
   "cell_type": "code",
   "execution_count": null,
   "id": "e2caa3fe-912f-4b07-a81d-c2d8bf4120f9",
   "metadata": {},
   "outputs": [],
   "source": []
  }
 ],
 "metadata": {
  "kernelspec": {
   "display_name": "Python 3 (ipykernel)",
   "language": "python",
   "name": "python3"
  },
  "language_info": {
   "codemirror_mode": {
    "name": "ipython",
    "version": 3
   },
   "file_extension": ".py",
   "mimetype": "text/x-python",
   "name": "python",
   "nbconvert_exporter": "python",
   "pygments_lexer": "ipython3",
   "version": "3.12.6"
  }
 },
 "nbformat": 4,
 "nbformat_minor": 5
}
