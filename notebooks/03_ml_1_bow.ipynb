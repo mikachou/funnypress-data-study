{
 "cells": [
  {
   "cell_type": "code",
   "execution_count": 1,
   "id": "e2f5161b-e12c-4285-9f1e-d94ac4f0f530",
   "metadata": {},
   "outputs": [
    {
     "data": {
      "text/plain": [
       "<Experiment: artifact_location='mlflow-artifacts:/696437413843260424', creation_time=1731871318459, experiment_id='696437413843260424', last_update_time=1731871318459, lifecycle_stage='active', name='Classification BoW', tags={}>"
      ]
     },
     "execution_count": 1,
     "metadata": {},
     "output_type": "execute_result"
    }
   ],
   "source": [
    "import pandas as pd\n",
    "from sklearn.model_selection import train_test_split\n",
    "from sklearn.feature_extraction.text import CountVectorizer\n",
    "from sklearn.pipeline import Pipeline\n",
    "from sklearn.metrics import accuracy_score, classification_report, f1_score, average_precision_score, make_scorer\n",
    "from sklearn.ensemble import RandomForestClassifier, GradientBoostingClassifier, StackingClassifier\n",
    "from sklearn.svm import SVC\n",
    "from sklearn.neural_network import MLPClassifier\n",
    "from lightgbm import LGBMClassifier\n",
    "from xgboost import XGBClassifier\n",
    "from catboost import CatBoostClassifier\n",
    "import optuna\n",
    "from optuna.integration import OptunaSearchCV\n",
    "import mlflow\n",
    "import mlflow.sklearn\n",
    "\n",
    "# Load your dataset\n",
    "df = pd.read_csv(\"../data/clean/dataset.csv\").fillna('')\n",
    "X = df[\"lemmes\"]\n",
    "y = df[\"funny\"]\n",
    "\n",
    "# Split into train/test sets\n",
    "X_train, X_test, y_train, y_test = train_test_split(X, y, test_size=0.2, random_state=42, stratify=y)\n",
    "\n",
    "# Set up MLFlow\n",
    "mlflow.set_tracking_uri(\"http://127.0.0.1:5000\")\n",
    "mlflow.set_experiment(\"Classification BoW\")\n"
   ]
  },
  {
   "cell_type": "code",
   "execution_count": 2,
   "id": "5f13eb0f-365d-479f-a34b-7a10b74a9456",
   "metadata": {},
   "outputs": [],
   "source": [
    "f1_class1 = make_scorer(f1_score, pos_label=1)"
   ]
  },
  {
   "cell_type": "code",
   "execution_count": 3,
   "id": "a4896289-6666-4491-80c5-807284006e2a",
   "metadata": {},
   "outputs": [],
   "source": [
    "pr_auc_score = make_scorer(average_precision_score)"
   ]
  },
  {
   "cell_type": "code",
   "execution_count": 4,
   "id": "a130b091-f6fa-4560-9373-e82e3dc00294",
   "metadata": {},
   "outputs": [],
   "source": [
    "def train_model_with_optuna(model, model_name, param_distributions, n_trials=20):\n",
    "    with mlflow.start_run(run_name=model_name):\n",
    "        # Vectorizer\n",
    "        vectorizer = CountVectorizer(min_df=50, max_features=10000)\n",
    "\n",
    "        # Define pipeline\n",
    "        pipeline = Pipeline([\n",
    "            (\"vectorizer\", vectorizer),\n",
    "            (\"classifier\", model)\n",
    "        ])\n",
    "        \n",
    "        # OptunaSearchCV for hyperparameter tuning\n",
    "        search = OptunaSearchCV(\n",
    "            pipeline,\n",
    "            param_distributions=param_distributions,\n",
    "            cv=3,\n",
    "            n_trials=n_trials,\n",
    "            scoring=\"f1\",\n",
    "            random_state=42,\n",
    "            verbose=1,\n",
    "            #n_jobs=-1,\n",
    "        )\n",
    "        \n",
    "        # Fit the model\n",
    "        search.fit(X_train, y_train)\n",
    "\n",
    "        # Evaluate on test set\n",
    "        best_model = search.best_estimator_\n",
    "        y_pred = best_model.predict(X_test)\n",
    "        acc = accuracy_score(y_test, y_pred)\n",
    "        f1 = f1_score(y_test, y_pred)\n",
    "        pr_auc = average_precision_score(y_test, y_pred)\n",
    "        f1_1 = f1_score(y_test, y_pred, pos_label=1)\n",
    "\n",
    "        # Log results in MLFlow\n",
    "        mlflow.log_param(\"scoring\", \"f1\")\n",
    "        mlflow.log_param(\"feature_extraction\", \"BoW\")\n",
    "        mlflow.log_param(\"model_name\", model_name)\n",
    "        mlflow.log_params(search.best_params_)\n",
    "        mlflow.log_metric(\"accuracy\", acc)\n",
    "        mlflow.log_metric(\"f1\", f1)\n",
    "        mlflow.log_metric(\"pr_auc\", pr_auc)\n",
    "        mlflow.log_metric(\"f1_1\", f1_1)\n",
    "        mlflow.sklearn.log_model(best_model, model_name)\n",
    "\n",
    "        print(f\"Best parameters for {model_name}: {search.best_params_}\")\n",
    "        print(f\"Test Accuracy: {acc}\")\n",
    "        print(classification_report(y_test, y_pred))\n",
    "        \n",
    "        return best_model, acc\n"
   ]
  },
  {
   "cell_type": "code",
   "execution_count": 5,
   "id": "2476ad58-6b1c-48e3-9a8a-6e8f318675f7",
   "metadata": {},
   "outputs": [],
   "source": [
    "# Train models\n",
    "best_models = []"
   ]
  },
  {
   "cell_type": "code",
   "execution_count": 6,
   "id": "8eac7d57-d971-40cb-be09-218e33f62f3d",
   "metadata": {},
   "outputs": [
    {
     "name": "stderr",
     "output_type": "stream",
     "text": [
      "/tmp/ipykernel_115956/3889496614.py:13: ExperimentalWarning: OptunaSearchCV is experimental (supported from v0.17.0). The interface can change in the future.\n",
      "  search = OptunaSearchCV(\n",
      "[I 2024-11-17 23:24:11,209] A new study created in memory with name: no-name-c2c2c959-c2e4-4fc3-8a47-ab01848921c7\n",
      "[I 2024-11-17 23:24:17,612] Trial 0 finished with value: 0.014556175093762438 and parameters: {'classifier__n_estimators': 118, 'classifier__max_depth': 13, 'classifier__min_samples_split': 2, 'classifier__min_samples_leaf': 2}. Best is trial 0 with value: 0.014556175093762438.\n",
      "[I 2024-11-17 23:24:23,140] Trial 1 finished with value: 0.0 and parameters: {'classifier__n_estimators': 123, 'classifier__max_depth': 6, 'classifier__min_samples_split': 3, 'classifier__min_samples_leaf': 1}. Best is trial 0 with value: 0.014556175093762438.\n",
      "[I 2024-11-17 23:24:27,493] Trial 2 finished with value: 0.00012645422357106728 and parameters: {'classifier__n_estimators': 76, 'classifier__max_depth': 7, 'classifier__min_samples_split': 5, 'classifier__min_samples_leaf': 5}. Best is trial 0 with value: 0.014556175093762438.\n",
      "[I 2024-11-17 23:24:32,936] Trial 3 finished with value: 0.0 and parameters: {'classifier__n_estimators': 126, 'classifier__max_depth': 6, 'classifier__min_samples_split': 5, 'classifier__min_samples_leaf': 3}. Best is trial 0 with value: 0.014556175093762438.\n",
      "[I 2024-11-17 23:24:41,607] Trial 4 finished with value: 0.026694151894600362 and parameters: {'classifier__n_estimators': 179, 'classifier__max_depth': 15, 'classifier__min_samples_split': 6, 'classifier__min_samples_leaf': 5}. Best is trial 4 with value: 0.026694151894600362.\n",
      "[I 2024-11-17 23:24:48,942] Trial 5 finished with value: 0.030481913842842406 and parameters: {'classifier__n_estimators': 119, 'classifier__max_depth': 15, 'classifier__min_samples_split': 9, 'classifier__min_samples_leaf': 1}. Best is trial 5 with value: 0.030481913842842406.\n",
      "[I 2024-11-17 23:24:55,512] Trial 6 finished with value: 0.014433115651803526 and parameters: {'classifier__n_estimators': 118, 'classifier__max_depth': 13, 'classifier__min_samples_split': 9, 'classifier__min_samples_leaf': 3}. Best is trial 5 with value: 0.030481913842842406.\n",
      "[I 2024-11-17 23:25:00,181] Trial 7 finished with value: 0.0071813239776886105 and parameters: {'classifier__n_estimators': 65, 'classifier__max_depth': 12, 'classifier__min_samples_split': 6, 'classifier__min_samples_leaf': 3}. Best is trial 5 with value: 0.030481913842842406.\n",
      "[I 2024-11-17 23:25:04,971] Trial 8 finished with value: 0.00012645422357106728 and parameters: {'classifier__n_estimators': 82, 'classifier__max_depth': 7, 'classifier__min_samples_split': 8, 'classifier__min_samples_leaf': 1}. Best is trial 5 with value: 0.030481913842842406.\n",
      "[I 2024-11-17 23:25:14,120] Trial 9 finished with value: 0.02175011535053328 and parameters: {'classifier__n_estimators': 160, 'classifier__max_depth': 14, 'classifier__min_samples_split': 6, 'classifier__min_samples_leaf': 2}. Best is trial 5 with value: 0.030481913842842406.\n",
      "[I 2024-11-17 23:25:21,461] Trial 10 finished with value: 0.002400090557839947 and parameters: {'classifier__n_estimators': 151, 'classifier__max_depth': 10, 'classifier__min_samples_split': 10, 'classifier__min_samples_leaf': 4}. Best is trial 5 with value: 0.030481913842842406.\n",
      "[I 2024-11-17 23:25:31,317] Trial 11 finished with value: 0.028541030046619495 and parameters: {'classifier__n_estimators': 199, 'classifier__max_depth': 15, 'classifier__min_samples_split': 8, 'classifier__min_samples_leaf': 5}. Best is trial 5 with value: 0.030481913842842406.\n",
      "[I 2024-11-17 23:25:38,186] Trial 12 finished with value: 0.0 and parameters: {'classifier__n_estimators': 196, 'classifier__max_depth': 3, 'classifier__min_samples_split': 8, 'classifier__min_samples_leaf': 4}. Best is trial 5 with value: 0.030481913842842406.\n",
      "[I 2024-11-17 23:25:43,830] Trial 13 finished with value: 0.006297599673001218 and parameters: {'classifier__n_estimators': 94, 'classifier__max_depth': 11, 'classifier__min_samples_split': 8, 'classifier__min_samples_leaf': 4}. Best is trial 5 with value: 0.030481913842842406.\n",
      "[I 2024-11-17 23:25:52,045] Trial 14 finished with value: 0.026557744258483004 and parameters: {'classifier__n_estimators': 143, 'classifier__max_depth': 15, 'classifier__min_samples_split': 10, 'classifier__min_samples_leaf': 2}. Best is trial 5 with value: 0.030481913842842406.\n",
      "[I 2024-11-17 23:25:57,778] Trial 15 finished with value: 0.0011372252523077048 and parameters: {'classifier__n_estimators': 101, 'classifier__max_depth': 9, 'classifier__min_samples_split': 9, 'classifier__min_samples_leaf': 5}. Best is trial 5 with value: 0.030481913842842406.\n",
      "[I 2024-11-17 23:26:02,643] Trial 16 finished with value: 0.03280187045920435 and parameters: {'classifier__n_estimators': 52, 'classifier__max_depth': 15, 'classifier__min_samples_split': 8, 'classifier__min_samples_leaf': 1}. Best is trial 16 with value: 0.03280187045920435.\n",
      "[I 2024-11-17 23:26:07,217] Trial 17 finished with value: 0.01692405200570604 and parameters: {'classifier__n_estimators': 50, 'classifier__max_depth': 13, 'classifier__min_samples_split': 7, 'classifier__min_samples_leaf': 1}. Best is trial 16 with value: 0.03280187045920435.\n",
      "[I 2024-11-17 23:26:11,832] Trial 18 finished with value: 0.007176771035249223 and parameters: {'classifier__n_estimators': 54, 'classifier__max_depth': 11, 'classifier__min_samples_split': 9, 'classifier__min_samples_leaf': 1}. Best is trial 16 with value: 0.03280187045920435.\n",
      "[I 2024-11-17 23:26:18,276] Trial 19 finished with value: 0.022602384905709576 and parameters: {'classifier__n_estimators': 99, 'classifier__max_depth': 14, 'classifier__min_samples_split': 7, 'classifier__min_samples_leaf': 2}. Best is trial 16 with value: 0.03280187045920435.\n",
      "2024/11/17 23:26:23 WARNING mlflow.models.model: Model logged without a signature and input example. Please set `input_example` parameter when logging the model to auto infer the model signature.\n",
      "2024/11/17 23:26:23 INFO mlflow.tracking._tracking_service.client: 🏃 View run Random Forest at: http://127.0.0.1:5000/#/experiments/696437413843260424/runs/216b1dab11f64ca3bd9e4b92e621328f.\n",
      "2024/11/17 23:26:23 INFO mlflow.tracking._tracking_service.client: 🧪 View experiment at: http://127.0.0.1:5000/#/experiments/696437413843260424.\n"
     ]
    },
    {
     "name": "stdout",
     "output_type": "stream",
     "text": [
      "Best parameters for Random Forest: {'classifier__n_estimators': 52, 'classifier__max_depth': 15, 'classifier__min_samples_split': 8, 'classifier__min_samples_leaf': 1}\n",
      "Test Accuracy: 0.8175761272462816\n",
      "              precision    recall  f1-score   support\n",
      "\n",
      "           0       0.82      1.00      0.90     17359\n",
      "           1       1.00      0.02      0.03      3954\n",
      "\n",
      "    accuracy                           0.82     21313\n",
      "   macro avg       0.91      0.51      0.47     21313\n",
      "weighted avg       0.85      0.82      0.74     21313\n",
      "\n"
     ]
    }
   ],
   "source": [
    "# Random Forest\n",
    "\n",
    "rf_param_distributions = {\n",
    "    \"classifier__n_estimators\": optuna.distributions.IntDistribution(50, 200),\n",
    "    \"classifier__max_depth\": optuna.distributions.IntDistribution(3, 15),\n",
    "    \"classifier__min_samples_split\": optuna.distributions.IntDistribution(2, 10),\n",
    "    \"classifier__min_samples_leaf\": optuna.distributions.IntDistribution(1, 5),\n",
    "}\n",
    "\n",
    "rf_model, rf_acc = train_model_with_optuna(\n",
    "    model=RandomForestClassifier(random_state=42),\n",
    "    model_name=\"Random Forest\",\n",
    "    param_distributions=rf_param_distributions\n",
    ")\n",
    "best_models.append((\"random_forest\", rf_model))"
   ]
  },
  {
   "cell_type": "code",
   "execution_count": 7,
   "id": "0f538672-aff1-43df-a3d2-a86b66a5cdd6",
   "metadata": {},
   "outputs": [
    {
     "name": "stderr",
     "output_type": "stream",
     "text": [
      "/tmp/ipykernel_115956/3889496614.py:13: ExperimentalWarning: OptunaSearchCV is experimental (supported from v0.17.0). The interface can change in the future.\n",
      "  search = OptunaSearchCV(\n",
      "[I 2024-11-17 23:26:23,934] A new study created in memory with name: no-name-51a5f197-0f70-4ad0-b03e-898762d0f498\n",
      "[I 2024-11-17 23:26:27,288] Trial 0 finished with value: 0.4220418712758765 and parameters: {'classifier__n_estimators': 118, 'classifier__learning_rate': 0.2514632893713383, 'classifier__max_depth': 3}. Best is trial 0 with value: 0.4220418712758765.\n",
      "[I 2024-11-17 23:26:30,895] Trial 1 finished with value: 0.4074313589561946 and parameters: {'classifier__n_estimators': 98, 'classifier__learning_rate': 0.15070428596302937, 'classifier__max_depth': 5}. Best is trial 0 with value: 0.4220418712758765.\n",
      "[I 2024-11-17 23:26:34,450] Trial 2 finished with value: 0.312539552387054 and parameters: {'classifier__n_estimators': 82, 'classifier__learning_rate': 0.058356583011244335, 'classifier__max_depth': 4}. Best is trial 0 with value: 0.4220418712758765.\n",
      "[I 2024-11-17 23:26:38,420] Trial 3 finished with value: 0.44391532567599495 and parameters: {'classifier__n_estimators': 98, 'classifier__learning_rate': 0.11122962233129385, 'classifier__max_depth': 10}. Best is trial 3 with value: 0.44391532567599495.\n",
      "[I 2024-11-17 23:26:42,507] Trial 4 finished with value: 0.3901747908368929 and parameters: {'classifier__n_estimators': 126, 'classifier__learning_rate': 0.0787472520910885, 'classifier__max_depth': 6}. Best is trial 3 with value: 0.44391532567599495.\n",
      "[I 2024-11-17 23:26:47,612] Trial 5 finished with value: 0.5285422804361058 and parameters: {'classifier__n_estimators': 121, 'classifier__learning_rate': 0.25852069971034985, 'classifier__max_depth': 10}. Best is trial 5 with value: 0.5285422804361058.\n",
      "[I 2024-11-17 23:26:51,682] Trial 6 finished with value: 0.4955419725602892 and parameters: {'classifier__n_estimators': 119, 'classifier__learning_rate': 0.28619022315590475, 'classifier__max_depth': 6}. Best is trial 5 with value: 0.5285422804361058.\n",
      "[I 2024-11-17 23:26:55,451] Trial 7 finished with value: 0.463566347336906 and parameters: {'classifier__n_estimators': 189, 'classifier__learning_rate': 0.2664696158551356, 'classifier__max_depth': 3}. Best is trial 5 with value: 0.5285422804361058.\n",
      "[I 2024-11-17 23:26:59,764] Trial 8 finished with value: 0.512164305118629 and parameters: {'classifier__n_estimators': 118, 'classifier__learning_rate': 0.2444965142409548, 'classifier__max_depth': 9}. Best is trial 5 with value: 0.5285422804361058.\n",
      "[I 2024-11-17 23:27:04,315] Trial 9 finished with value: 0.3592223240038812 and parameters: {'classifier__n_estimators': 128, 'classifier__learning_rate': 0.03902521465537052, 'classifier__max_depth': 8}. Best is trial 5 with value: 0.5285422804361058.\n",
      "[I 2024-11-17 23:27:08,100] Trial 10 finished with value: 0.44236143005539574 and parameters: {'classifier__n_estimators': 54, 'classifier__learning_rate': 0.18928913008890008, 'classifier__max_depth': 10}. Best is trial 5 with value: 0.5285422804361058.\n",
      "[I 2024-11-17 23:27:12,893] Trial 11 finished with value: 0.5193369647284553 and parameters: {'classifier__n_estimators': 161, 'classifier__learning_rate': 0.2177366780874564, 'classifier__max_depth': 8}. Best is trial 5 with value: 0.5285422804361058.\n",
      "[I 2024-11-17 23:27:18,435] Trial 12 finished with value: 0.5101406103217582 and parameters: {'classifier__n_estimators': 162, 'classifier__learning_rate': 0.19940562970878375, 'classifier__max_depth': 8}. Best is trial 5 with value: 0.5285422804361058.\n",
      "[I 2024-11-17 23:27:23,184] Trial 13 finished with value: 0.5183261893610634 and parameters: {'classifier__n_estimators': 160, 'classifier__learning_rate': 0.22342293143129957, 'classifier__max_depth': 8}. Best is trial 5 with value: 0.5285422804361058.\n",
      "[I 2024-11-17 23:27:28,724] Trial 14 finished with value: 0.49692520112384403 and parameters: {'classifier__n_estimators': 155, 'classifier__learning_rate': 0.16003439905158562, 'classifier__max_depth': 9}. Best is trial 5 with value: 0.5285422804361058.\n",
      "[I 2024-11-17 23:27:33,711] Trial 15 finished with value: 0.5468499677782781 and parameters: {'classifier__n_estimators': 200, 'classifier__learning_rate': 0.29301639524079126, 'classifier__max_depth': 7}. Best is trial 15 with value: 0.5468499677782781.\n",
      "[I 2024-11-17 23:27:38,678] Trial 16 finished with value: 0.5383622735829583 and parameters: {'classifier__n_estimators': 198, 'classifier__learning_rate': 0.27195707020413196, 'classifier__max_depth': 7}. Best is trial 15 with value: 0.5468499677782781.\n",
      "[I 2024-11-17 23:27:44,427] Trial 17 finished with value: 0.5480843784601085 and parameters: {'classifier__n_estimators': 199, 'classifier__learning_rate': 0.2968379050471063, 'classifier__max_depth': 7}. Best is trial 17 with value: 0.5480843784601085.\n",
      "[I 2024-11-17 23:27:49,482] Trial 18 finished with value: 0.5415384488435843 and parameters: {'classifier__n_estimators': 183, 'classifier__learning_rate': 0.2977141221867532, 'classifier__max_depth': 7}. Best is trial 17 with value: 0.5480843784601085.\n",
      "[I 2024-11-17 23:27:54,324] Trial 19 finished with value: 0.5118918110774145 and parameters: {'classifier__n_estimators': 178, 'classifier__learning_rate': 0.2983067803416866, 'classifier__max_depth': 5}. Best is trial 17 with value: 0.5480843784601085.\n",
      "2024/11/17 23:27:59 WARNING mlflow.models.model: Model logged without a signature and input example. Please set `input_example` parameter when logging the model to auto infer the model signature.\n",
      "2024/11/17 23:27:59 INFO mlflow.tracking._tracking_service.client: 🏃 View run XGBoost at: http://127.0.0.1:5000/#/experiments/696437413843260424/runs/46bc4b6604614360aaa1b38c65c416d2.\n",
      "2024/11/17 23:27:59 INFO mlflow.tracking._tracking_service.client: 🧪 View experiment at: http://127.0.0.1:5000/#/experiments/696437413843260424.\n"
     ]
    },
    {
     "name": "stdout",
     "output_type": "stream",
     "text": [
      "Best parameters for XGBoost: {'classifier__n_estimators': 199, 'classifier__learning_rate': 0.2968379050471063, 'classifier__max_depth': 7}\n",
      "Test Accuracy: 0.8793224792380238\n",
      "              precision    recall  f1-score   support\n",
      "\n",
      "           0       0.89      0.98      0.93     17359\n",
      "           1       0.83      0.44      0.58      3954\n",
      "\n",
      "    accuracy                           0.88     21313\n",
      "   macro avg       0.86      0.71      0.75     21313\n",
      "weighted avg       0.87      0.88      0.86     21313\n",
      "\n"
     ]
    }
   ],
   "source": [
    "# XGBoost\n",
    "\n",
    "xgb_param_distributions = {\n",
    "    \"classifier__n_estimators\": optuna.distributions.IntDistribution(50, 200),\n",
    "    \"classifier__learning_rate\": optuna.distributions.FloatDistribution(0.01, 0.3),\n",
    "    \"classifier__max_depth\": optuna.distributions.IntDistribution(3, 10),\n",
    "}\n",
    "\n",
    "xgb_model, xgb_acc = train_model_with_optuna(\n",
    "    model=XGBClassifier(random_state=42),\n",
    "    model_name=\"XGBoost\",\n",
    "    param_distributions=xgb_param_distributions\n",
    ")\n",
    "best_models.append((\"xgboost\", xgb_model))"
   ]
  },
  {
   "cell_type": "code",
   "execution_count": 8,
   "id": "7ad32ba3-ccf5-4f2d-81d2-39db408bf2d4",
   "metadata": {},
   "outputs": [
    {
     "name": "stderr",
     "output_type": "stream",
     "text": [
      "/tmp/ipykernel_115956/3889496614.py:13: ExperimentalWarning: OptunaSearchCV is experimental (supported from v0.17.0). The interface can change in the future.\n",
      "  search = OptunaSearchCV(\n",
      "[I 2024-11-17 23:27:59,324] A new study created in memory with name: no-name-d24322bb-e4f6-44da-81e2-858b2e46d4d2\n",
      "[I 2024-11-17 23:28:05,664] Trial 0 finished with value: 0.4415919369883356 and parameters: {'classifier__iterations': 118, 'classifier__learning_rate': 0.2514632893713383, 'classifier__depth': 3}. Best is trial 0 with value: 0.4415919369883356.\n",
      "[I 2024-11-17 23:28:13,301] Trial 1 finished with value: 0.4165651630728729 and parameters: {'classifier__iterations': 98, 'classifier__learning_rate': 0.15070428596302937, 'classifier__depth': 5}. Best is trial 0 with value: 0.4415919369883356.\n",
      "[I 2024-11-17 23:28:18,918] Trial 2 finished with value: 0.3263236967698304 and parameters: {'classifier__iterations': 82, 'classifier__learning_rate': 0.058356583011244335, 'classifier__depth': 4}. Best is trial 0 with value: 0.4415919369883356.\n",
      "[I 2024-11-17 23:28:40,055] Trial 3 finished with value: 0.4386829066474393 and parameters: {'classifier__iterations': 98, 'classifier__learning_rate': 0.11122962233129385, 'classifier__depth': 10}. Best is trial 0 with value: 0.4415919369883356.\n",
      "[I 2024-11-17 23:28:47,864] Trial 4 finished with value: 0.39754350902364544 and parameters: {'classifier__iterations': 126, 'classifier__learning_rate': 0.0787472520910885, 'classifier__depth': 6}. Best is trial 0 with value: 0.4415919369883356.\n",
      "[I 2024-11-17 23:29:12,449] Trial 5 finished with value: 0.539660568752958 and parameters: {'classifier__iterations': 121, 'classifier__learning_rate': 0.25852069971034985, 'classifier__depth': 10}. Best is trial 5 with value: 0.539660568752958.\n",
      "[I 2024-11-17 23:29:20,133] Trial 6 finished with value: 0.5116049071638207 and parameters: {'classifier__iterations': 119, 'classifier__learning_rate': 0.28619022315590475, 'classifier__depth': 6}. Best is trial 5 with value: 0.539660568752958.\n",
      "[I 2024-11-17 23:29:28,204] Trial 7 finished with value: 0.48522033712257445 and parameters: {'classifier__iterations': 189, 'classifier__learning_rate': 0.2664696158551356, 'classifier__depth': 3}. Best is trial 5 with value: 0.539660568752958.\n",
      "[I 2024-11-17 23:29:40,462] Trial 8 finished with value: 0.5263694704583716 and parameters: {'classifier__iterations': 118, 'classifier__learning_rate': 0.2444965142409548, 'classifier__depth': 9}. Best is trial 5 with value: 0.539660568752958.\n",
      "[I 2024-11-17 23:29:50,588] Trial 9 finished with value: 0.3686978426219225 and parameters: {'classifier__iterations': 128, 'classifier__learning_rate': 0.03902521465537052, 'classifier__depth': 8}. Best is trial 5 with value: 0.539660568752958.\n",
      "[I 2024-11-17 23:30:04,985] Trial 10 finished with value: 0.44207300989745385 and parameters: {'classifier__iterations': 54, 'classifier__learning_rate': 0.18928913008890008, 'classifier__depth': 10}. Best is trial 5 with value: 0.539660568752958.\n",
      "[I 2024-11-17 23:30:19,661] Trial 11 finished with value: 0.5321128410694785 and parameters: {'classifier__iterations': 161, 'classifier__learning_rate': 0.2177366780874564, 'classifier__depth': 8}. Best is trial 5 with value: 0.539660568752958.\n",
      "[I 2024-11-17 23:30:32,900] Trial 12 finished with value: 0.5244471638869471 and parameters: {'classifier__iterations': 162, 'classifier__learning_rate': 0.19940562970878375, 'classifier__depth': 8}. Best is trial 5 with value: 0.539660568752958.\n",
      "[I 2024-11-17 23:30:45,937] Trial 13 finished with value: 0.5347298308466574 and parameters: {'classifier__iterations': 160, 'classifier__learning_rate': 0.22342293143129957, 'classifier__depth': 8}. Best is trial 5 with value: 0.539660568752958.\n",
      "[I 2024-11-17 23:31:01,429] Trial 14 finished with value: 0.5113540221467362 and parameters: {'classifier__iterations': 155, 'classifier__learning_rate': 0.15492298915020253, 'classifier__depth': 9}. Best is trial 5 with value: 0.539660568752958.\n",
      "[I 2024-11-17 23:31:13,644] Trial 15 finished with value: 0.560847708867184 and parameters: {'classifier__iterations': 200, 'classifier__learning_rate': 0.29301639524079126, 'classifier__depth': 7}. Best is trial 15 with value: 0.560847708867184.\n",
      "[I 2024-11-17 23:31:25,731] Trial 16 finished with value: 0.5560549120759216 and parameters: {'classifier__iterations': 198, 'classifier__learning_rate': 0.27195707020413196, 'classifier__depth': 7}. Best is trial 15 with value: 0.560847708867184.\n",
      "[I 2024-11-17 23:31:37,822] Trial 17 finished with value: 0.5622485431295215 and parameters: {'classifier__iterations': 199, 'classifier__learning_rate': 0.2968379050471063, 'classifier__depth': 7}. Best is trial 17 with value: 0.5622485431295215.\n",
      "[I 2024-11-17 23:31:49,102] Trial 18 finished with value: 0.5584524049826852 and parameters: {'classifier__iterations': 183, 'classifier__learning_rate': 0.2977141221867532, 'classifier__depth': 7}. Best is trial 17 with value: 0.5622485431295215.\n",
      "[I 2024-11-17 23:31:58,287] Trial 19 finished with value: 0.5321411024183574 and parameters: {'classifier__iterations': 178, 'classifier__learning_rate': 0.2983067803416866, 'classifier__depth': 5}. Best is trial 17 with value: 0.5622485431295215.\n",
      "2024/11/17 23:32:06 WARNING mlflow.models.model: Model logged without a signature and input example. Please set `input_example` parameter when logging the model to auto infer the model signature.\n",
      "2024/11/17 23:32:06 INFO mlflow.tracking._tracking_service.client: 🏃 View run CatBoost at: http://127.0.0.1:5000/#/experiments/696437413843260424/runs/ac6adca554074aa68cb6a096d2594a90.\n",
      "2024/11/17 23:32:06 INFO mlflow.tracking._tracking_service.client: 🧪 View experiment at: http://127.0.0.1:5000/#/experiments/696437413843260424.\n"
     ]
    },
    {
     "name": "stdout",
     "output_type": "stream",
     "text": [
      "Best parameters for CatBoost: {'classifier__iterations': 199, 'classifier__learning_rate': 0.2968379050471063, 'classifier__depth': 7}\n",
      "Test Accuracy: 0.8802139539248346\n",
      "              precision    recall  f1-score   support\n",
      "\n",
      "           0       0.89      0.98      0.93     17359\n",
      "           1       0.81      0.46      0.59      3954\n",
      "\n",
      "    accuracy                           0.88     21313\n",
      "   macro avg       0.85      0.72      0.76     21313\n",
      "weighted avg       0.87      0.88      0.87     21313\n",
      "\n"
     ]
    }
   ],
   "source": [
    "# CatBoost\n",
    "catboost_param_distributions = {\n",
    "    \"classifier__iterations\": optuna.distributions.IntDistribution(50, 200),\n",
    "    \"classifier__learning_rate\": optuna.distributions.FloatDistribution(0.01, 0.3),\n",
    "    \"classifier__depth\": optuna.distributions.IntDistribution(3, 10),\n",
    "}\n",
    "\n",
    "catboost_model, catboost_acc = train_model_with_optuna(\n",
    "    model=CatBoostClassifier(verbose=0, random_state=42),\n",
    "    model_name=\"CatBoost\",\n",
    "    param_distributions=catboost_param_distributions\n",
    ")\n",
    "best_models.append((\"catboost\", catboost_model))"
   ]
  },
  {
   "cell_type": "code",
   "execution_count": 9,
   "id": "cf053c75-cc3a-4b62-a136-5fa0b8a52bb3",
   "metadata": {},
   "outputs": [
    {
     "name": "stderr",
     "output_type": "stream",
     "text": [
      "2024/11/17 23:32:54 WARNING mlflow.models.model: Model logged without a signature and input example. Please set `input_example` parameter when logging the model to auto infer the model signature.\n",
      "2024/11/17 23:32:54 INFO mlflow.tracking._tracking_service.client: 🏃 View run Stacking Classifier at: http://127.0.0.1:5000/#/experiments/696437413843260424/runs/9dba0b7ae0cc44a2878713c76654214b.\n",
      "2024/11/17 23:32:54 INFO mlflow.tracking._tracking_service.client: 🧪 View experiment at: http://127.0.0.1:5000/#/experiments/696437413843260424.\n"
     ]
    },
    {
     "name": "stdout",
     "output_type": "stream",
     "text": [
      "Stacking Classifier Test Accuracy: 0.8856566414864168\n",
      "              precision    recall  f1-score   support\n",
      "\n",
      "           0       0.91      0.96      0.93     17359\n",
      "           1       0.76      0.56      0.65      3954\n",
      "\n",
      "    accuracy                           0.89     21313\n",
      "   macro avg       0.83      0.76      0.79     21313\n",
      "weighted avg       0.88      0.89      0.88     21313\n",
      "\n"
     ]
    }
   ],
   "source": [
    "# Stacking the best models\n",
    "stacked_classifier = StackingClassifier(\n",
    "    estimators=best_models,\n",
    "    final_estimator=GradientBoostingClassifier(random_state=42),\n",
    "    cv=3\n",
    ")\n",
    "\n",
    "# Train the stacked classifier\n",
    "with mlflow.start_run(run_name=\"Stacking Classifier\"):\n",
    "    stacked_classifier.fit(X_train, y_train)\n",
    "    y_pred = stacked_classifier.predict(X_test)\n",
    "    acc = accuracy_score(y_test, y_pred)\n",
    "    f1 = f1_score(y_test, y_pred)\n",
    "    pr_auc = average_precision_score(y_test, y_pred)\n",
    "    f1_1 = f1_score(y_test, y_pred, pos_label=1)\n",
    "\n",
    "    # Log results\n",
    "    mlflow.log_param(\"scoring\", \"f1\")\n",
    "    mlflow.log_param(\"feature_extraction\", \"BoW\")\n",
    "    mlflow.log_param(\"model_name\", \"Stacking Classifier\")\n",
    "    mlflow.log_metric(\"accuracy\", acc)\n",
    "    mlflow.log_metric(\"f1\", f1)\n",
    "    mlflow.log_metric(\"pr_auc\", pr_auc)\n",
    "    mlflow.log_metric(\"f1_1\", f1_1)\n",
    "    mlflow.sklearn.log_model(stacked_classifier, \"Stacking Classifier\")\n",
    "\n",
    "    print(f\"Stacking Classifier Test Accuracy: {acc}\")\n",
    "    print(classification_report(y_test, y_pred))\n"
   ]
  },
  {
   "cell_type": "code",
   "execution_count": null,
   "id": "e2caa3fe-912f-4b07-a81d-c2d8bf4120f9",
   "metadata": {},
   "outputs": [],
   "source": []
  }
 ],
 "metadata": {
  "kernelspec": {
   "display_name": "Python 3 (ipykernel)",
   "language": "python",
   "name": "python3"
  },
  "language_info": {
   "codemirror_mode": {
    "name": "ipython",
    "version": 3
   },
   "file_extension": ".py",
   "mimetype": "text/x-python",
   "name": "python",
   "nbconvert_exporter": "python",
   "pygments_lexer": "ipython3",
   "version": "3.12.6"
  }
 },
 "nbformat": 4,
 "nbformat_minor": 5
}
