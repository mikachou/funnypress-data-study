{
 "cells": [
  {
   "cell_type": "code",
   "execution_count": 1,
   "id": "e2f5161b-e12c-4285-9f1e-d94ac4f0f530",
   "metadata": {},
   "outputs": [
    {
     "name": "stderr",
     "output_type": "stream",
     "text": [
      "2024-11-21 00:40:36.128584: E external/local_xla/xla/stream_executor/cuda/cuda_fft.cc:477] Unable to register cuFFT factory: Attempting to register factory for plugin cuFFT when one has already been registered\n",
      "WARNING: All log messages before absl::InitializeLog() is called are written to STDERR\n",
      "E0000 00:00:1732146036.147995   62216 cuda_dnn.cc:8310] Unable to register cuDNN factory: Attempting to register factory for plugin cuDNN when one has already been registered\n",
      "E0000 00:00:1732146036.153697   62216 cuda_blas.cc:1418] Unable to register cuBLAS factory: Attempting to register factory for plugin cuBLAS when one has already been registered\n",
      "2024-11-21 00:40:36.171782: I tensorflow/core/platform/cpu_feature_guard.cc:210] This TensorFlow binary is optimized to use available CPU instructions in performance-critical operations.\n",
      "To enable the following instructions: AVX2 FMA, in other operations, rebuild TensorFlow with the appropriate compiler flags.\n"
     ]
    }
   ],
   "source": [
    "import pandas as pd\n",
    "from sklearn.model_selection import train_test_split\n",
    "from sklearn.feature_extraction.text import CountVectorizer\n",
    "from sklearn.metrics import accuracy_score, classification_report, f1_score, average_precision_score, make_scorer\n",
    "from sklearn.ensemble import RandomForestClassifier, GradientBoostingClassifier, StackingClassifier\n",
    "from sklearn.svm import SVC\n",
    "from sklearn.neural_network import MLPClassifier\n",
    "from lightgbm import LGBMClassifier\n",
    "from xgboost import XGBClassifier\n",
    "from catboost import CatBoostClassifier\n",
    "import optuna\n",
    "\n",
    "from functions import *\n",
    "\n",
    "# Load your dataset\n",
    "df = pd.read_csv(\"../data/clean/dataset.csv\").fillna('')\n",
    "X = df[\"lemmes\"]\n",
    "y = df[\"funny\"]\n",
    "\n",
    "# Split into train/test sets\n",
    "X_train, X_test, y_train, y_test = train_test_split(X, y, test_size=0.2, random_state=42, stratify=y)"
   ]
  },
  {
   "cell_type": "code",
   "execution_count": 2,
   "id": "cd8c793b-8e0f-45a7-aff1-8963ed1f1db8",
   "metadata": {},
   "outputs": [],
   "source": [
    "vectorizer = CountVectorizer(min_df=50, max_features=10000)"
   ]
  },
  {
   "cell_type": "code",
   "execution_count": 3,
   "id": "d3a7305c-5102-45d4-b50d-05f6b476372e",
   "metadata": {},
   "outputs": [],
   "source": [
    "X_train_embeddings = vectorizer.fit_transform(X_train)\n",
    "X_test_embeddings = vectorizer.transform(X_test)"
   ]
  },
  {
   "cell_type": "code",
   "execution_count": 4,
   "id": "2476ad58-6b1c-48e3-9a8a-6e8f318675f7",
   "metadata": {},
   "outputs": [],
   "source": [
    "# Train models\n",
    "best_models = []"
   ]
  },
  {
   "cell_type": "code",
   "execution_count": 5,
   "id": "8eac7d57-d971-40cb-be09-218e33f62f3d",
   "metadata": {},
   "outputs": [
    {
     "name": "stderr",
     "output_type": "stream",
     "text": [
      "/home/michael/code/python/funnypress-data-study/notebooks/functions.py:139: ExperimentalWarning: OptunaSearchCV is experimental (supported from v0.17.0). The interface can change in the future.\n",
      "  search = OptunaSearchCV(\n",
      "[I 2024-11-21 00:40:39,943] A new study created in memory with name: no-name-fe5fef4b-b8a6-40e9-a11e-807aca4fcbdf\n",
      "[I 2024-11-21 00:40:53,679] Trial 2 finished with value: 0.0 and parameters: {'classifier__n_estimators': 70, 'classifier__max_depth': 8, 'classifier__min_samples_split': 10, 'classifier__min_samples_leaf': 3}. Best is trial 2 with value: 0.0.\n",
      "[I 2024-11-21 00:41:05,246] Trial 1 finished with value: 0.0 and parameters: {'classifier__n_estimators': 129, 'classifier__max_depth': 8, 'classifier__min_samples_split': 5, 'classifier__min_samples_leaf': 4}. Best is trial 2 with value: 0.0.\n",
      "[I 2024-11-21 00:41:07,959] Trial 5 finished with value: 0.0 and parameters: {'classifier__n_estimators': 142, 'classifier__max_depth': 8, 'classifier__min_samples_split': 4, 'classifier__min_samples_leaf': 3}. Best is trial 2 with value: 0.0.\n",
      "[I 2024-11-21 00:41:08,167] Trial 7 finished with value: 0.004037976754872902 and parameters: {'classifier__n_estimators': 128, 'classifier__max_depth': 13, 'classifier__min_samples_split': 9, 'classifier__min_samples_leaf': 5}. Best is trial 7 with value: 0.004037976754872902.\n",
      "[I 2024-11-21 00:41:13,692] Trial 6 finished with value: 0.0002528844697280063 and parameters: {'classifier__n_estimators': 163, 'classifier__max_depth': 10, 'classifier__min_samples_split': 3, 'classifier__min_samples_leaf': 4}. Best is trial 7 with value: 0.004037976754872902.\n",
      "[I 2024-11-21 00:41:15,986] Trial 4 finished with value: 0.0 and parameters: {'classifier__n_estimators': 186, 'classifier__max_depth': 7, 'classifier__min_samples_split': 10, 'classifier__min_samples_leaf': 4}. Best is trial 7 with value: 0.004037976754872902.\n",
      "[I 2024-11-21 00:41:19,116] Trial 3 finished with value: 0.0 and parameters: {'classifier__n_estimators': 195, 'classifier__max_depth': 8, 'classifier__min_samples_split': 9, 'classifier__min_samples_leaf': 2}. Best is trial 7 with value: 0.004037976754872902.\n",
      "[I 2024-11-21 00:41:22,335] Trial 8 finished with value: 0.0008848359459524347 and parameters: {'classifier__n_estimators': 125, 'classifier__max_depth': 12, 'classifier__min_samples_split': 9, 'classifier__min_samples_leaf': 5}. Best is trial 7 with value: 0.004037976754872902.\n",
      "[I 2024-11-21 00:41:29,168] Trial 0 finished with value: 0.014305750018164243 and parameters: {'classifier__n_estimators': 186, 'classifier__max_depth': 15, 'classifier__min_samples_split': 3, 'classifier__min_samples_leaf': 1}. Best is trial 0 with value: 0.014305750018164243.\n",
      "[I 2024-11-21 00:41:29,974] Trial 10 finished with value: 0.000632031389159286 and parameters: {'classifier__n_estimators': 91, 'classifier__max_depth': 11, 'classifier__min_samples_split': 9, 'classifier__min_samples_leaf': 1}. Best is trial 0 with value: 0.014305750018164243.\n",
      "[I 2024-11-21 00:41:36,531] Trial 14 finished with value: 0.0 and parameters: {'classifier__n_estimators': 80, 'classifier__max_depth': 9, 'classifier__min_samples_split': 5, 'classifier__min_samples_leaf': 5}. Best is trial 0 with value: 0.014305750018164243.\n",
      "[I 2024-11-21 00:41:39,503] Trial 9 finished with value: 0.004919268046253547 and parameters: {'classifier__n_estimators': 139, 'classifier__max_depth': 14, 'classifier__min_samples_split': 7, 'classifier__min_samples_leaf': 4}. Best is trial 0 with value: 0.014305750018164243.\n",
      "[I 2024-11-21 00:41:41,278] Trial 13 finished with value: 0.0 and parameters: {'classifier__n_estimators': 132, 'classifier__max_depth': 4, 'classifier__min_samples_split': 8, 'classifier__min_samples_leaf': 1}. Best is trial 0 with value: 0.014305750018164243.\n",
      "[I 2024-11-21 00:41:42,972] Trial 12 finished with value: 0.0001264622194119507 and parameters: {'classifier__n_estimators': 130, 'classifier__max_depth': 10, 'classifier__min_samples_split': 4, 'classifier__min_samples_leaf': 3}. Best is trial 0 with value: 0.014305750018164243.\n",
      "[I 2024-11-21 00:41:46,385] Trial 11 finished with value: 0.00012642225031605565 and parameters: {'classifier__n_estimators': 182, 'classifier__max_depth': 9, 'classifier__min_samples_split': 6, 'classifier__min_samples_leaf': 2}. Best is trial 0 with value: 0.014305750018164243.\n",
      "[I 2024-11-21 00:41:53,531] Trial 17 finished with value: 0.0 and parameters: {'classifier__n_estimators': 165, 'classifier__max_depth': 3, 'classifier__min_samples_split': 2, 'classifier__min_samples_leaf': 1}. Best is trial 0 with value: 0.014305750018164243.\n",
      "[I 2024-11-21 00:41:54,168] Trial 16 finished with value: 0.0 and parameters: {'classifier__n_estimators': 177, 'classifier__max_depth': 3, 'classifier__min_samples_split': 9, 'classifier__min_samples_leaf': 2}. Best is trial 0 with value: 0.014305750018164243.\n",
      "[I 2024-11-21 00:41:57,105] Trial 18 finished with value: 0.015554614342475598 and parameters: {'classifier__n_estimators': 105, 'classifier__max_depth': 15, 'classifier__min_samples_split': 2, 'classifier__min_samples_leaf': 1}. Best is trial 18 with value: 0.015554614342475598.\n",
      "[I 2024-11-21 00:41:57,200] Trial 15 finished with value: 0.004038890733412664 and parameters: {'classifier__n_estimators': 190, 'classifier__max_depth': 13, 'classifier__min_samples_split': 8, 'classifier__min_samples_leaf': 4}. Best is trial 18 with value: 0.015554614342475598.\n",
      "[I 2024-11-21 00:42:02,782] Trial 19 finished with value: 0.011189770878866353 and parameters: {'classifier__n_estimators': 164, 'classifier__max_depth': 15, 'classifier__min_samples_split': 7, 'classifier__min_samples_leaf': 1}. Best is trial 18 with value: 0.015554614342475598.\n"
     ]
    },
    {
     "name": "stdout",
     "output_type": "stream",
     "text": [
      "Best parameters: {'classifier__n_estimators': 105, 'classifier__max_depth': 15, 'classifier__min_samples_split': 2, 'classifier__min_samples_leaf': 1}\n",
      "Test Accuracy: 0.8158870173133768\n",
      "F1 Score: 0.015060240963855422\n",
      "              precision    recall  f1-score   support\n",
      "\n",
      "           0       0.82      1.00      0.90     17359\n",
      "           1       1.00      0.01      0.02      3954\n",
      "\n",
      "    accuracy                           0.82     21313\n",
      "   macro avg       0.91      0.50      0.46     21313\n",
      "weighted avg       0.85      0.82      0.73     21313\n",
      "\n"
     ]
    }
   ],
   "source": [
    "# Random Forest\n",
    "\n",
    "rf_param_distributions = {\n",
    "    \"classifier__n_estimators\": optuna.distributions.IntDistribution(50, 200),\n",
    "    \"classifier__max_depth\": optuna.distributions.IntDistribution(3, 15),\n",
    "    \"classifier__min_samples_split\": optuna.distributions.IntDistribution(2, 10),\n",
    "    \"classifier__min_samples_leaf\": optuna.distributions.IntDistribution(1, 5),\n",
    "}\n",
    "\n",
    "rf_model, rf_acc = train_model_with_optuna(\n",
    "    model=RandomForestClassifier(random_state=314),\n",
    "    param_distributions=rf_param_distributions,\n",
    "    X_train_embeddings=X_train_embeddings,\n",
    "    y_train=y_train,\n",
    "    X_test_embeddings=X_test_embeddings,\n",
    "    y_test=y_test,\n",
    ")\n",
    "best_models.append((\"random_forest\", rf_model))"
   ]
  },
  {
   "cell_type": "code",
   "execution_count": 6,
   "id": "0f538672-aff1-43df-a3d2-a86b66a5cdd6",
   "metadata": {},
   "outputs": [
    {
     "name": "stderr",
     "output_type": "stream",
     "text": [
      "/home/michael/code/python/funnypress-data-study/notebooks/functions.py:139: ExperimentalWarning: OptunaSearchCV is experimental (supported from v0.17.0). The interface can change in the future.\n",
      "  search = OptunaSearchCV(\n",
      "[I 2024-11-21 00:42:05,394] A new study created in memory with name: no-name-bffad89f-77bc-4076-a39b-129bfd9c2180\n",
      "[I 2024-11-21 00:42:13,477] Trial 5 finished with value: 0.3358280471501819 and parameters: {'classifier__n_estimators': 81, 'classifier__learning_rate': 0.12026040974662963, 'classifier__max_depth': 3}. Best is trial 5 with value: 0.3358280471501819.\n",
      "[I 2024-11-21 00:42:17,710] Trial 1 finished with value: 0.46150465050533696 and parameters: {'classifier__n_estimators': 50, 'classifier__learning_rate': 0.2803619948688601, 'classifier__max_depth': 8}. Best is trial 1 with value: 0.46150465050533696.\n",
      "[I 2024-11-21 00:42:23,232] Trial 0 finished with value: 0.422773120709152 and parameters: {'classifier__n_estimators': 95, 'classifier__learning_rate': 0.12792836440140917, 'classifier__max_depth': 7}. Best is trial 1 with value: 0.46150465050533696.\n",
      "[I 2024-11-21 00:42:24,049] Trial 7 finished with value: 0.4772388156501151 and parameters: {'classifier__n_estimators': 78, 'classifier__learning_rate': 0.20438633580976284, 'classifier__max_depth': 9}. Best is trial 7 with value: 0.4772388156501151.\n",
      "[I 2024-11-21 00:42:24,810] Trial 6 finished with value: 0.3868599692078003 and parameters: {'classifier__n_estimators': 68, 'classifier__learning_rate': 0.08226538317627967, 'classifier__max_depth': 10}. Best is trial 7 with value: 0.4772388156501151.\n",
      "[I 2024-11-21 00:42:28,519] Trial 4 finished with value: 0.49345174049439555 and parameters: {'classifier__n_estimators': 144, 'classifier__learning_rate': 0.210809875494651, 'classifier__max_depth': 6}. Best is trial 4 with value: 0.49345174049439555.\n",
      "[I 2024-11-21 00:42:32,287] Trial 8 finished with value: 0.41219088699428275 and parameters: {'classifier__n_estimators': 87, 'classifier__learning_rate': 0.10638598227688922, 'classifier__max_depth': 8}. Best is trial 4 with value: 0.49345174049439555.\n",
      "[I 2024-11-21 00:42:33,656] Trial 2 finished with value: 0.37180795924347365 and parameters: {'classifier__n_estimators': 111, 'classifier__learning_rate': 0.04556749926815968, 'classifier__max_depth': 9}. Best is trial 4 with value: 0.49345174049439555.\n",
      "[I 2024-11-21 00:42:35,513] Trial 10 finished with value: 0.40842683408447666 and parameters: {'classifier__n_estimators': 59, 'classifier__learning_rate': 0.1707553132550824, 'classifier__max_depth': 7}. Best is trial 4 with value: 0.49345174049439555.\n",
      "[I 2024-11-21 00:42:35,713] Trial 3 finished with value: 0.4061820809706858 and parameters: {'classifier__n_estimators': 113, 'classifier__learning_rate': 0.06117862816880096, 'classifier__max_depth': 10}. Best is trial 4 with value: 0.49345174049439555.\n",
      "[I 2024-11-21 00:42:41,320] Trial 11 finished with value: 0.3178348724376755 and parameters: {'classifier__n_estimators': 120, 'classifier__learning_rate': 0.03253258435783748, 'classifier__max_depth': 5}. Best is trial 4 with value: 0.49345174049439555.\n",
      "[I 2024-11-21 00:42:47,536] Trial 13 finished with value: 0.43117211934166255 and parameters: {'classifier__n_estimators': 170, 'classifier__learning_rate': 0.15342430123699471, 'classifier__max_depth': 4}. Best is trial 4 with value: 0.49345174049439555.\n",
      "[I 2024-11-21 00:42:53,491] Trial 17 finished with value: 0.47706903822517593 and parameters: {'classifier__n_estimators': 164, 'classifier__learning_rate': 0.24780614997295353, 'classifier__max_depth': 4}. Best is trial 4 with value: 0.49345174049439555.\n",
      "[I 2024-11-21 00:42:53,620] Trial 16 finished with value: 0.4886037860028967 and parameters: {'classifier__n_estimators': 117, 'classifier__learning_rate': 0.23617170779170638, 'classifier__max_depth': 6}. Best is trial 4 with value: 0.49345174049439555.\n",
      "[I 2024-11-21 00:42:54,830] Trial 12 finished with value: 0.466642261710969 and parameters: {'classifier__n_estimators': 116, 'classifier__learning_rate': 0.11388253946079654, 'classifier__max_depth': 10}. Best is trial 4 with value: 0.49345174049439555.\n",
      "[I 2024-11-21 00:42:56,646] Trial 15 finished with value: 0.43802017739961724 and parameters: {'classifier__n_estimators': 132, 'classifier__learning_rate': 0.11217193913679305, 'classifier__max_depth': 7}. Best is trial 4 with value: 0.49345174049439555.\n",
      "[I 2024-11-21 00:42:56,918] Trial 14 finished with value: 0.3636625223533999 and parameters: {'classifier__n_estimators': 195, 'classifier__learning_rate': 0.04323142562559665, 'classifier__max_depth': 5}. Best is trial 4 with value: 0.49345174049439555.\n",
      "[I 2024-11-21 00:42:57,151] Trial 9 finished with value: 0.5836198025435239 and parameters: {'classifier__n_estimators': 192, 'classifier__learning_rate': 0.27946163509335914, 'classifier__max_depth': 9}. Best is trial 9 with value: 0.5836198025435239.\n",
      "[I 2024-11-21 00:42:58,342] Trial 18 finished with value: 0.48457419732601137 and parameters: {'classifier__n_estimators': 164, 'classifier__learning_rate': 0.20809365232719745, 'classifier__max_depth': 5}. Best is trial 9 with value: 0.5836198025435239.\n",
      "[I 2024-11-21 00:42:59,343] Trial 19 finished with value: 0.49313251715552936 and parameters: {'classifier__n_estimators': 160, 'classifier__learning_rate': 0.22966894738957064, 'classifier__max_depth': 5}. Best is trial 9 with value: 0.5836198025435239.\n"
     ]
    },
    {
     "name": "stdout",
     "output_type": "stream",
     "text": [
      "Best parameters: {'classifier__n_estimators': 192, 'classifier__learning_rate': 0.27946163509335914, 'classifier__max_depth': 9}\n",
      "Test Accuracy: 0.8823253413409656\n",
      "F1 Score: 0.5901960784313726\n",
      "              precision    recall  f1-score   support\n",
      "\n",
      "           0       0.89      0.98      0.93     17359\n",
      "           1       0.83      0.46      0.59      3954\n",
      "\n",
      "    accuracy                           0.88     21313\n",
      "   macro avg       0.86      0.72      0.76     21313\n",
      "weighted avg       0.88      0.88      0.87     21313\n",
      "\n"
     ]
    }
   ],
   "source": [
    "# XGBoost\n",
    "\n",
    "xgb_param_distributions = {\n",
    "    \"classifier__n_estimators\": optuna.distributions.IntDistribution(50, 200),\n",
    "    \"classifier__learning_rate\": optuna.distributions.FloatDistribution(0.01, 0.3),\n",
    "    \"classifier__max_depth\": optuna.distributions.IntDistribution(3, 10),\n",
    "}\n",
    "\n",
    "xgb_model, xgb_acc = train_model_with_optuna(\n",
    "    model=XGBClassifier(random_state=314),\n",
    "    param_distributions=xgb_param_distributions,\n",
    "    X_train_embeddings=X_train_embeddings,\n",
    "    y_train=y_train,\n",
    "    X_test_embeddings=X_test_embeddings,\n",
    "    y_test=y_test,\n",
    ")\n",
    "best_models.append((\"xgboost\", xgb_model))"
   ]
  },
  {
   "cell_type": "code",
   "execution_count": 7,
   "id": "7ad32ba3-ccf5-4f2d-81d2-39db408bf2d4",
   "metadata": {},
   "outputs": [
    {
     "name": "stderr",
     "output_type": "stream",
     "text": [
      "/home/michael/code/python/funnypress-data-study/notebooks/functions.py:139: ExperimentalWarning: OptunaSearchCV is experimental (supported from v0.17.0). The interface can change in the future.\n",
      "  search = OptunaSearchCV(\n",
      "[I 2024-11-21 00:43:00,826] A new study created in memory with name: no-name-5d8a8a8d-8e25-4ab1-b699-8a1d62f80762\n",
      "[I 2024-11-21 00:43:11,576] Trial 0 finished with value: 0.4093662591346961 and parameters: {'classifier__iterations': 162, 'classifier__learning_rate': 0.10223368484312673, 'classifier__depth': 4}. Best is trial 0 with value: 0.4093662591346961.\n",
      "[I 2024-11-21 00:43:26,102] Trial 1 finished with value: 0.5539762274032631 and parameters: {'classifier__iterations': 199, 'classifier__learning_rate': 0.2849341173889311, 'classifier__depth': 5}. Best is trial 1 with value: 0.5539762274032631.\n",
      "[I 2024-11-21 00:43:31,514] Trial 2 finished with value: 0.2986521241238643 and parameters: {'classifier__iterations': 77, 'classifier__learning_rate': 0.025252317480855793, 'classifier__depth': 3}. Best is trial 1 with value: 0.5539762274032631.\n",
      "[I 2024-11-21 00:43:40,136] Trial 3 finished with value: 0.4140299818767231 and parameters: {'classifier__iterations': 112, 'classifier__learning_rate': 0.12667259142102733, 'classifier__depth': 5}. Best is trial 1 with value: 0.5539762274032631.\n",
      "[I 2024-11-21 00:43:51,108] Trial 4 finished with value: 0.4275482682629714 and parameters: {'classifier__iterations': 181, 'classifier__learning_rate': 0.1477663017197216, 'classifier__depth': 3}. Best is trial 1 with value: 0.5539762274032631.\n",
      "[I 2024-11-21 00:43:56,360] Trial 5 finished with value: 0.3619846592867278 and parameters: {'classifier__iterations': 73, 'classifier__learning_rate': 0.1432318394127453, 'classifier__depth': 3}. Best is trial 1 with value: 0.5539762274032631.\n",
      "[I 2024-11-21 00:44:07,719] Trial 6 finished with value: 0.48572677510854384 and parameters: {'classifier__iterations': 143, 'classifier__learning_rate': 0.20404853189561545, 'classifier__depth': 5}. Best is trial 1 with value: 0.5539762274032631.\n",
      "[I 2024-11-21 00:44:38,112] Trial 7 finished with value: 0.45970018040776683 and parameters: {'classifier__iterations': 179, 'classifier__learning_rate': 0.08046416010940738, 'classifier__depth': 9}. Best is trial 1 with value: 0.5539762274032631.\n",
      "[I 2024-11-21 00:44:50,738] Trial 8 finished with value: 0.5382309942076807 and parameters: {'classifier__iterations': 169, 'classifier__learning_rate': 0.286781093643082, 'classifier__depth': 5}. Best is trial 1 with value: 0.5539762274032631.\n",
      "[I 2024-11-21 00:44:58,139] Trial 9 finished with value: 0.41859374439808245 and parameters: {'classifier__iterations': 116, 'classifier__learning_rate': 0.19645471219985927, 'classifier__depth': 3}. Best is trial 1 with value: 0.5539762274032631.\n",
      "[I 2024-11-21 00:45:22,281] Trial 10 finished with value: 0.5938866930502507 and parameters: {'classifier__iterations': 199, 'classifier__learning_rate': 0.29317319449311763, 'classifier__depth': 8}. Best is trial 10 with value: 0.5938866930502507.\n",
      "[I 2024-11-21 00:45:46,789] Trial 11 finished with value: 0.5969408296722672 and parameters: {'classifier__iterations': 200, 'classifier__learning_rate': 0.29934142188815765, 'classifier__depth': 8}. Best is trial 11 with value: 0.5969408296722672.\n",
      "[I 2024-11-21 00:46:09,848] Trial 12 finished with value: 0.5833671751768513 and parameters: {'classifier__iterations': 194, 'classifier__learning_rate': 0.25039145809816366, 'classifier__depth': 8}. Best is trial 11 with value: 0.5969408296722672.\n",
      "[I 2024-11-21 00:46:24,123] Trial 13 finished with value: 0.5351647134928716 and parameters: {'classifier__iterations': 145, 'classifier__learning_rate': 0.2315899131669124, 'classifier__depth': 7}. Best is trial 11 with value: 0.5969408296722672.\n",
      "[I 2024-11-21 00:46:46,776] Trial 14 finished with value: 0.4886476714796227 and parameters: {'classifier__iterations': 52, 'classifier__learning_rate': 0.2894856422801379, 'classifier__depth': 10}. Best is trial 11 with value: 0.5969408296722672.\n",
      "[I 2024-11-21 00:47:03,457] Trial 15 finished with value: 0.5460512658293512 and parameters: {'classifier__iterations': 151, 'classifier__learning_rate': 0.24727035729067562, 'classifier__depth': 7}. Best is trial 11 with value: 0.5969408296722672.\n",
      "[I 2024-11-21 00:47:29,408] Trial 16 finished with value: 0.5583873455803439 and parameters: {'classifier__iterations': 199, 'classifier__learning_rate': 0.19385742479660814, 'classifier__depth': 8}. Best is trial 11 with value: 0.5969408296722672.\n",
      "[I 2024-11-21 00:48:19,449] Trial 17 finished with value: 0.5599068686189299 and parameters: {'classifier__iterations': 124, 'classifier__learning_rate': 0.25308670953230106, 'classifier__depth': 10}. Best is trial 11 with value: 0.5969408296722672.\n",
      "[I 2024-11-21 00:48:43,375] Trial 18 finished with value: 0.5917582746556459 and parameters: {'classifier__iterations': 183, 'classifier__learning_rate': 0.2988475969994817, 'classifier__depth': 8}. Best is trial 11 with value: 0.5969408296722672.\n",
      "[I 2024-11-21 00:49:01,424] Trial 19 finished with value: 0.3142934123472025 and parameters: {'classifier__iterations': 99, 'classifier__learning_rate': 0.012012384985819469, 'classifier__depth': 9}. Best is trial 11 with value: 0.5969408296722672.\n"
     ]
    },
    {
     "name": "stdout",
     "output_type": "stream",
     "text": [
      "Best parameters: {'classifier__iterations': 200, 'classifier__learning_rate': 0.29934142188815765, 'classifier__depth': 8}\n",
      "Test Accuracy: 0.8822315019002487\n",
      "F1 Score: 0.5990415335463258\n",
      "              precision    recall  f1-score   support\n",
      "\n",
      "           0       0.89      0.98      0.93     17359\n",
      "           1       0.81      0.47      0.60      3954\n",
      "\n",
      "    accuracy                           0.88     21313\n",
      "   macro avg       0.85      0.72      0.77     21313\n",
      "weighted avg       0.88      0.88      0.87     21313\n",
      "\n"
     ]
    }
   ],
   "source": [
    "# CatBoost\n",
    "catboost_param_distributions = {\n",
    "    \"classifier__iterations\": optuna.distributions.IntDistribution(50, 200),\n",
    "    \"classifier__learning_rate\": optuna.distributions.FloatDistribution(0.01, 0.3),\n",
    "    \"classifier__depth\": optuna.distributions.IntDistribution(3, 10),\n",
    "}\n",
    "\n",
    "catboost_model, catboost_acc = train_model_with_optuna(\n",
    "    model=CatBoostClassifier(verbose=0, random_state=314),\n",
    "    param_distributions=catboost_param_distributions,\n",
    "    X_train_embeddings=X_train_embeddings,\n",
    "    y_train=y_train,\n",
    "    X_test_embeddings=X_test_embeddings,\n",
    "    y_test=y_test,\n",
    "    n_jobs=1,\n",
    ")\n",
    "best_models.append((\"catboost\", catboost_model))"
   ]
  },
  {
   "cell_type": "code",
   "execution_count": 8,
   "id": "cf053c75-cc3a-4b62-a136-5fa0b8a52bb3",
   "metadata": {},
   "outputs": [
    {
     "name": "stdout",
     "output_type": "stream",
     "text": [
      "Stacking Classifier Test Accuracy: 0.888894102191151\n",
      "Stacking Classifier F1 Score: 0.6576055523423945\n",
      "              precision    recall  f1-score   support\n",
      "\n",
      "           0       0.91      0.96      0.93     17359\n",
      "           1       0.77      0.58      0.66      3954\n",
      "\n",
      "    accuracy                           0.89     21313\n",
      "   macro avg       0.84      0.77      0.80     21313\n",
      "weighted avg       0.88      0.89      0.88     21313\n",
      "\n"
     ]
    }
   ],
   "source": [
    "# Stacking the best models\n",
    "stacked_classifier = StackingClassifier(\n",
    "    estimators=best_models,\n",
    "    final_estimator=GradientBoostingClassifier(random_state=314),\n",
    "    cv=5,\n",
    ")\n",
    "\n",
    "\n",
    "stacked_classifier.fit(X_train_embeddings, y_train)\n",
    "y_pred = stacked_classifier.predict(X_test_embeddings)\n",
    "\n",
    "acc = accuracy_score(y_test, y_pred)\n",
    "f1 = f1_score(y_test, y_pred)\n",
    "\n",
    "print(f\"Stacking Classifier Test Accuracy: {acc}\")\n",
    "print(f\"Stacking Classifier F1 Score: {f1}\")\n",
    "\n",
    "print(classification_report(y_test, y_pred))\n"
   ]
  },
  {
   "cell_type": "code",
   "execution_count": null,
   "id": "e2caa3fe-912f-4b07-a81d-c2d8bf4120f9",
   "metadata": {},
   "outputs": [],
   "source": []
  }
 ],
 "metadata": {
  "kernelspec": {
   "display_name": "Python 3 (ipykernel)",
   "language": "python",
   "name": "python3"
  },
  "language_info": {
   "codemirror_mode": {
    "name": "ipython",
    "version": 3
   },
   "file_extension": ".py",
   "mimetype": "text/x-python",
   "name": "python",
   "nbconvert_exporter": "python",
   "pygments_lexer": "ipython3",
   "version": "3.12.6"
  }
 },
 "nbformat": 4,
 "nbformat_minor": 5
}
