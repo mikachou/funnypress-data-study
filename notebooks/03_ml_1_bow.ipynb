{
 "cells": [
  {
   "cell_type": "code",
   "execution_count": 1,
   "id": "e2f5161b-e12c-4285-9f1e-d94ac4f0f530",
   "metadata": {},
   "outputs": [
    {
     "name": "stderr",
     "output_type": "stream",
     "text": [
      "2024-11-19 23:54:05.585471: E external/local_xla/xla/stream_executor/cuda/cuda_fft.cc:477] Unable to register cuFFT factory: Attempting to register factory for plugin cuFFT when one has already been registered\n",
      "WARNING: All log messages before absl::InitializeLog() is called are written to STDERR\n",
      "E0000 00:00:1732056845.605098   40280 cuda_dnn.cc:8310] Unable to register cuDNN factory: Attempting to register factory for plugin cuDNN when one has already been registered\n",
      "E0000 00:00:1732056845.610687   40280 cuda_blas.cc:1418] Unable to register cuBLAS factory: Attempting to register factory for plugin cuBLAS when one has already been registered\n",
      "2024-11-19 23:54:05.628506: I tensorflow/core/platform/cpu_feature_guard.cc:210] This TensorFlow binary is optimized to use available CPU instructions in performance-critical operations.\n",
      "To enable the following instructions: AVX2 FMA, in other operations, rebuild TensorFlow with the appropriate compiler flags.\n"
     ]
    }
   ],
   "source": [
    "import pandas as pd\n",
    "from sklearn.model_selection import train_test_split\n",
    "from sklearn.feature_extraction.text import CountVectorizer\n",
    "from sklearn.metrics import accuracy_score, classification_report, f1_score, average_precision_score, make_scorer\n",
    "from sklearn.ensemble import RandomForestClassifier, GradientBoostingClassifier, StackingClassifier\n",
    "from sklearn.svm import SVC\n",
    "from sklearn.neural_network import MLPClassifier\n",
    "from lightgbm import LGBMClassifier\n",
    "from xgboost import XGBClassifier\n",
    "from catboost import CatBoostClassifier\n",
    "import optuna\n",
    "\n",
    "from functions import *\n",
    "\n",
    "# Load your dataset\n",
    "df = pd.read_csv(\"../data/clean/dataset.csv\").fillna('')\n",
    "X = df[\"lemmes\"]\n",
    "y = df[\"funny\"]\n",
    "\n",
    "# Split into train/test sets\n",
    "X_train, X_test, y_train, y_test = train_test_split(X, y, test_size=0.2, random_state=42, stratify=y)"
   ]
  },
  {
   "cell_type": "code",
   "execution_count": 2,
   "id": "cd8c793b-8e0f-45a7-aff1-8963ed1f1db8",
   "metadata": {},
   "outputs": [],
   "source": [
    "vectorizer = CountVectorizer(min_df=50, max_features=10000)"
   ]
  },
  {
   "cell_type": "code",
   "execution_count": 3,
   "id": "2476ad58-6b1c-48e3-9a8a-6e8f318675f7",
   "metadata": {},
   "outputs": [],
   "source": [
    "# Train models\n",
    "best_models = []"
   ]
  },
  {
   "cell_type": "code",
   "execution_count": 4,
   "id": "8eac7d57-d971-40cb-be09-218e33f62f3d",
   "metadata": {},
   "outputs": [
    {
     "name": "stderr",
     "output_type": "stream",
     "text": [
      "/home/michael/code/python/funnypress-data-study/notebooks/functions.py:139: ExperimentalWarning: OptunaSearchCV is experimental (supported from v0.17.0). The interface can change in the future.\n",
      "  search = OptunaSearchCV(\n",
      "[I 2024-11-19 23:54:08,359] A new study created in memory with name: no-name-84838af4-f41e-44e3-a6a6-bb0f9eaf3623\n",
      "[I 2024-11-19 23:54:20,706] Trial 0 finished with value: 0.0 and parameters: {'classifier__n_estimators': 162, 'classifier__max_depth': 7, 'classifier__min_samples_split': 3, 'classifier__min_samples_leaf': 5}. Best is trial 0 with value: 0.0.\n",
      "[I 2024-11-19 23:54:35,308] Trial 1 finished with value: 0.00012642225031605565 and parameters: {'classifier__n_estimators': 193, 'classifier__max_depth': 7, 'classifier__min_samples_split': 3, 'classifier__min_samples_leaf': 1}. Best is trial 1 with value: 0.00012642225031605565.\n",
      "[I 2024-11-19 23:54:42,932] Trial 2 finished with value: 0.0006317918018005787 and parameters: {'classifier__n_estimators': 58, 'classifier__max_depth': 8, 'classifier__min_samples_split': 5, 'classifier__min_samples_leaf': 2}. Best is trial 2 with value: 0.0006317918018005787.\n",
      "[I 2024-11-19 23:54:58,287] Trial 3 finished with value: 0.0015162685053889068 and parameters: {'classifier__n_estimators': 181, 'classifier__max_depth': 9, 'classifier__min_samples_split': 2, 'classifier__min_samples_leaf': 1}. Best is trial 3 with value: 0.0015162685053889068.\n",
      "[I 2024-11-19 23:55:07,695] Trial 4 finished with value: 0.0 and parameters: {'classifier__n_estimators': 119, 'classifier__max_depth': 3, 'classifier__min_samples_split': 7, 'classifier__min_samples_leaf': 4}. Best is trial 3 with value: 0.0015162685053889068.\n",
      "[I 2024-11-19 23:55:18,403] Trial 5 finished with value: 0.01541974521526992 and parameters: {'classifier__n_estimators': 91, 'classifier__max_depth': 14, 'classifier__min_samples_split': 4, 'classifier__min_samples_leaf': 4}. Best is trial 5 with value: 0.01541974521526992.\n",
      "[I 2024-11-19 23:55:35,130] Trial 6 finished with value: 0.021371958174949364 and parameters: {'classifier__n_estimators': 169, 'classifier__max_depth': 15, 'classifier__min_samples_split': 5, 'classifier__min_samples_leaf': 3}. Best is trial 6 with value: 0.021371958174949364.\n",
      "[I 2024-11-19 23:55:46,488] Trial 7 finished with value: 0.0 and parameters: {'classifier__n_estimators': 147, 'classifier__max_depth': 4, 'classifier__min_samples_split': 5, 'classifier__min_samples_leaf': 1}. Best is trial 6 with value: 0.021371958174949364.\n",
      "[I 2024-11-19 23:55:57,606] Trial 8 finished with value: 0.015670728138964325 and parameters: {'classifier__n_estimators': 94, 'classifier__max_depth': 14, 'classifier__min_samples_split': 7, 'classifier__min_samples_leaf': 3}. Best is trial 6 with value: 0.021371958174949364.\n",
      "[I 2024-11-19 23:56:04,773] Trial 9 finished with value: 0.0001264622194119507 and parameters: {'classifier__n_estimators': 50, 'classifier__max_depth': 7, 'classifier__min_samples_split': 9, 'classifier__min_samples_leaf': 3}. Best is trial 6 with value: 0.021371958174949364.\n",
      "[I 2024-11-19 23:56:18,584] Trial 10 finished with value: 0.004038095656581407 and parameters: {'classifier__n_estimators': 144, 'classifier__max_depth': 11, 'classifier__min_samples_split': 10, 'classifier__min_samples_leaf': 5}. Best is trial 6 with value: 0.021371958174949364.\n",
      "[I 2024-11-19 23:56:30,759] Trial 11 finished with value: 0.01728296741956253 and parameters: {'classifier__n_estimators': 104, 'classifier__max_depth': 14, 'classifier__min_samples_split': 7, 'classifier__min_samples_leaf': 3}. Best is trial 6 with value: 0.021371958174949364.\n",
      "[I 2024-11-19 23:56:43,566] Trial 12 finished with value: 0.023465752253882706 and parameters: {'classifier__n_estimators': 113, 'classifier__max_depth': 15, 'classifier__min_samples_split': 7, 'classifier__min_samples_leaf': 2}. Best is trial 12 with value: 0.023465752253882706.\n",
      "[I 2024-11-19 23:56:56,324] Trial 13 finished with value: 0.00830449674987931 and parameters: {'classifier__n_estimators': 129, 'classifier__max_depth': 12, 'classifier__min_samples_split': 8, 'classifier__min_samples_leaf': 2}. Best is trial 12 with value: 0.023465752253882706.\n",
      "[I 2024-11-19 23:57:14,085] Trial 14 finished with value: 0.02272645256131388 and parameters: {'classifier__n_estimators': 168, 'classifier__max_depth': 15, 'classifier__min_samples_split': 6, 'classifier__min_samples_leaf': 2}. Best is trial 12 with value: 0.023465752253882706.\n",
      "[I 2024-11-19 23:57:32,871] Trial 15 finished with value: 0.007306106936244934 and parameters: {'classifier__n_estimators': 200, 'classifier__max_depth': 12, 'classifier__min_samples_split': 6, 'classifier__min_samples_leaf': 2}. Best is trial 12 with value: 0.023465752253882706.\n",
      "[I 2024-11-19 23:57:42,410] Trial 16 finished with value: 0.005799925183103792 and parameters: {'classifier__n_estimators': 73, 'classifier__max_depth': 11, 'classifier__min_samples_split': 8, 'classifier__min_samples_leaf': 2}. Best is trial 12 with value: 0.023465752253882706.\n",
      "[I 2024-11-19 23:57:56,019] Trial 17 finished with value: 0.024453038305521903 and parameters: {'classifier__n_estimators': 122, 'classifier__max_depth': 15, 'classifier__min_samples_split': 6, 'classifier__min_samples_leaf': 2}. Best is trial 17 with value: 0.024453038305521903.\n",
      "[I 2024-11-19 23:58:09,202] Trial 18 finished with value: 0.014035276750902529 and parameters: {'classifier__n_estimators': 118, 'classifier__max_depth': 13, 'classifier__min_samples_split': 9, 'classifier__min_samples_leaf': 1}. Best is trial 17 with value: 0.024453038305521903.\n",
      "[I 2024-11-19 23:58:18,574] Trial 19 finished with value: 0.0025243785431347783 and parameters: {'classifier__n_estimators': 79, 'classifier__max_depth': 10, 'classifier__min_samples_split': 8, 'classifier__min_samples_leaf': 4}. Best is trial 17 with value: 0.024453038305521903.\n"
     ]
    },
    {
     "name": "stdout",
     "output_type": "stream",
     "text": [
      "Best parameters: {'classifier__n_estimators': 122, 'classifier__max_depth': 15, 'classifier__min_samples_split': 6, 'classifier__min_samples_leaf': 2}\n",
      "Test Accuracy: 0.8155116595505091\n",
      "F1 Score: 0.011066398390342052\n",
      "              precision    recall  f1-score   support\n",
      "\n",
      "           0       0.82      1.00      0.90     17359\n",
      "           1       1.00      0.01      0.01      3954\n",
      "\n",
      "    accuracy                           0.82     21313\n",
      "   macro avg       0.91      0.50      0.45     21313\n",
      "weighted avg       0.85      0.82      0.73     21313\n",
      "\n"
     ]
    }
   ],
   "source": [
    "# Random Forest\n",
    "\n",
    "rf_param_distributions = {\n",
    "    \"classifier__n_estimators\": optuna.distributions.IntDistribution(50, 200),\n",
    "    \"classifier__max_depth\": optuna.distributions.IntDistribution(3, 15),\n",
    "    \"classifier__min_samples_split\": optuna.distributions.IntDistribution(2, 10),\n",
    "    \"classifier__min_samples_leaf\": optuna.distributions.IntDistribution(1, 5),\n",
    "}\n",
    "\n",
    "rf_model, rf_acc = train_model_with_optuna(\n",
    "    vectorizer=vectorizer,\n",
    "    model=RandomForestClassifier(random_state=314),\n",
    "    param_distributions=rf_param_distributions,\n",
    "    X_train=X_train,\n",
    "    y_train=y_train,\n",
    "    X_test=X_test,\n",
    "    y_test=y_test,\n",
    ")\n",
    "best_models.append((\"random_forest\", rf_model))"
   ]
  },
  {
   "cell_type": "code",
   "execution_count": 5,
   "id": "0f538672-aff1-43df-a3d2-a86b66a5cdd6",
   "metadata": {},
   "outputs": [
    {
     "name": "stderr",
     "output_type": "stream",
     "text": [
      "/home/michael/code/python/funnypress-data-study/notebooks/functions.py:139: ExperimentalWarning: OptunaSearchCV is experimental (supported from v0.17.0). The interface can change in the future.\n",
      "  search = OptunaSearchCV(\n",
      "[I 2024-11-19 23:58:21,891] A new study created in memory with name: no-name-bfa0b7ba-7582-4aca-a83a-178adc07869d\n",
      "[I 2024-11-19 23:58:28,570] Trial 0 finished with value: 0.3958171587303308 and parameters: {'classifier__n_estimators': 162, 'classifier__learning_rate': 0.10223368484312673, 'classifier__max_depth': 4}. Best is trial 0 with value: 0.3958171587303308.\n",
      "[I 2024-11-19 23:58:39,245] Trial 1 finished with value: 0.5276948268838851 and parameters: {'classifier__n_estimators': 199, 'classifier__learning_rate': 0.2849341173889311, 'classifier__max_depth': 5}. Best is trial 1 with value: 0.5276948268838851.\n",
      "[I 2024-11-19 23:58:45,591] Trial 2 finished with value: 0.29100310557835163 and parameters: {'classifier__n_estimators': 77, 'classifier__learning_rate': 0.025252317480855793, 'classifier__max_depth': 3}. Best is trial 1 with value: 0.5276948268838851.\n",
      "[I 2024-11-19 23:58:53,001] Trial 3 finished with value: 0.4023389598835852 and parameters: {'classifier__n_estimators': 112, 'classifier__learning_rate': 0.12667259142102733, 'classifier__max_depth': 5}. Best is trial 1 with value: 0.5276948268838851.\n",
      "[I 2024-11-19 23:58:59,556] Trial 4 finished with value: 0.40758798145476255 and parameters: {'classifier__n_estimators': 181, 'classifier__learning_rate': 0.1477663017197216, 'classifier__max_depth': 3}. Best is trial 1 with value: 0.5276948268838851.\n",
      "[I 2024-11-19 23:59:05,668] Trial 5 finished with value: 0.34726135914821965 and parameters: {'classifier__n_estimators': 73, 'classifier__learning_rate': 0.1432318394127453, 'classifier__max_depth': 3}. Best is trial 1 with value: 0.5276948268838851.\n",
      "[I 2024-11-19 23:59:13,764] Trial 6 finished with value: 0.46420508512984726 and parameters: {'classifier__n_estimators': 143, 'classifier__learning_rate': 0.20404853189561545, 'classifier__max_depth': 5}. Best is trial 1 with value: 0.5276948268838851.\n",
      "[I 2024-11-19 23:59:24,342] Trial 7 finished with value: 0.458115711523711 and parameters: {'classifier__n_estimators': 179, 'classifier__learning_rate': 0.08046416010940738, 'classifier__max_depth': 9}. Best is trial 1 with value: 0.5276948268838851.\n",
      "[I 2024-11-19 23:59:31,930] Trial 8 finished with value: 0.5132538187017301 and parameters: {'classifier__n_estimators': 169, 'classifier__learning_rate': 0.286781093643082, 'classifier__max_depth': 5}. Best is trial 1 with value: 0.5276948268838851.\n",
      "[I 2024-11-19 23:59:38,469] Trial 9 finished with value: 0.401021016385043 and parameters: {'classifier__n_estimators': 116, 'classifier__learning_rate': 0.19645471219985927, 'classifier__max_depth': 3}. Best is trial 1 with value: 0.5276948268838851.\n",
      "[I 2024-11-19 23:59:47,600] Trial 10 finished with value: 0.5660785589278003 and parameters: {'classifier__n_estimators': 199, 'classifier__learning_rate': 0.29317319449311763, 'classifier__max_depth': 8}. Best is trial 10 with value: 0.5660785589278003.\n",
      "[I 2024-11-20 00:00:03,058] Trial 11 finished with value: 0.5703437681801727 and parameters: {'classifier__n_estimators': 200, 'classifier__learning_rate': 0.29934142188815765, 'classifier__max_depth': 8}. Best is trial 11 with value: 0.5703437681801727.\n",
      "[I 2024-11-20 00:00:12,413] Trial 12 finished with value: 0.551354470609979 and parameters: {'classifier__n_estimators': 194, 'classifier__learning_rate': 0.25039145809816366, 'classifier__max_depth': 8}. Best is trial 11 with value: 0.5703437681801727.\n",
      "[I 2024-11-20 00:00:20,805] Trial 13 finished with value: 0.5117440472642623 and parameters: {'classifier__n_estimators': 145, 'classifier__learning_rate': 0.2315899131669124, 'classifier__max_depth': 7}. Best is trial 11 with value: 0.5703437681801727.\n",
      "[I 2024-11-20 00:00:27,105] Trial 14 finished with value: 0.486466017170363 and parameters: {'classifier__n_estimators': 52, 'classifier__learning_rate': 0.2894856422801379, 'classifier__max_depth': 10}. Best is trial 11 with value: 0.5703437681801727.\n",
      "[I 2024-11-20 00:00:35,223] Trial 15 finished with value: 0.5232883641326815 and parameters: {'classifier__n_estimators': 151, 'classifier__learning_rate': 0.24727035729067562, 'classifier__max_depth': 7}. Best is trial 11 with value: 0.5703437681801727.\n",
      "[I 2024-11-20 00:00:44,568] Trial 16 finished with value: 0.5326227153467903 and parameters: {'classifier__n_estimators': 199, 'classifier__learning_rate': 0.19385742479660814, 'classifier__max_depth': 8}. Best is trial 11 with value: 0.5703437681801727.\n",
      "[I 2024-11-20 00:00:52,944] Trial 17 finished with value: 0.5365294950639555 and parameters: {'classifier__n_estimators': 124, 'classifier__learning_rate': 0.25308670953230106, 'classifier__max_depth': 10}. Best is trial 11 with value: 0.5703437681801727.\n",
      "[I 2024-11-20 00:01:03,045] Trial 18 finished with value: 0.5620680062191876 and parameters: {'classifier__n_estimators': 183, 'classifier__learning_rate': 0.2988475969994817, 'classifier__max_depth': 8}. Best is trial 11 with value: 0.5703437681801727.\n",
      "[I 2024-11-20 00:01:10,801] Trial 19 finished with value: 0.3194230943590656 and parameters: {'classifier__n_estimators': 99, 'classifier__learning_rate': 0.012012384985819469, 'classifier__max_depth': 9}. Best is trial 11 with value: 0.5703437681801727.\n"
     ]
    },
    {
     "name": "stdout",
     "output_type": "stream",
     "text": [
      "Best parameters: {'classifier__n_estimators': 200, 'classifier__learning_rate': 0.29934142188815765, 'classifier__max_depth': 8}\n",
      "Test Accuracy: 0.8815277060948716\n",
      "F1 Score: 0.5870809484873263\n",
      "              precision    recall  f1-score   support\n",
      "\n",
      "           0       0.89      0.98      0.93     17359\n",
      "           1       0.83      0.45      0.59      3954\n",
      "\n",
      "    accuracy                           0.88     21313\n",
      "   macro avg       0.86      0.72      0.76     21313\n",
      "weighted avg       0.88      0.88      0.87     21313\n",
      "\n"
     ]
    }
   ],
   "source": [
    "# XGBoost\n",
    "\n",
    "xgb_param_distributions = {\n",
    "    \"classifier__n_estimators\": optuna.distributions.IntDistribution(50, 200),\n",
    "    \"classifier__learning_rate\": optuna.distributions.FloatDistribution(0.01, 0.3),\n",
    "    \"classifier__max_depth\": optuna.distributions.IntDistribution(3, 10),\n",
    "}\n",
    "\n",
    "xgb_model, xgb_acc = train_model_with_optuna(\n",
    "    vectorizer=vectorizer,\n",
    "    model=XGBClassifier(random_state=314),\n",
    "    param_distributions=xgb_param_distributions,\n",
    "    X_train=X_train,\n",
    "    y_train=y_train,\n",
    "    X_test=X_test,\n",
    "    y_test=y_test,\n",
    ")\n",
    "best_models.append((\"xgboost\", xgb_model))"
   ]
  },
  {
   "cell_type": "code",
   "execution_count": 6,
   "id": "7ad32ba3-ccf5-4f2d-81d2-39db408bf2d4",
   "metadata": {},
   "outputs": [
    {
     "name": "stderr",
     "output_type": "stream",
     "text": [
      "/home/michael/code/python/funnypress-data-study/notebooks/functions.py:139: ExperimentalWarning: OptunaSearchCV is experimental (supported from v0.17.0). The interface can change in the future.\n",
      "  search = OptunaSearchCV(\n",
      "[I 2024-11-20 00:01:13,230] A new study created in memory with name: no-name-aba4b270-af1c-498a-9bc9-56d568e7fde4\n",
      "[I 2024-11-20 00:01:27,938] Trial 0 finished with value: 0.4084859149080394 and parameters: {'classifier__iterations': 162, 'classifier__learning_rate': 0.10223368484312673, 'classifier__depth': 4}. Best is trial 0 with value: 0.4084859149080394.\n",
      "[I 2024-11-20 00:01:46,195] Trial 1 finished with value: 0.5418654086136236 and parameters: {'classifier__iterations': 199, 'classifier__learning_rate': 0.2849341173889311, 'classifier__depth': 5}. Best is trial 1 with value: 0.5418654086136236.\n",
      "[I 2024-11-20 00:01:55,276] Trial 2 finished with value: 0.29821935558121015 and parameters: {'classifier__iterations': 77, 'classifier__learning_rate': 0.025252317480855793, 'classifier__depth': 3}. Best is trial 1 with value: 0.5418654086136236.\n",
      "[I 2024-11-20 00:02:08,494] Trial 3 finished with value: 0.4145688576351135 and parameters: {'classifier__iterations': 112, 'classifier__learning_rate': 0.12667259142102733, 'classifier__depth': 5}. Best is trial 1 with value: 0.5418654086136236.\n",
      "[I 2024-11-20 00:02:23,735] Trial 4 finished with value: 0.42596851147097936 and parameters: {'classifier__iterations': 181, 'classifier__learning_rate': 0.1477663017197216, 'classifier__depth': 3}. Best is trial 1 with value: 0.5418654086136236.\n",
      "[I 2024-11-20 00:02:32,808] Trial 5 finished with value: 0.3614376470964996 and parameters: {'classifier__iterations': 73, 'classifier__learning_rate': 0.1432318394127453, 'classifier__depth': 3}. Best is trial 1 with value: 0.5418654086136236.\n",
      "[I 2024-11-20 00:02:47,671] Trial 6 finished with value: 0.48161001225349975 and parameters: {'classifier__iterations': 143, 'classifier__learning_rate': 0.20404853189561545, 'classifier__depth': 5}. Best is trial 1 with value: 0.5418654086136236.\n",
      "[I 2024-11-20 00:03:32,421] Trial 7 finished with value: 0.45547946564013087 and parameters: {'classifier__iterations': 179, 'classifier__learning_rate': 0.08046416010940738, 'classifier__depth': 9}. Best is trial 1 with value: 0.5418654086136236.\n",
      "[I 2024-11-20 00:03:48,873] Trial 8 finished with value: 0.5312403760462342 and parameters: {'classifier__iterations': 169, 'classifier__learning_rate': 0.286781093643082, 'classifier__depth': 5}. Best is trial 1 with value: 0.5418654086136236.\n",
      "[I 2024-11-20 00:04:00,457] Trial 9 finished with value: 0.41673494695142377 and parameters: {'classifier__iterations': 116, 'classifier__learning_rate': 0.19645471219985927, 'classifier__depth': 3}. Best is trial 1 with value: 0.5418654086136236.\n",
      "[I 2024-11-20 00:04:38,711] Trial 10 finished with value: 0.5832369376609735 and parameters: {'classifier__iterations': 199, 'classifier__learning_rate': 0.29317319449311763, 'classifier__depth': 8}. Best is trial 10 with value: 0.5832369376609735.\n",
      "[I 2024-11-20 00:05:20,471] Trial 11 finished with value: 0.5852500104908824 and parameters: {'classifier__iterations': 200, 'classifier__learning_rate': 0.29934142188815765, 'classifier__depth': 8}. Best is trial 11 with value: 0.5852500104908824.\n",
      "[I 2024-11-20 00:06:01,381] Trial 12 finished with value: 0.5688273118849645 and parameters: {'classifier__iterations': 194, 'classifier__learning_rate': 0.25039145809816366, 'classifier__depth': 8}. Best is trial 11 with value: 0.5852500104908824.\n",
      "[I 2024-11-20 00:06:20,311] Trial 13 finished with value: 0.5266343846630777 and parameters: {'classifier__iterations': 145, 'classifier__learning_rate': 0.2315899131669124, 'classifier__depth': 7}. Best is trial 11 with value: 0.5852500104908824.\n",
      "[I 2024-11-20 00:06:47,282] Trial 14 finished with value: 0.48346134920054523 and parameters: {'classifier__iterations': 52, 'classifier__learning_rate': 0.2894856422801379, 'classifier__depth': 10}. Best is trial 11 with value: 0.5852500104908824.\n",
      "[I 2024-11-20 00:07:07,261] Trial 15 finished with value: 0.5348403135488693 and parameters: {'classifier__iterations': 151, 'classifier__learning_rate': 0.24727035729067562, 'classifier__depth': 7}. Best is trial 11 with value: 0.5852500104908824.\n",
      "[I 2024-11-20 00:07:44,452] Trial 16 finished with value: 0.5473295765594687 and parameters: {'classifier__iterations': 199, 'classifier__learning_rate': 0.19385742479660814, 'classifier__depth': 8}. Best is trial 11 with value: 0.5852500104908824.\n",
      "[I 2024-11-20 00:08:37,030] Trial 17 finished with value: 0.5525867347708403 and parameters: {'classifier__iterations': 124, 'classifier__learning_rate': 0.25308670953230106, 'classifier__depth': 10}. Best is trial 11 with value: 0.5852500104908824.\n",
      "[I 2024-11-20 00:09:12,551] Trial 18 finished with value: 0.57887706386986 and parameters: {'classifier__iterations': 183, 'classifier__learning_rate': 0.2988475969994817, 'classifier__depth': 8}. Best is trial 11 with value: 0.5852500104908824.\n",
      "[I 2024-11-20 00:09:40,048] Trial 19 finished with value: 0.31432076500728484 and parameters: {'classifier__iterations': 99, 'classifier__learning_rate': 0.012012384985819469, 'classifier__depth': 9}. Best is trial 11 with value: 0.5852500104908824.\n"
     ]
    },
    {
     "name": "stdout",
     "output_type": "stream",
     "text": [
      "Best parameters: {'classifier__iterations': 200, 'classifier__learning_rate': 0.29934142188815765, 'classifier__depth': 8}\n",
      "Test Accuracy: 0.8822315019002487\n",
      "F1 Score: 0.5990415335463258\n",
      "              precision    recall  f1-score   support\n",
      "\n",
      "           0       0.89      0.98      0.93     17359\n",
      "           1       0.81      0.47      0.60      3954\n",
      "\n",
      "    accuracy                           0.88     21313\n",
      "   macro avg       0.85      0.72      0.77     21313\n",
      "weighted avg       0.88      0.88      0.87     21313\n",
      "\n"
     ]
    }
   ],
   "source": [
    "# CatBoost\n",
    "catboost_param_distributions = {\n",
    "    \"classifier__iterations\": optuna.distributions.IntDistribution(50, 200),\n",
    "    \"classifier__learning_rate\": optuna.distributions.FloatDistribution(0.01, 0.3),\n",
    "    \"classifier__depth\": optuna.distributions.IntDistribution(3, 10),\n",
    "}\n",
    "\n",
    "catboost_model, catboost_acc = train_model_with_optuna(\n",
    "    vectorizer=vectorizer,\n",
    "    model=CatBoostClassifier(verbose=0, random_state=314),\n",
    "    param_distributions=catboost_param_distributions,\n",
    "    X_train=X_train,\n",
    "    y_train=y_train,\n",
    "    X_test=X_test,\n",
    "    y_test=y_test,\n",
    ")\n",
    "best_models.append((\"catboost\", catboost_model))"
   ]
  },
  {
   "cell_type": "code",
   "execution_count": 7,
   "id": "cf053c75-cc3a-4b62-a136-5fa0b8a52bb3",
   "metadata": {},
   "outputs": [
    {
     "name": "stdout",
     "output_type": "stream",
     "text": [
      "Stacking Classifier Test Accuracy: 0.8886125838690001\n",
      "Stacking Classifier F1 Score: 0.6562409498986389\n",
      "              precision    recall  f1-score   support\n",
      "\n",
      "           0       0.91      0.96      0.93     17359\n",
      "           1       0.77      0.57      0.66      3954\n",
      "\n",
      "    accuracy                           0.89     21313\n",
      "   macro avg       0.84      0.77      0.79     21313\n",
      "weighted avg       0.88      0.89      0.88     21313\n",
      "\n"
     ]
    }
   ],
   "source": [
    "# Stacking the best models\n",
    "stacked_classifier = StackingClassifier(\n",
    "    estimators=best_models,\n",
    "    final_estimator=GradientBoostingClassifier(random_state=314),\n",
    "    cv=5,\n",
    ")\n",
    "\n",
    "\n",
    "stacked_classifier.fit(X_train, y_train)\n",
    "y_pred = stacked_classifier.predict(X_test)\n",
    "\n",
    "acc = accuracy_score(y_test, y_pred)\n",
    "f1 = f1_score(y_test, y_pred)\n",
    "\n",
    "print(f\"Stacking Classifier Test Accuracy: {acc}\")\n",
    "print(f\"Stacking Classifier F1 Score: {f1}\")\n",
    "\n",
    "print(classification_report(y_test, y_pred))\n"
   ]
  },
  {
   "cell_type": "code",
   "execution_count": null,
   "id": "e2caa3fe-912f-4b07-a81d-c2d8bf4120f9",
   "metadata": {},
   "outputs": [],
   "source": []
  }
 ],
 "metadata": {
  "kernelspec": {
   "display_name": "Python 3 (ipykernel)",
   "language": "python",
   "name": "python3"
  },
  "language_info": {
   "codemirror_mode": {
    "name": "ipython",
    "version": 3
   },
   "file_extension": ".py",
   "mimetype": "text/x-python",
   "name": "python",
   "nbconvert_exporter": "python",
   "pygments_lexer": "ipython3",
   "version": "3.12.6"
  }
 },
 "nbformat": 4,
 "nbformat_minor": 5
}
