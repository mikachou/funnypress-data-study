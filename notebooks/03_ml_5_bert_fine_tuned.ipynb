{
 "cells": [
  {
   "cell_type": "code",
   "execution_count": 1,
   "id": "e2f5161b-e12c-4285-9f1e-d94ac4f0f530",
   "metadata": {},
   "outputs": [
    {
     "name": "stderr",
     "output_type": "stream",
     "text": [
      "2024-11-24 23:10:33.851352: E external/local_xla/xla/stream_executor/cuda/cuda_fft.cc:477] Unable to register cuFFT factory: Attempting to register factory for plugin cuFFT when one has already been registered\n",
      "WARNING: All log messages before absl::InitializeLog() is called are written to STDERR\n",
      "E0000 00:00:1732486234.158853    3692 cuda_dnn.cc:8310] Unable to register cuDNN factory: Attempting to register factory for plugin cuDNN when one has already been registered\n",
      "E0000 00:00:1732486234.248492    3692 cuda_blas.cc:1418] Unable to register cuBLAS factory: Attempting to register factory for plugin cuBLAS when one has already been registered\n",
      "2024-11-24 23:10:34.949372: I tensorflow/core/platform/cpu_feature_guard.cc:210] This TensorFlow binary is optimized to use available CPU instructions in performance-critical operations.\n",
      "To enable the following instructions: AVX2 FMA, in other operations, rebuild TensorFlow with the appropriate compiler flags.\n"
     ]
    }
   ],
   "source": [
    "import pandas as pd\n",
    "from sklearn.model_selection import train_test_split\n",
    "from sklearn.metrics import accuracy_score, classification_report, f1_score, average_precision_score, make_scorer\n",
    "import optuna\n",
    "\n",
    "import os\n",
    "os.environ['TF_GPU_ALLOCATOR'] = 'cuda_malloc_async'\n",
    "os.environ['TF_USE_LEGACY_KERAS'] = '1' \n",
    "\n",
    "from functions import *\n",
    "#from bert_vectorizer import BertVectorizer\n",
    "\n",
    "# Load your dataset\n",
    "df = pd.read_csv(\"../data/clean/dataset.csv\").fillna('')\n",
    "X = df[\"title\"]\n",
    "y = df[\"funny\"]\n",
    "\n",
    "# Split into train/test sets\n",
    "X_train, X_test, y_train, y_test = train_test_split(X, y, test_size=0.2, random_state=42, stratify=y)"
   ]
  },
  {
   "cell_type": "code",
   "execution_count": 2,
   "id": "e2caa3fe-912f-4b07-a81d-c2d8bf4120f9",
   "metadata": {},
   "outputs": [
    {
     "name": "stderr",
     "output_type": "stream",
     "text": [
      "I0000 00:00:1732486241.739826    3692 gpu_process_state.cc:201] Using CUDA malloc Async allocator for GPU: 0\n",
      "I0000 00:00:1732486241.742269    3692 gpu_device.cc:2022] Created device /job:localhost/replica:0/task:0/device:GPU:0 with 1730 MB memory:  -> device: 0, name: NVIDIA GeForce MX150, pci bus id: 0000:01:00.0, compute capability: 6.1\n",
      "All PyTorch model weights were used when initializing TFCamembertForSequenceClassification.\n",
      "\n",
      "Some weights or buffers of the TF 2.0 model TFCamembertForSequenceClassification were not initialized from the PyTorch model and are newly initialized: ['classifier.dense.weight', 'classifier.dense.bias', 'classifier.out_proj.weight', 'classifier.out_proj.bias']\n",
      "You should probably TRAIN this model on a down-stream task to be able to use it for predictions and inference.\n"
     ]
    },
    {
     "name": "stdout",
     "output_type": "stream",
     "text": [
      "Epoch 1/3\n"
     ]
    },
    {
     "name": "stderr",
     "output_type": "stream",
     "text": [
      "WARNING: All log messages before absl::InitializeLog() is called are written to STDERR\n",
      "I0000 00:00:1732486276.089839    3752 service.cc:148] XLA service 0x7fc3a09a47a0 initialized for platform CUDA (this does not guarantee that XLA will be used). Devices:\n",
      "I0000 00:00:1732486276.090308    3752 service.cc:156]   StreamExecutor device (0): NVIDIA GeForce MX150, Compute Capability 6.1\n",
      "2024-11-24 23:11:16.130606: I tensorflow/compiler/mlir/tensorflow/utils/dump_mlir_util.cc:268] disabling MLIR crash reproducer, set env var `MLIR_CRASH_REPRODUCER_DIRECTORY` to enable.\n",
      "I0000 00:00:1732486276.212214    3752 cuda_dnn.cc:529] Loaded cuDNN version 90300\n",
      "2024-11-24 23:11:16.267197: W external/local_xla/xla/service/gpu/nvptx_compiler.cc:930] The NVIDIA driver's CUDA version is 12.4 which is older than the PTX compiler version 12.5.82. Because the driver is older than the PTX compiler version, XLA is disabling parallel compilation, which may slow down compilation. You should update your NVIDIA driver or use the NVIDIA-provided CUDA forward compatibility packages.\n",
      "I0000 00:00:1732486276.337983    3752 device_compiler.h:188] Compiled cluster using XLA!  This line is logged at most once for the lifetime of the process.\n"
     ]
    },
    {
     "name": "stdout",
     "output_type": "stream",
     "text": [
      "10657/10657 [==============================] - 5981s 558ms/step - loss: 0.1340 - accuracy: 0.9493\n",
      "Epoch 2/3\n",
      "10657/10657 [==============================] - 5921s 556ms/step - loss: 0.0695 - accuracy: 0.9750\n",
      "Epoch 3/3\n",
      "10657/10657 [==============================] - 5919s 555ms/step - loss: 0.0396 - accuracy: 0.9865\n"
     ]
    },
    {
     "data": {
      "text/plain": [
       "<tf_keras.src.callbacks.History at 0x7fc45ff0fd40>"
      ]
     },
     "execution_count": 2,
     "metadata": {},
     "output_type": "execute_result"
    }
   ],
   "source": [
    "from transformers import TFAutoModelForSequenceClassification, AutoTokenizer\n",
    "import tensorflow as tf\n",
    "#from tensorflow.keras import mixed_precision\n",
    "\n",
    "# Enable mixed precision training\n",
    "#policy = mixed_precision.Policy('mixed_float16')\n",
    "#mixed_precision.set_global_policy(policy)\n",
    "#tf.keras.mixed_precision.set_global_policy('float16')\n",
    "\n",
    "# Load tokenizer and model\n",
    "model_name = \"camembert-base\"\n",
    "tokenizer = AutoTokenizer.from_pretrained(model_name)\n",
    "model = TFAutoModelForSequenceClassification.from_pretrained(model_name, num_labels=2)  # Change `num_labels` for your task\n",
    "\n",
    "# Prepare dataset\n",
    "def preprocess_function(sentences, labels, tokenizer, max_length=128):\n",
    "    inputs = tokenizer(sentences, truncation=True, padding=True, max_length=max_length, return_tensors=\"tf\")\n",
    "    dataset = tf.data.Dataset.from_tensor_slices((dict(inputs), labels))\n",
    "    return dataset.batch(8)\n",
    "\n",
    "train_dataset = preprocess_function(list(X_train), list(y_train), tokenizer)\n",
    "\n",
    "# Compile and train the model\n",
    "model.compile(optimizer=tf.keras.optimizers.Adam(learning_rate=2e-5), \n",
    "              loss=tf.keras.losses.SparseCategoricalCrossentropy(from_logits=True),\n",
    "              metrics=[\"accuracy\"])\n",
    "\n",
    "model.fit(train_dataset, epochs=3)"
   ]
  },
  {
   "cell_type": "code",
   "execution_count": 3,
   "id": "0a608f14-52c1-4230-a7b7-d4708621a2de",
   "metadata": {},
   "outputs": [
    {
     "data": {
      "text/plain": [
       "('../model_exports/fine_tuned_bert/tokenizer_config.json',\n",
       " '../model_exports/fine_tuned_bert/special_tokens_map.json',\n",
       " '../model_exports/fine_tuned_bert/sentencepiece.bpe.model',\n",
       " '../model_exports/fine_tuned_bert/added_tokens.json',\n",
       " '../model_exports/fine_tuned_bert/tokenizer.json')"
      ]
     },
     "execution_count": 3,
     "metadata": {},
     "output_type": "execute_result"
    }
   ],
   "source": [
    "# Save model and tokenizer\n",
    "save_path = \"../model_exports/fine_tuned_bert\"\n",
    "model.save_pretrained(save_path)\n",
    "tokenizer.save_pretrained(save_path)"
   ]
  },
  {
   "cell_type": "code",
   "execution_count": 4,
   "id": "4c18a5bd-286e-4dea-b2f1-5f69ea940d25",
   "metadata": {},
   "outputs": [],
   "source": [
    "# To Reload the model later\n",
    "\n",
    "#from transformers import TFAutoModelForSequenceClassification, AutoTokenizer\n",
    "\n",
    "# Load model and tokenizer\n",
    "#model = TFAutoModelForSequenceClassification.from_pretrained(save_path)\n",
    "#tokenizer = AutoTokenizer.from_pretrained(save_path)\n"
   ]
  },
  {
   "cell_type": "code",
   "execution_count": 5,
   "id": "1075cd7e-05cd-460d-b8a4-9114cd211567",
   "metadata": {},
   "outputs": [],
   "source": [
    "# Preprocess the test data\n",
    "test_dataset = preprocess_function(list(X_test), list(y_test), tokenizer)\n"
   ]
  },
  {
   "cell_type": "code",
   "execution_count": 6,
   "id": "d38ff452-e122-4db9-b0d3-8f199d13aa05",
   "metadata": {},
   "outputs": [
    {
     "name": "stdout",
     "output_type": "stream",
     "text": [
      "2665/2665 [==============================] - 533s 199ms/step - loss: 0.1505 - accuracy: 0.9605\n",
      "Test Loss: 0.15052025020122528\n",
      "Test Accuracy: 0.9604936242103577\n"
     ]
    }
   ],
   "source": [
    "# Evaluate the model on the test dataset\n",
    "results = model.evaluate(test_dataset)\n",
    "\n",
    "# Print results\n",
    "print(f\"Test Loss: {results[0]}\")\n",
    "print(f\"Test Accuracy: {results[1]}\")\n"
   ]
  },
  {
   "cell_type": "code",
   "execution_count": 7,
   "id": "5a6c4652-7fd5-49e3-8fac-f5f27dc44ccf",
   "metadata": {},
   "outputs": [
    {
     "name": "stdout",
     "output_type": "stream",
     "text": [
      "2665/2665 [==============================] - 523s 195ms/step\n",
      "              precision    recall  f1-score   support\n",
      "\n",
      "     Class 0       0.96      0.99      0.98     17359\n",
      "     Class 1       0.94      0.84      0.89      3954\n",
      "\n",
      "    accuracy                           0.96     21313\n",
      "   macro avg       0.95      0.91      0.93     21313\n",
      "weighted avg       0.96      0.96      0.96     21313\n",
      "\n"
     ]
    }
   ],
   "source": [
    "# Generate predictions\n",
    "predictions = model.predict(test_dataset)\n",
    "predicted_labels = tf.argmax(predictions.logits, axis=1).numpy()\n",
    "\n",
    "# Evaluate with additional metrics\n",
    "from sklearn.metrics import classification_report\n",
    "print(classification_report(y_test, predicted_labels, target_names=[\"Class 0\", \"Class 1\"]))"
   ]
  },
  {
   "cell_type": "code",
   "execution_count": 8,
   "id": "e8d671b8-2780-4de1-b2a7-09af36281e77",
   "metadata": {},
   "outputs": [],
   "source": [
    "from scipy.special import softmax\n",
    "# Convert logits to probabilities using softmax\n",
    "probas = softmax(predictions.logits, axis=1)"
   ]
  },
  {
   "cell_type": "code",
   "execution_count": 11,
   "id": "f9a04331-b0e8-4dc8-b427-615c762309eb",
   "metadata": {},
   "outputs": [
    {
     "name": "stdout",
     "output_type": "stream",
     "text": [
      "       y_true  y_pred     proba  \\\n",
      "95199       0       1  0.998561   \n",
      "23559       0       1  0.998519   \n",
      "53181       0       1  0.998206   \n",
      "94885       0       1  0.998069   \n",
      "92461       0       1  0.997829   \n",
      "\n",
      "                                                   title  \n",
      "95199  VIDÉO. L'homme qui murmure à l'oreille des c...  \n",
      "23559  VIDEO. Une \"trombe marine\" se transforme en to...  \n",
      "53181  Il est désormais possible de parier sur le rés...  \n",
      "94885  Ces ralentisseurs sont illégaux, on vous dit ...  \n",
      "92461  Elle disait vouloir « manger des enfants et le...  \n",
      "       y_true  y_pred     proba  \\\n",
      "28206       1       1  0.998979   \n",
      "33876       1       1  0.998978   \n",
      "28383       1       1  0.998978   \n",
      "50252       1       1  0.998977   \n",
      "28953       1       1  0.998977   \n",
      "\n",
      "                                                   title  \n",
      "28206  457 guitaristes jouent \"Highway to Hell\" d'AC/...  \n",
      "33876  VIDÉO. Les fenêtres à bascule de ce gratte-...  \n",
      "28383  Ce raton laveur (ou plutôt escaladeur) n'a ri...  \n",
      "50252  La réaction de ce couple d'agriculteurs en app...  \n",
      "28953  Ces Coréens rois du beatbox reprennent \"Despa...  \n"
     ]
    }
   ],
   "source": [
    "results_df = pd.DataFrame({\n",
    "    \"y_true\": y_test,\n",
    "    \"y_pred\": predicted_labels,\n",
    "    \"proba\": probas[:,1],\n",
    "    \"title\": X_test, \n",
    "})\n",
    "\n",
    "false_positives = results_df[(results_df[\"y_true\"] == 0) & (results_df[\"y_pred\"] == 1)]\n",
    "\n",
    "true_positives = results_df[(results_df[\"y_true\"] == 1) & (results_df[\"y_pred\"] == 1)]\n",
    "\n",
    "sorted_false_positives = false_positives.sort_values(by=\"proba\", ascending=False)\n",
    "\n",
    "sorted_true_positives = true_positives.sort_values(by=\"proba\", ascending=False)\n",
    "\n",
    "\n",
    "print(sorted_false_positives.head())\n",
    "print(sorted_true_positives.head())"
   ]
  },
  {
   "cell_type": "code",
   "execution_count": 12,
   "id": "765cc002-b655-40a0-b705-9822d7cb2cd1",
   "metadata": {},
   "outputs": [
    {
     "name": "stdout",
     "output_type": "stream",
     "text": [
      "VIDÉO. L'homme qui murmure à l'oreille des cachalots 0.998561441898346\n",
      "VIDEO. Une \"trombe marine\" se transforme en tornade et ravage des champs de tournesols 0.9985188841819763\n",
      "Il est désormais possible de parier sur le résultat de l'élection présidentielle américaine 0.9982055425643921\n",
      "Ces ralentisseurs sont illégaux, on vous dit pourquoi 0.9980688691139221\n",
      "Elle disait vouloir « manger des enfants et les dessiner nus » sur le tchat en ligne de la police 0.9978287816047668\n",
      "Des parfums qui ont du chien 0.9975473284721375\n",
      "Joe Biden: un honnête homme s'en va 0.9973794221878052\n",
      "Aux États-Unis, des policiers interviennent pour dégager une citrouille géante gonflable de la route 0.996993899345398\n",
      "Le premier qui dit la vérité se fait étriller 0.9966431856155396\n",
      "Un cheval remporte une course avec une cote colossale... mais meurt juste après 0.9962510466575623\n",
      "Royaume-Uni : pour son anniversaire, une centenaire s'offre un saut en parachute 0.996246874332428\n",
      "L'Euro de foot des sans-abri 0.9961202144622803\n",
      "La rédaction de la Dépêche du Midi se fait hypnotiser par Giorda 0.9956747889518738\n",
      "La coiffeuse a bougé d’un numéro de rue 0.9952812790870667\n",
      "Un \"monstre\" de 14 tonnes en démonstration 0.9951971173286438\n",
      "Aux États-Unis, une start-up propose de parier sur le résultat de l'élection présidentielle 0.9950365424156189\n",
      "Les traîtres débarquent en meute à la télévision 0.9945870637893677\n",
      "Des lièvres aéroportés 0.9945650100708008\n",
      "Éviter la mort inattendue du nourrisson grâce à des règles simples de couchage 0.9939367175102234\n",
      "A Shanghai, les chats sont invités à visiter une exposition sur L'Egypte ancienne 0.9938814640045166\n",
      "Ce thermomètre « comestible » équipe des astronautes et des athlètes des JO 0.9935391545295715\n",
      "Record du monde de la plus grande truffade à Clermont-Ferrand ! 0.9934120774269104\n",
      "Pour rembourser ses dettes, Donald Trump a gagné 300 000 dollars en vendant des Bibles 0.9933733940124512\n",
      "Bientôt des pots d'entreprise \"sans alcool\" ? 0.9928597211837769\n",
      "Les chats sont bien plus réceptifs à nos paroles qu’on ne le pensait 0.9924898743629456\n",
      "Sur Internet, il vend sa BMW gagée et falsifie le contrôle technique 0.9924073815345764\n",
      "Le candidat Robert F. Kennedy Jr., la bicyclette et l’ourson mort dans Central Park 0.9922896027565002\n",
      "Quand on découvre du tissu de prostate… chez une femme 0.9918100237846375\n",
      "Un conducteur échappe à une lourde sanction grâce à un panneau retourné par les agriculteurs 0.9915385842323303\n",
      "VIDÉO. Un Français sur trois ment sur son salaire 0.9908316731452942\n",
      "Le Cybertruck Tesla customisé avec une mitrailleuse de Ramzan Kadyrov, pied de nez à Elon Musk 0.9905949831008911\n",
      "Non, la cuisine britannique n’est pas si immonde 0.9905232787132263\n",
      "Les perles de Marmiton : on a trouvé la recette la plus atroce d’Internet 0.990505039691925\n",
      "Nouveau record pour les moustaches roses 0.9901571273803711\n",
      "Il coupe son bracelet électronique et part en cavale avec sa compagne 0.9899742007255554\n",
      "Les bourdons se montreraient moins optimistes quand ils sont stressés 0.9895555377006531\n",
      "Comment des agents russes se sont fait passer pour un couple d'Argentins vivant en Slovénie depuis 2017 0.9892019033432007\n",
      "Quand un antibiotique colore en bleu la trachée, la peau, les ongles ou les oreilles 0.9889847040176392\n",
      "En Italie, Robby le taxi roule pour l’honnêteté 0.9883551597595215\n",
      "Cette publication évoquant 3 650 euros mensuels de la CAF à une «femme immigrée qui ne travaille pas» est trompeuse 0.9872255921363831\n",
      "Des joueurs se mobilisent pour éviter que leurs jeux vidéo préférés ne disparaissent 0.9871852993965149\n",
      "L’araignée qui fait tomber les garçons (lucioles) dans son assiette 0.9867751598358154\n",
      "Le courrier adressé à Gérald Darmanin contenait-il des traces de peste? 0.9864860773086548\n",
      "Nage des poissons morts et respiration rectale au menu des Nobel de la science improbable 0.9863681197166443\n",
      "D’immenses masses se déplacent dans la Lune et les scientifiques pensent savoir de quoi il s’agit 0.9861984252929688\n",
      "Un bébé né dans le métro à Bruxelles se voit offrir un abonnement à vie 0.9859980344772339\n",
      "Pourquoi Cotino, ce méga-quartier construit par Disney en plein désert, fait tant polémique 0.9856331944465637\n",
      "Une prise étonnante  lors de la pêche électrique 0.9848331809043884\n",
      "L’école hantée fait son grand retour 0.9839946031570435\n",
      "Pays Bas : un musée retrouve une œuvre d'art dans une poubelle 0.9839485287666321\n",
      "Les gilets jaunes ont désormais un syndicat et il pourra se présenter aux élections professionnelles dans les TPE 0.9829995036125183\n",
      "Gatsby le magique 0.9829409718513489\n",
      "VIDÉO. Il chasse la vaisselle radioactive dans les brocantes pour la revendre 0.9828977584838867\n",
      "Quand le client de l’attraction fait un salto interdit 0.9822229146957397\n",
      "VIDEO. Défait par le Français Lucas Mazur, un joueur brésilien a profité de son match de parabadminton pour adresser sa demande en mariage 0.9821968078613281\n",
      "VIDÉO. Espagne : ces habitants traversent un passage piéton en continu pour empêcher les touristes de passer 0.9810783267021179\n",
      "L’Élysée inaugure sa boutique-musée... et son salon de thé 0.9801187515258789\n",
      "Chine: des camions-citernes ont été utilisés pour transporter de l'huile alimentaire 0.9782060384750366\n",
      "VIDEO. La ville de Copenhague récompense les touristes “écolos” 0.9767693877220154\n",
      "Le footballeur Étienne Capoue signe... dans un club de basket espagnol 0.9767091274261475\n",
      "Les sherpas, héros de l'ombre de l'Everest 0.9752891063690186\n",
      "Voyez-vous du bleu ou du vert ? Un test visuel divise les internautes et les médecins 0.9748368859291077\n",
      "Deux astronautes d'une mission de Boeing reviendront sur Terre avec... SpaceX en février 0.9747809171676636\n",
      "Internet : comment le smiley a fait sourire le monde entier 0.9744786024093628\n",
      "Des pommes et des brebis 0.9728494882583618\n",
      "Dans les abysses, le poisson dragon fait les gros yeux pour mieux repérer les femelles 0.9721689820289612\n",
      "La zone équatoriale de l'Atlantique se refroidit sous l'effet d'un phénomène qui ressemble à la Niña 0.9710474610328674\n",
      "Le trésor d’Indiana Jones à Petra en Jordanie existe vraiment, mais ce n’est pas celui du film 0.9686933159828186\n",
      "Comment éviter (peut-être) de se couper les doigts en feuilletant un journal 0.9672640562057495\n",
      "Le Palais Brongniart transformé en un bar de sport américain très « VIP » 0.9667865633964539\n",
      "VIDÉO. Après Armand Duplantis, la demande en mariage spectaculaire de Noah Lyles à Junelle Bromfield 0.9658440947532654\n",
      "Un disque enregistré par un orchestre de Besançon sera envoyé sur la Lune... dans un coffre 0.9649232029914856\n",
      "Des zombis envahissent le musée du Quai Branly-Jacques Chirac et interrogent notre rapport à la mort 0.9646672010421753\n",
      "Il gagne une voiture électrique au jeu McDo 0.9645574688911438\n",
      "Le grille-chouriço, pour un saucisson croustillant et fondant 0.9604890942573547\n",
      "La tête de Rabhi qualifie le FUN 0.9593151807785034\n",
      "En Roumanie, un balcon sur la guerre 0.95721036195755\n",
      "Formule 1 : quand Lando Norris pilote une McLaren... faite en Lego 0.9561189413070679\n",
      "Une centaine de ratons laveurs encerclent la maison d’une Américaine qui les avait nourris 0.9502036571502686\n",
      "Manger un chat ou un chien est-il plus grave que de déguster un lapin à la moutarde ? 0.950076699256897\n",
      "Le Pellerin. Le taïso est « un sport idéal pour les seniors » 0.949211061000824\n",
      "Jean et Johnny, deux drôles d’oiseaux qui imitent à la perfection le chant de 500 volatiles 0.9471645355224609\n",
      "Isère : un facteur a gardé plus de 13 000 lettres chez lui 0.9468120336532593\n",
      "Cet artiste allemand n'a que 3 ans, ses toiles se vendent entre 10 000 et 15 000 euros : \"Il ne peint que quand il s’amuse\" 0.9449710249900818\n",
      "VIDEO. Ce bateau aspirateur collecte les déchets du canal Saint-Denis 0.9445716738700867\n",
      "La dalaï-lama arrive en Suisse, sa dernière visite remonte à six ans 0.9439845085144043\n",
      "Vingt-trois ans après le 11 Septembre, tout le monde a oublié que des hommes croupissaient à Guantánamo 0.943462073802948\n",
      "Une manifestation contre la ligne à grande vitesse dégénère en Gironde 0.9415289759635925\n",
      "Le duo de roulottiers ne volait que des caméras de recul de voitures Renault 0.941162109375\n",
      "Bienvenue sur l’île la plus peuplée du monde, à peine plus grande qu’un terrain de foot 0.9410524368286133\n",
      "Les pieds nus, accessoires de la modernité en danse 0.9403694272041321\n",
      "250 kg, une poêle de deux mètres de diamètre : leur truffade établit un record du monde inédit 0.9355335831642151\n",
      "Qui a volé... a volé... les citrouilles ? 0.9347121715545654\n",
      "Chute du 2e étage, le jeu entre deux frères tourne mal 0.9269385933876038\n",
      "La Floride endeuillée par des dizaines de tornades 0.9266901612281799\n",
      "Au Kenya, des girafes «émissaires de la paix» rapprochent deux communautés rivales 0.9237932562828064\n",
      "Le dealer laisse échapper un revolver 357 Magnum 0.9215756058692932\n",
      "Comment avoir des rapports sexuels tout en étant atteint d'une IST? 0.9207420945167542\n",
      "40 ans après,  La Dame Blanche passionne encore 0.9196100234985352\n",
      "Quand Pompidou se déclarait candidat trois mois avant la démission de de Gaulle 0.9185166954994202\n"
     ]
    }
   ],
   "source": [
    "for index, row in sorted_false_positives.head(100).iterrows():\n",
    "    print(row['title'], row['proba'])"
   ]
  },
  {
   "cell_type": "code",
   "execution_count": 13,
   "id": "86bad1e4-2388-4f78-b3d9-19c823a99f83",
   "metadata": {},
   "outputs": [
    {
     "name": "stdout",
     "output_type": "stream",
     "text": [
      "457 guitaristes jouent \"Highway to Hell\" d'AC/DC en même temps et ça fait beaucoup de bruit 0.998979389667511\n",
      "VIDÉO. Les fenêtres à bascule de ce gratte-ciel de Chicago vont vous donner le vertige 0.9989783763885498\n",
      "Ce raton laveur (ou plutôt escaladeur) n'a rien à envier à Spider-Man 0.9989781379699707\n",
      "La réaction de ce couple d'agriculteurs en apprenant qu'il a gagné au Loto va vous émouvoir 0.9989774227142334\n",
      "Ces Coréens rois du beatbox reprennent \"Despacito\" et c'est parfait 0.9989768266677856\n",
      "VIDÉO. La police néo-zélandaise recrute et elle l'a fait savoir d'une drôle de manière 0.9989707469940186\n",
      "Ce pilote d'avion est d'une franchise confondante 0.9989686012268066\n",
      "En mangeant 75 hot-dogs d'affilé, cet Américain a battu son propre record du monde 0.9989684820175171\n",
      "VIDEO. Ce petit garçon qui tente de casser une planche au Taekwondo va vous faire fondre 0.9989681243896484\n",
      "VIDÉO. Un homme essaie de sabrer en deux une pastèque et c'est une mauvaise idée 0.9989676475524902\n",
      "Ils battent le record du monde de changements de costumes et c'est bluffant 0.9989669322967529\n",
      "Son fils s'identifie comme un chat mais le vétérinaire refuse de le soigner, cette maman s'insurge en vidéo 0.9989662170410156\n",
      "Quelque chose terrifie cet aspirateur, et c'est hilarant 0.9989662170410156\n",
      "Il n'aurait pas dû filmer ce raton laveur de si près 0.9989653825759888\n",
      "VIDÉO. L'hoverboard de Lexus lévite vraiment, mais est loin de celui de \"Retour vers le Futur 2\" 0.9989651441574097\n",
      "VIDÉO. Ce Londonien s'est lancé un défi McDonald's vraiment stupide 0.9989637136459351\n",
      "VIDEO. Cet homme se recouvre d'un million d'abeilles et entre dans le livre des records 0.9989637136459351\n",
      "L'ex-maire de New York et ces drôles d'embouts lui sortant des oreilles valent le détour(nement) 0.9989629983901978\n",
      "Voici l'animal qui vit le plus longtemps et ce n'est pas celui que vous croyez 0.9989622831344604\n",
      "Assoiffée de sexe, cette tortue a sauvé son espèce de l'extinction 0.9989606142044067\n",
      "Frank Leboeuf tente de faire un \"dab\" mais c'est assez raté (et il n'est pas le seul dans ce cas) 0.9989602565765381\n",
      "Ce papy s'improvise photographe et c'est raté 0.998960018157959\n",
      "Quand un journaliste commente un envahissement de terrain comme un but, c'est génial 0.9989588260650635\n",
      "Cette vidéo d'une baleine qui manque d'avaler deux kayakistes semble sortie de \"Pinocchio\" 0.9989588260650635\n",
      "Cette Barbie new-yorkaise est pleine de clichés et c'est très drôle 0.9989582300186157\n",
      "PHOTO. Franck Dubosc pose avec des naturistes pour le tournage de \"Camping 3\" 0.9989581108093262\n",
      "VIDÉOS. Cet entraînement d'haltérophilie va mal tourner 0.9989577531814575\n",
      "VIDÉO. Cette famille de ratons-laveurs va vous faire fondre 0.9989575147628784\n",
      "VIDÉO. Ce chat tente d'apprendre la boxe à des chatons.. en vain 0.9989570379257202\n",
      "Ce journaliste météo n'aurait pas dû prendre son parapluie avec ce vent, mais ça a bien fait rire ses collègues 0.9989567995071411\n",
      "VIDÉO. Ce phoque est mignon, mais plus pénible qu'un pigeon quand il a faim 0.9989564418792725\n",
      "Boris Johnson ne sait toujours pas tenir un parapluie et c'est drôle 0.9989560842514038\n",
      "Ce qu'ils ont découvert dans cette banque de sperme va forcément vous rappeler le film \"Starbuck\" 0.998955488204956\n",
      "Ces photos d'Alain Juppé qui danse dans une maison de retraite valent le détour(nement) 0.9989553689956665\n",
      "VIDÉO. Ce jeu vidéo du FBI est catastrophique 0.998955249786377\n",
      "VIDÉO. Ces chiens et chats qui crèvent des ballons de baudruche vont vous amuser 0.9989548921585083\n",
      "VIDEO. Uber: Un conducteur fait danser ses passagers sur \"Uptown Funk\" 0.9989547729492188\n",
      "Ce kayakiste s'est littéralement pris un coup de poulpe par une otarie 0.9989540576934814\n",
      "VIDÉO. Un supporteur demande en mariage une journaliste alors qu'elle est en plein duplex 0.9989540576934814\n",
      "VIDÉO. Ces grand-mères essayent les filtres Snapchat pour la première fois et c'est très drôle 0.9989538192749023\n",
      "Vous pensiez être bon au Limbo? Cette Américaine va vous faire changer d'avis 0.9989526271820068\n",
      "VIDÉO. Cette coupe de cheveux a traumatisé les internautes 0.9989525079727173\n",
      "Cette fillette est tombée amoureuse d'un robot... qui n'en est pas un 0.9989522695541382\n",
      "Cette mère paye sa fille 500 dollars pour qu'elle sorte avec 100 hommes différents, la vidéo fait le buzz 0.9989520311355591\n",
      "Il pensait avoir trouvé l'astuce pour se faire payer des verres, ça n'a pas tourné comme prévu 0.9989510774612427\n",
      "PHOTOS. Cet artiste new-yorkais installe un salon en plein milieu de Times Square 0.9989509582519531\n",
      "Cette maman va devenir aveugle parce qu'elle s'est fait tatouer les yeux malgré les avertissements de ses enfants 0.9989508390426636\n",
      "L'astuce de cette maman pour faire manger son garçon est à la fois diabolique et très efficace 0.9989508390426636\n",
      "Rarissime photo d'un lion de mer avalé par une baleine 0.9989504218101501\n",
      "Ces enfants Nigérians recréent les bandes annonces Netflix, et c'est génial 0.9989504218101501\n",
      "VIDÉO. Le cri de cette biche est à la fois hilarant et terrifiant 0.9989498257637024\n",
      "Cette jeune fille gagne de l'argent grâce... aux ronflements de son compagnon ! 0.9989497065544128\n",
      "PHOTOS. Le plus gros cornet de frites du monde est français et pèse cinq tonnes 0.9989493489265442\n",
      "Ce chien ne voyait pas l'intérêt d'aboyer comme les autres devant le film \"Zootopie\"... 0.9989492297172546\n",
      "Elle envoie 71 000 euros à son crush avant de se rendre compte qu'il n'existe même pas 0.9989491105079651\n",
      "VIDÉO. Quand ce chien éternue, il ne fait pas semblant 0.9989486336708069\n",
      "VIDEO. Un crocodile mord une caméra embarquée et vous donne l'impression d'être dévoré 0.9989483952522278\n",
      "VIDÉO. Ce bébé est né juste au bon moment dans un hôpital de Cleveland 0.9989480376243591\n",
      "Personne ne voit ce t-shirt de la même façon à cause d'une illusion d'optique qui rend fou 0.9989468455314636\n",
      "Cette photo d'Arnold Schwarzenegger vaut le détour(nement) 0.9989463686943054\n",
      "Cette étudiante américaine a appris sa grossesse 15 minutes seulement avant d'accoucher ! 0.9989462494850159\n",
      "PHOTOS. Burger King et son Whopper noir d'Halloween terrifient les clients... une fois aux toilettes 0.9989446997642517\n",
      "Photos. Un requin s'étouffe avec un élan 0.9989446997642517\n",
      "Ce Japonais utilise son smartphone d'une manière plutôt insolite 0.9989444613456726\n",
      "Ce compte Instagram est dédié aux imprimés des sièges de transports en commun et c'est génial 0.9989444613456726\n",
      "PHOTOS. Burger King lance un étonnant burger complètement rouge au Japon 0.9989442229270935\n",
      "PHOTOS. Deux sosies quasi-parfaits tombent nez-à-nez dans un avion 0.9989439845085144\n",
      "PHOTOS. Jean-Charles de Castelbajac redécore les murs de l'aéroport d'Orly 0.9989438652992249\n",
      "PHOTOS. Un gondolier vénitien de 71 ans s'est lancé dans un périple de 300 km entre Venise et Budapest 0.9989436268806458\n",
      "PHOTOS. Aliens: Un fermier chinois arrêté pour un canular 0.9989435076713562\n",
      "VIDÉO. Le solo complètement raté de Nick Jonas a beaucoup fait rire les internautes 0.9989433884620667\n",
      "La photo d'Ivanka Trump en blouse blanche vaut le détour(nement) 0.9989426732063293\n",
      "PHOTO - Dans le Morbihan, un lama s'incruste... chez un opticien 0.9989425539970398\n",
      "VIDÉO. Cette pub insolite se moquant d'un rappeur est géniale 0.9989424347877502\n",
      "Le Golden Gate de San Francisco s'est mis à \"chanter\"... et c'est étrange 0.9989423155784607\n",
      "PHOTOS. Le gratte-ciel invisible \"Tower Infinity\" va devenir réalité en Corée du Sud 0.9989421963691711\n",
      "VIDÉO. Elle aime tellement les zèbres qu'elle a intégralement \"zébré\" sa sœur 0.998941957950592\n",
      "Ce bébé panda qui s'accroche à son soigneur va vous faire fondre 0.9989417195320129\n",
      "PHOTOS. Ce cours de yoga a eu lieu au-dessus du vide 0.9989416003227234\n",
      "PHOTOS. Le lapin de la RATP s'appelle \"Serge\" et il fait peau neuve 0.9989413619041443\n",
      "Cette illusion d'optique va littéralement vous déboussoler 0.9989412426948547\n",
      "Cette vidéo d'un chien devenant un chat fait tourner la tête des internautes 0.9989411234855652\n",
      "Ces papas qui s'essayent à la danse classique avec leurs filles sont adorables 0.9989410042762756\n",
      "VIDÉO. Les gens font vraiment n'importe quoi quand passe une Google Car 0.9989410042762756\n",
      "16 familles qui ont recréé leurs photos d'enfance, et le résultat est grandiose 0.9989408850669861\n",
      "Personne n'arrive à prononcer le prénom de son bébé, cette maman est contrainte de le changer 0.9989407658576965\n",
      "PHOTOS. La police de Dubaï s'offre un garage rempli de voitures de luxe 0.9989407658576965\n",
      "PHOTO. La Corée du Nord utilise la photo de ce chien pour dénoncer la décadence américaine 0.9989407658576965\n",
      "Elle accouche du plus gros bébé jamais vu par le médecin de l'hôpital, son poids est hallucinant 0.9989407658576965\n",
      "Cette demande en mariage dans la fosse d'un concert de metal vaut le détour(nement) 0.998940646648407\n",
      "Ikea a répondu à cet homme qui s'est coincé un testicule dans ce tabouret 0.9989401698112488\n",
      "PHOTOS. La maison abandonnée de Mike Tyson va finalement devenir une église 0.9989400506019592\n",
      "PHOTOS. Richard Branson se déguise en hôtesse de l'air après un pari perdu avec le patron de Lotus 0.9989393353462219\n",
      "Cette photo de Kim Jong-Un vaut le détour(nement) 0.9989392161369324\n",
      "PHOTOS. La Tomatina, bataille de tomates organisée en Espagne, a rassemblé 20.000 personnes 0.9989390969276428\n",
      "VIDÉO. Cette machine qui plie les vêtements à votre place fait rêver 0.9989389777183533\n",
      "PHOTOS. Cette maison incrustée à flanc de falaise est presque invisible depuis la terre 0.9989387392997742\n",
      "PHOTOS. Trouver une aiguille dans une botte de foin ? Sven Sachsalber l'a fait ! 0.9989386200904846\n",
      "VIDÉOS. Ce mouton qui se prend pour un chien sautille avec ses frères et sœurs adoptifs 0.9989379048347473\n",
      "PHOTOS. KFC: la chaîne de fast-food sort une tasse de café comestible 0.9989376664161682\n"
     ]
    }
   ],
   "source": [
    "for index, row in sorted_true_positives.head(100).iterrows():\n",
    "    print(row['title'], row['proba'])"
   ]
  },
  {
   "cell_type": "code",
   "execution_count": null,
   "id": "0ed4d919-a0ca-4b90-b2f8-43c6ed2d5f0e",
   "metadata": {},
   "outputs": [],
   "source": []
  }
 ],
 "metadata": {
  "kernelspec": {
   "display_name": "Python 3 (ipykernel)",
   "language": "python",
   "name": "python3"
  },
  "language_info": {
   "codemirror_mode": {
    "name": "ipython",
    "version": 3
   },
   "file_extension": ".py",
   "mimetype": "text/x-python",
   "name": "python",
   "nbconvert_exporter": "python",
   "pygments_lexer": "ipython3",
   "version": "3.12.6"
  }
 },
 "nbformat": 4,
 "nbformat_minor": 5
}
