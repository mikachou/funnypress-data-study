{
 "cells": [
  {
   "cell_type": "code",
   "execution_count": 1,
   "id": "bbbde3e9-c28a-486e-a9e1-c57ffae16da8",
   "metadata": {},
   "outputs": [],
   "source": [
    "import numpy as np\n",
    "import pandas as pd\n",
    "import matplotlib.pyplot as plt"
   ]
  },
  {
   "cell_type": "code",
   "execution_count": 2,
   "id": "4424dedf-680a-4375-9116-c27fe15399c7",
   "metadata": {},
   "outputs": [],
   "source": [
    "df = pd.read_csv('../data/clean/dataset.csv')"
   ]
  },
  {
   "cell_type": "code",
   "execution_count": 3,
   "id": "b4d6db6f-3e73-421c-a96e-430932715ca3",
   "metadata": {},
   "outputs": [
    {
     "data": {
      "text/html": [
       "<div>\n",
       "<style scoped>\n",
       "    .dataframe tbody tr th:only-of-type {\n",
       "        vertical-align: middle;\n",
       "    }\n",
       "\n",
       "    .dataframe tbody tr th {\n",
       "        vertical-align: top;\n",
       "    }\n",
       "\n",
       "    .dataframe thead th {\n",
       "        text-align: right;\n",
       "    }\n",
       "</style>\n",
       "<table border=\"1\" class=\"dataframe\">\n",
       "  <thead>\n",
       "    <tr style=\"text-align: right;\">\n",
       "      <th></th>\n",
       "      <th>name</th>\n",
       "      <th>url</th>\n",
       "      <th>title</th>\n",
       "      <th>lemmes</th>\n",
       "      <th>funny</th>\n",
       "    </tr>\n",
       "  </thead>\n",
       "  <tbody>\n",
       "    <tr>\n",
       "      <th>0</th>\n",
       "      <td>liberation</td>\n",
       "      <td>https://www.liberation.fr/international/ameriq...</td>\n",
       "      <td>A New York, la mairie veut rendre la Ve Avenue...</td>\n",
       "      <td>new york mairie vouloir ve avenue pieton</td>\n",
       "      <td>0</td>\n",
       "    </tr>\n",
       "    <tr>\n",
       "      <th>1</th>\n",
       "      <td>liberation</td>\n",
       "      <td>https://www.liberation.fr/forums/vers-une-resp...</td>\n",
       "      <td>Vers une responsabilité sociale et environneme...</td>\n",
       "      <td>responsabilite social environnemental musee</td>\n",
       "      <td>0</td>\n",
       "    </tr>\n",
       "    <tr>\n",
       "      <th>2</th>\n",
       "      <td>liberation</td>\n",
       "      <td>https://www.liberation.fr/international/ameriq...</td>\n",
       "      <td>Présidentielle américaine 2024 : à la frontièr...</td>\n",
       "      <td>presidentielle americain frontiere mexicain es...</td>\n",
       "      <td>0</td>\n",
       "    </tr>\n",
       "    <tr>\n",
       "      <th>3</th>\n",
       "      <td>liberation</td>\n",
       "      <td>https://www.liberation.fr/forums/mal-logement-...</td>\n",
       "      <td>Mal-logement : «Les luttes des habitants sont ...</td>\n",
       "      <td>mal-logement lutte habitant revendication ecol...</td>\n",
       "      <td>0</td>\n",
       "    </tr>\n",
       "    <tr>\n",
       "      <th>4</th>\n",
       "      <td>liberation</td>\n",
       "      <td>https://www.liberation.fr/culture/musique/waru...</td>\n",
       "      <td>Warum Joe, punk canal historique</td>\n",
       "      <td>warum joe punk canal historique</td>\n",
       "      <td>0</td>\n",
       "    </tr>\n",
       "    <tr>\n",
       "      <th>...</th>\n",
       "      <td>...</td>\n",
       "      <td>...</td>\n",
       "      <td>...</td>\n",
       "      <td>...</td>\n",
       "      <td>...</td>\n",
       "    </tr>\n",
       "    <tr>\n",
       "      <th>102080</th>\n",
       "      <td>le_parisien</td>\n",
       "      <td>https://www.leparisien.fr/international/etats-...</td>\n",
       "      <td>« Nous avons désormais une chance de gagner »...</td>\n",
       "      <td>desormais chance gagner apres retrait biden de...</td>\n",
       "      <td>0</td>\n",
       "    </tr>\n",
       "    <tr>\n",
       "      <th>102081</th>\n",
       "      <td>le_parisien</td>\n",
       "      <td>https://www.leparisien.fr/jo-paris-2024/handba...</td>\n",
       "      <td>JO Paris 2024, handball : pourquoi le tournoi ...</td>\n",
       "      <td>jo paris handball tournoi terminer lille paris</td>\n",
       "      <td>0</td>\n",
       "    </tr>\n",
       "    <tr>\n",
       "      <th>102082</th>\n",
       "      <td>le_parisien</td>\n",
       "      <td>https://www.leparisien.fr/jo-paris-2024/handba...</td>\n",
       "      <td>JO Paris 2024, handball : quels sont les pays ...</td>\n",
       "      <td>jo paris handball pays titres palmares tournoi...</td>\n",
       "      <td>0</td>\n",
       "    </tr>\n",
       "    <tr>\n",
       "      <th>102083</th>\n",
       "      <td>le_parisien</td>\n",
       "      <td>https://www.leparisien.fr/jo-paris-2024/handba...</td>\n",
       "      <td>JO Paris 2024, handball : le palmarès complet...</td>\n",
       "      <td>jo paris handball palmares complet equipe fran...</td>\n",
       "      <td>0</td>\n",
       "    </tr>\n",
       "    <tr>\n",
       "      <th>102084</th>\n",
       "      <td>le_parisien</td>\n",
       "      <td>https://www.leparisien.fr/jo-paris-2024/handba...</td>\n",
       "      <td>JO Paris 2024, handball : France, Danemark, No...</td>\n",
       "      <td>jo paris handball france danemark norvege favo...</td>\n",
       "      <td>0</td>\n",
       "    </tr>\n",
       "  </tbody>\n",
       "</table>\n",
       "<p>102085 rows × 5 columns</p>\n",
       "</div>"
      ],
      "text/plain": [
       "               name                                                url  \\\n",
       "0        liberation  https://www.liberation.fr/international/ameriq...   \n",
       "1        liberation  https://www.liberation.fr/forums/vers-une-resp...   \n",
       "2        liberation  https://www.liberation.fr/international/ameriq...   \n",
       "3        liberation  https://www.liberation.fr/forums/mal-logement-...   \n",
       "4        liberation  https://www.liberation.fr/culture/musique/waru...   \n",
       "...             ...                                                ...   \n",
       "102080  le_parisien  https://www.leparisien.fr/international/etats-...   \n",
       "102081  le_parisien  https://www.leparisien.fr/jo-paris-2024/handba...   \n",
       "102082  le_parisien  https://www.leparisien.fr/jo-paris-2024/handba...   \n",
       "102083  le_parisien  https://www.leparisien.fr/jo-paris-2024/handba...   \n",
       "102084  le_parisien  https://www.leparisien.fr/jo-paris-2024/handba...   \n",
       "\n",
       "                                                    title  \\\n",
       "0       A New York, la mairie veut rendre la Ve Avenue...   \n",
       "1       Vers une responsabilité sociale et environneme...   \n",
       "2       Présidentielle américaine 2024 : à la frontièr...   \n",
       "3       Mal-logement : «Les luttes des habitants sont ...   \n",
       "4                        Warum Joe, punk canal historique   \n",
       "...                                                   ...   \n",
       "102080  « Nous avons désormais une chance de gagner »...   \n",
       "102081  JO Paris 2024, handball : pourquoi le tournoi ...   \n",
       "102082  JO Paris 2024, handball : quels sont les pays ...   \n",
       "102083  JO Paris 2024, handball : le palmarès complet...   \n",
       "102084  JO Paris 2024, handball : France, Danemark, No...   \n",
       "\n",
       "                                                   lemmes  funny  \n",
       "0                new york mairie vouloir ve avenue pieton      0  \n",
       "1             responsabilite social environnemental musee      0  \n",
       "2       presidentielle americain frontiere mexicain es...      0  \n",
       "3       mal-logement lutte habitant revendication ecol...      0  \n",
       "4                         warum joe punk canal historique      0  \n",
       "...                                                   ...    ...  \n",
       "102080  desormais chance gagner apres retrait biden de...      0  \n",
       "102081     jo paris handball tournoi terminer lille paris      0  \n",
       "102082  jo paris handball pays titres palmares tournoi...      0  \n",
       "102083  jo paris handball palmares complet equipe fran...      0  \n",
       "102084  jo paris handball france danemark norvege favo...      0  \n",
       "\n",
       "[102085 rows x 5 columns]"
      ]
     },
     "execution_count": 3,
     "metadata": {},
     "output_type": "execute_result"
    }
   ],
   "source": [
    "df"
   ]
  },
  {
   "cell_type": "code",
   "execution_count": 4,
   "id": "9716e460-c900-4f49-9fec-4b0b9ca1cb52",
   "metadata": {},
   "outputs": [
    {
     "name": "stdout",
     "output_type": "stream",
     "text": [
      "102085\n",
      "86795\n",
      "0.8502228535044326\n",
      "15290\n",
      "0.14977714649556742\n"
     ]
    }
   ],
   "source": [
    "print(len(df))\n",
    "print(len(df[df['funny'] == 0]))\n",
    "print(len(df[df['funny'] == 0]) / len(df))\n",
    "print(len(df[df['funny'] == 1]))\n",
    "print(len(df[df['funny'] == 1]) / len(df))"
   ]
  },
  {
   "cell_type": "code",
   "execution_count": 5,
   "id": "7d57c540-e467-4b37-ac68-e69c9f98ed78",
   "metadata": {},
   "outputs": [
    {
     "data": {
      "text/plain": [
       "array(['liberation', 'huffpost', 'ouest_france', 'actu_orange', 'europe1',\n",
       "       'franceinfotv', 'le_monde', 'la_depeche', 'rfi', 'demotivateur',\n",
       "       'le_parisien'], dtype=object)"
      ]
     },
     "execution_count": 5,
     "metadata": {},
     "output_type": "execute_result"
    }
   ],
   "source": [
    "df['name'].unique()"
   ]
  },
  {
   "cell_type": "code",
   "execution_count": 6,
   "id": "6090ea87-3469-4ce7-9e95-29600d3605c6",
   "metadata": {},
   "outputs": [
    {
     "data": {
      "text/html": [
       "<div>\n",
       "<style scoped>\n",
       "    .dataframe tbody tr th:only-of-type {\n",
       "        vertical-align: middle;\n",
       "    }\n",
       "\n",
       "    .dataframe tbody tr th {\n",
       "        vertical-align: top;\n",
       "    }\n",
       "\n",
       "    .dataframe thead th {\n",
       "        text-align: right;\n",
       "    }\n",
       "</style>\n",
       "<table border=\"1\" class=\"dataframe\">\n",
       "  <thead>\n",
       "    <tr style=\"text-align: right;\">\n",
       "      <th></th>\n",
       "      <th>name</th>\n",
       "      <th>count</th>\n",
       "    </tr>\n",
       "  </thead>\n",
       "  <tbody>\n",
       "    <tr>\n",
       "      <th>7</th>\n",
       "      <td>le_parisien</td>\n",
       "      <td>17996</td>\n",
       "    </tr>\n",
       "    <tr>\n",
       "      <th>9</th>\n",
       "      <td>ouest_france</td>\n",
       "      <td>16704</td>\n",
       "    </tr>\n",
       "    <tr>\n",
       "      <th>5</th>\n",
       "      <td>la_depeche</td>\n",
       "      <td>16440</td>\n",
       "    </tr>\n",
       "    <tr>\n",
       "      <th>3</th>\n",
       "      <td>franceinfotv</td>\n",
       "      <td>14142</td>\n",
       "    </tr>\n",
       "    <tr>\n",
       "      <th>4</th>\n",
       "      <td>huffpost</td>\n",
       "      <td>10307</td>\n",
       "    </tr>\n",
       "    <tr>\n",
       "      <th>6</th>\n",
       "      <td>le_monde</td>\n",
       "      <td>8565</td>\n",
       "    </tr>\n",
       "    <tr>\n",
       "      <th>10</th>\n",
       "      <td>rfi</td>\n",
       "      <td>7247</td>\n",
       "    </tr>\n",
       "    <tr>\n",
       "      <th>8</th>\n",
       "      <td>liberation</td>\n",
       "      <td>5999</td>\n",
       "    </tr>\n",
       "    <tr>\n",
       "      <th>1</th>\n",
       "      <td>demotivateur</td>\n",
       "      <td>2381</td>\n",
       "    </tr>\n",
       "    <tr>\n",
       "      <th>2</th>\n",
       "      <td>europe1</td>\n",
       "      <td>1704</td>\n",
       "    </tr>\n",
       "    <tr>\n",
       "      <th>0</th>\n",
       "      <td>actu_orange</td>\n",
       "      <td>600</td>\n",
       "    </tr>\n",
       "  </tbody>\n",
       "</table>\n",
       "</div>"
      ],
      "text/plain": [
       "            name  count\n",
       "7    le_parisien  17996\n",
       "9   ouest_france  16704\n",
       "5     la_depeche  16440\n",
       "3   franceinfotv  14142\n",
       "4       huffpost  10307\n",
       "6       le_monde   8565\n",
       "10           rfi   7247\n",
       "8     liberation   5999\n",
       "1   demotivateur   2381\n",
       "2        europe1   1704\n",
       "0    actu_orange    600"
      ]
     },
     "execution_count": 6,
     "metadata": {},
     "output_type": "execute_result"
    }
   ],
   "source": [
    "df.groupby('name').size().reset_index(name='count').sort_values(by='count', ascending=False)"
   ]
  },
  {
   "cell_type": "code",
   "execution_count": 7,
   "id": "ac9430d1-9a9d-4bac-98be-de9af1443654",
   "metadata": {},
   "outputs": [
    {
     "name": "stdout",
     "output_type": "stream",
     "text": [
      "liberation       5999    0.05876\n",
      "huffpost        10307    0.10096\n",
      "ouest_france    16704    0.16363\n",
      "actu_orange       600    0.00588\n",
      "europe1          1704    0.01669\n",
      "franceinfotv    14142    0.13853\n",
      "le_monde         8565    0.08390\n",
      "la_depeche      16440    0.16104\n",
      "rfi              7247    0.07099\n",
      "demotivateur     2381    0.02332\n",
      "le_parisien     17996    0.17628\n"
     ]
    }
   ],
   "source": [
    "for name in df['name'].unique():\n",
    "    print(\"{:<15} {:>5}    {:>.5f}\".format(name, len(df[df['name'] == name]), len(df[df['name'] == name])/len(df)))\n",
    "\n",
    "\n",
    "\n"
   ]
  },
  {
   "cell_type": "code",
   "execution_count": 8,
   "id": "f3bd5e77-26fc-4e49-9a50-1cd7ddcb627f",
   "metadata": {},
   "outputs": [
    {
     "name": "stdout",
     "output_type": "stream",
     "text": [
      "le_parisien     17996    0.17628\n",
      "ouest_france    16704    0.16363\n",
      "la_depeche      16440    0.16104\n",
      "franceinfotv    14142    0.13853\n",
      "huffpost        10307    0.10096\n",
      "le_monde         8565    0.08390\n",
      "rfi              7247    0.07099\n",
      "liberation       5999    0.05876\n",
      "demotivateur     2381    0.02332\n",
      "europe1          1704    0.01669\n",
      "actu_orange       600    0.00588\n"
     ]
    }
   ],
   "source": [
    "for index, row in df.groupby('name').size().reset_index(name='count').sort_values(by='count', ascending=False).iterrows():\n",
    "    print(\"{:<15} {:>5}    {:>.5f}\".format(row['name'], row['count'], row['count']/len(df)))\n"
   ]
  },
  {
   "cell_type": "code",
   "execution_count": null,
   "id": "bfff5c0e-9c66-49d8-91b3-5ce27e627ce6",
   "metadata": {},
   "outputs": [],
   "source": []
  }
 ],
 "metadata": {
  "kernelspec": {
   "display_name": "Python 3 (ipykernel)",
   "language": "python",
   "name": "python3"
  },
  "language_info": {
   "codemirror_mode": {
    "name": "ipython",
    "version": 3
   },
   "file_extension": ".py",
   "mimetype": "text/x-python",
   "name": "python",
   "nbconvert_exporter": "python",
   "pygments_lexer": "ipython3",
   "version": "3.12.6"
  }
 },
 "nbformat": 4,
 "nbformat_minor": 5
}
