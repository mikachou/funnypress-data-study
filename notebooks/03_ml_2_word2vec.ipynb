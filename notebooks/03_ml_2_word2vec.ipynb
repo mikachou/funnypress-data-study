{
 "cells": [
  {
   "cell_type": "code",
   "execution_count": 1,
   "id": "e2f5161b-e12c-4285-9f1e-d94ac4f0f530",
   "metadata": {},
   "outputs": [
    {
     "name": "stderr",
     "output_type": "stream",
     "text": [
      "2024-11-21 01:39:15.841132: E external/local_xla/xla/stream_executor/cuda/cuda_fft.cc:477] Unable to register cuFFT factory: Attempting to register factory for plugin cuFFT when one has already been registered\n",
      "WARNING: All log messages before absl::InitializeLog() is called are written to STDERR\n",
      "E0000 00:00:1732149555.859753   72935 cuda_dnn.cc:8310] Unable to register cuDNN factory: Attempting to register factory for plugin cuDNN when one has already been registered\n",
      "E0000 00:00:1732149555.865232   72935 cuda_blas.cc:1418] Unable to register cuBLAS factory: Attempting to register factory for plugin cuBLAS when one has already been registered\n",
      "2024-11-21 01:39:15.882455: I tensorflow/core/platform/cpu_feature_guard.cc:210] This TensorFlow binary is optimized to use available CPU instructions in performance-critical operations.\n",
      "To enable the following instructions: AVX2 FMA, in other operations, rebuild TensorFlow with the appropriate compiler flags.\n"
     ]
    }
   ],
   "source": [
    "import pandas as pd\n",
    "from sklearn.model_selection import train_test_split\n",
    "from sklearn.feature_extraction.text import CountVectorizer\n",
    "from sklearn.metrics import accuracy_score, classification_report, f1_score, average_precision_score, make_scorer\n",
    "from sklearn.ensemble import RandomForestClassifier, GradientBoostingClassifier, StackingClassifier\n",
    "from sklearn.svm import SVC\n",
    "from sklearn.neural_network import MLPClassifier\n",
    "from lightgbm import LGBMClassifier\n",
    "from xgboost import XGBClassifier\n",
    "from catboost import CatBoostClassifier\n",
    "import optuna\n",
    "\n",
    "from functions import *\n",
    "from word2vec_vectorizer import Word2VecVectorizer\n",
    "\n",
    "# Load your dataset\n",
    "df = pd.read_csv(\"../data/clean/dataset.csv\").fillna('')\n",
    "X = df[\"lemmes\"]\n",
    "y = df[\"funny\"]\n",
    "\n",
    "# Split into train/test sets\n",
    "X_train, X_test, y_train, y_test = train_test_split(X, y, test_size=0.2, random_state=42, stratify=y)"
   ]
  },
  {
   "cell_type": "code",
   "execution_count": 2,
   "id": "8c007096-7eb8-4158-800a-1f03da12b3fd",
   "metadata": {},
   "outputs": [],
   "source": [
    "vectorizer = Word2VecVectorizer()"
   ]
  },
  {
   "cell_type": "code",
   "execution_count": 3,
   "id": "14b9368b-a5f3-49e4-a87a-ec52b5acc53d",
   "metadata": {},
   "outputs": [
    {
     "name": "stderr",
     "output_type": "stream",
     "text": [
      "/home/michael/.pyenv/versions/funnypress-data-study/lib/python3.12/site-packages/keras/src/layers/core/embedding.py:90: UserWarning: Argument `input_length` is deprecated. Just remove it.\n",
      "  warnings.warn(\n",
      "I0000 00:00:1732149617.683513   72935 gpu_device.cc:2022] Created device /job:localhost/replica:0/task:0/device:GPU:0 with 1730 MB memory:  -> device: 0, name: NVIDIA GeForce MX150, pci bus id: 0000:01:00.0, compute capability: 6.1\n",
      "WARNING: All log messages before absl::InitializeLog() is called are written to STDERR\n",
      "I0000 00:00:1732149620.259888   74053 service.cc:148] XLA service 0x7f07b4002b40 initialized for platform CUDA (this does not guarantee that XLA will be used). Devices:\n",
      "I0000 00:00:1732149620.259910   74053 service.cc:156]   StreamExecutor device (0): NVIDIA GeForce MX150, Compute Capability 6.1\n",
      "I0000 00:00:1732149620.266607   74053 cuda_dnn.cc:529] Loaded cuDNN version 90300\n",
      "2024-11-21 01:40:20.278664: W external/local_xla/xla/service/gpu/nvptx_compiler.cc:930] The NVIDIA driver's CUDA version is 12.4 which is older than the PTX compiler version 12.5.82. Because the driver is older than the PTX compiler version, XLA is disabling parallel compilation, which may slow down compilation. You should update your NVIDIA driver or use the NVIDIA-provided CUDA forward compatibility packages.\n",
      "I0000 00:00:1732149620.345895   74053 device_compiler.h:188] Compiled cluster using XLA!  This line is logged at most once for the lifetime of the process.\n"
     ]
    }
   ],
   "source": [
    "X_train_embeddings = vectorizer.fit_transform(X_train)\n",
    "X_test_embeddings = vectorizer.transform(X_test)"
   ]
  },
  {
   "cell_type": "code",
   "execution_count": 4,
   "id": "2476ad58-6b1c-48e3-9a8a-6e8f318675f7",
   "metadata": {},
   "outputs": [],
   "source": [
    "# Train models\n",
    "best_models = []"
   ]
  },
  {
   "cell_type": "code",
   "execution_count": 5,
   "id": "cc21ca24-b9d8-43e5-b580-b4e1ae8bffcf",
   "metadata": {},
   "outputs": [
    {
     "name": "stderr",
     "output_type": "stream",
     "text": [
      "/home/michael/code/python/funnypress-data-study/notebooks/functions.py:139: ExperimentalWarning: OptunaSearchCV is experimental (supported from v0.17.0). The interface can change in the future.\n",
      "  search = OptunaSearchCV(\n",
      "[I 2024-11-21 01:40:25,442] A new study created in memory with name: no-name-039213ef-db98-45c7-8406-38f099481baf\n",
      "[I 2024-11-21 01:43:36,835] Trial 1 finished with value: 0.017033298284591693 and parameters: {'classifier__n_estimators': 52, 'classifier__max_depth': 4, 'classifier__min_samples_split': 4, 'classifier__min_samples_leaf': 2}. Best is trial 1 with value: 0.017033298284591693.\n",
      "[I 2024-11-21 01:44:58,253] Trial 2 finished with value: 0.0 and parameters: {'classifier__n_estimators': 98, 'classifier__max_depth': 3, 'classifier__min_samples_split': 4, 'classifier__min_samples_leaf': 2}. Best is trial 1 with value: 0.017033298284591693.\n",
      "[I 2024-11-21 01:45:16,404] Trial 6 finished with value: 0.14807085620411503 and parameters: {'classifier__n_estimators': 66, 'classifier__max_depth': 5, 'classifier__min_samples_split': 4, 'classifier__min_samples_leaf': 3}. Best is trial 6 with value: 0.14807085620411503.\n",
      "[I 2024-11-21 01:45:30,281] Trial 7 finished with value: 0.2922374729463527 and parameters: {'classifier__n_estimators': 59, 'classifier__max_depth': 6, 'classifier__min_samples_split': 3, 'classifier__min_samples_leaf': 1}. Best is trial 7 with value: 0.2922374729463527.\n",
      "[I 2024-11-21 01:45:42,446] Trial 3 finished with value: 0.0 and parameters: {'classifier__n_estimators': 113, 'classifier__max_depth': 3, 'classifier__min_samples_split': 5, 'classifier__min_samples_leaf': 1}. Best is trial 7 with value: 0.2922374729463527.\n",
      "[I 2024-11-21 01:48:37,256] Trial 8 finished with value: 0.017036666839012726 and parameters: {'classifier__n_estimators': 83, 'classifier__max_depth': 4, 'classifier__min_samples_split': 2, 'classifier__min_samples_leaf': 3}. Best is trial 7 with value: 0.2922374729463527.\n",
      "[I 2024-11-21 01:49:41,742] Trial 0 finished with value: 0.5023921062382842 and parameters: {'classifier__n_estimators': 77, 'classifier__max_depth': 9, 'classifier__min_samples_split': 7, 'classifier__min_samples_leaf': 1}. Best is trial 0 with value: 0.5023921062382842.\n",
      "[I 2024-11-21 01:50:30,816] Trial 4 finished with value: 0.15022530768537076 and parameters: {'classifier__n_estimators': 138, 'classifier__max_depth': 5, 'classifier__min_samples_split': 5, 'classifier__min_samples_leaf': 1}. Best is trial 0 with value: 0.5023921062382842.\n",
      "[I 2024-11-21 01:52:18,348] Trial 11 finished with value: 0.3766357638500545 and parameters: {'classifier__n_estimators': 70, 'classifier__max_depth': 7, 'classifier__min_samples_split': 4, 'classifier__min_samples_leaf': 1}. Best is trial 0 with value: 0.5023921062382842.\n",
      "[I 2024-11-21 01:52:34,431] Trial 5 finished with value: 0.5438726461076138 and parameters: {'classifier__n_estimators': 94, 'classifier__max_depth': 10, 'classifier__min_samples_split': 7, 'classifier__min_samples_leaf': 4}. Best is trial 5 with value: 0.5438726461076138.\n",
      "[I 2024-11-21 01:54:28,559] Trial 13 finished with value: 0.014307822196796011 and parameters: {'classifier__n_estimators': 98, 'classifier__max_depth': 4, 'classifier__min_samples_split': 7, 'classifier__min_samples_leaf': 2}. Best is trial 5 with value: 0.5438726461076138.\n",
      "[I 2024-11-21 01:55:50,366] Trial 10 finished with value: 0.4559655176780022 and parameters: {'classifier__n_estimators': 97, 'classifier__max_depth': 8, 'classifier__min_samples_split': 3, 'classifier__min_samples_leaf': 3}. Best is trial 5 with value: 0.5438726461076138.\n",
      "[I 2024-11-21 01:56:16,249] Trial 9 finished with value: 0.28214190795917427 and parameters: {'classifier__n_estimators': 132, 'classifier__max_depth': 6, 'classifier__min_samples_split': 2, 'classifier__min_samples_leaf': 1}. Best is trial 5 with value: 0.5438726461076138.\n",
      "[I 2024-11-21 01:57:14,711] Trial 12 finished with value: 0.383662474231291 and parameters: {'classifier__n_estimators': 119, 'classifier__max_depth': 7, 'classifier__min_samples_split': 4, 'classifier__min_samples_leaf': 2}. Best is trial 5 with value: 0.5438726461076138.\n",
      "[I 2024-11-21 01:57:47,395] Trial 16 finished with value: 0.0 and parameters: {'classifier__n_estimators': 122, 'classifier__max_depth': 3, 'classifier__min_samples_split': 3, 'classifier__min_samples_leaf': 1}. Best is trial 5 with value: 0.5438726461076138.\n",
      "[I 2024-11-21 02:00:00,168] Trial 14 finished with value: 0.5064688114252869 and parameters: {'classifier__n_estimators': 94, 'classifier__max_depth': 9, 'classifier__min_samples_split': 5, 'classifier__min_samples_leaf': 3}. Best is trial 5 with value: 0.5438726461076138.\n",
      "[I 2024-11-21 02:00:56,908] Trial 15 finished with value: 0.5080207530629403 and parameters: {'classifier__n_estimators': 103, 'classifier__max_depth': 9, 'classifier__min_samples_split': 6, 'classifier__min_samples_leaf': 2}. Best is trial 5 with value: 0.5438726461076138.\n",
      "[I 2024-11-21 02:04:26,277] Trial 17 finished with value: 0.544953137026753 and parameters: {'classifier__n_estimators': 124, 'classifier__max_depth': 10, 'classifier__min_samples_split': 8, 'classifier__min_samples_leaf': 4}. Best is trial 17 with value: 0.544953137026753.\n",
      "[I 2024-11-21 02:05:22,318] Trial 18 finished with value: 0.5449917132991721 and parameters: {'classifier__n_estimators': 123, 'classifier__max_depth': 10, 'classifier__min_samples_split': 8, 'classifier__min_samples_leaf': 4}. Best is trial 18 with value: 0.5449917132991721.\n",
      "[I 2024-11-21 02:05:43,796] Trial 19 finished with value: 0.5441491558722257 and parameters: {'classifier__n_estimators': 119, 'classifier__max_depth': 10, 'classifier__min_samples_split': 8, 'classifier__min_samples_leaf': 4}. Best is trial 18 with value: 0.5449917132991721.\n"
     ]
    },
    {
     "name": "stdout",
     "output_type": "stream",
     "text": [
      "Best parameters: {'classifier__n_estimators': 123, 'classifier__max_depth': 10, 'classifier__min_samples_split': 8, 'classifier__min_samples_leaf': 4}\n",
      "Test Accuracy: 0.8769764932201004\n",
      "F1 Score: 0.5460526315789473\n",
      "              precision    recall  f1-score   support\n",
      "\n",
      "           0       0.88      0.99      0.93     17359\n",
      "           1       0.87      0.40      0.55      3954\n",
      "\n",
      "    accuracy                           0.88     21313\n",
      "   macro avg       0.87      0.69      0.74     21313\n",
      "weighted avg       0.88      0.88      0.86     21313\n",
      "\n"
     ]
    }
   ],
   "source": [
    "# Random Forest\n",
    "rf_param_distributions = {\n",
    "    \"classifier__n_estimators\": optuna.distributions.IntDistribution(50, 150),\n",
    "    \"classifier__max_depth\": optuna.distributions.IntDistribution(3, 10),\n",
    "    \"classifier__min_samples_split\": optuna.distributions.IntDistribution(2, 8),\n",
    "    \"classifier__min_samples_leaf\": optuna.distributions.IntDistribution(1, 4),\n",
    "}\n",
    "\n",
    "rf_model, rf_acc = train_model_with_optuna(\n",
    "    model=RandomForestClassifier(random_state=314),\n",
    "    param_distributions=rf_param_distributions,\n",
    "    X_train_embeddings=X_train_embeddings,\n",
    "    y_train=y_train,\n",
    "    X_test_embeddings=X_test_embeddings,\n",
    "    y_test=y_test,\n",
    ")\n",
    "best_models.append((\"random_forest\", rf_model))"
   ]
  },
  {
   "cell_type": "code",
   "execution_count": 6,
   "id": "10c9b1f3-1d0e-4b14-ae33-50232030d1fc",
   "metadata": {},
   "outputs": [
    {
     "name": "stderr",
     "output_type": "stream",
     "text": [
      "/home/michael/code/python/funnypress-data-study/notebooks/functions.py:139: ExperimentalWarning: OptunaSearchCV is experimental (supported from v0.17.0). The interface can change in the future.\n",
      "  search = OptunaSearchCV(\n",
      "[I 2024-11-21 02:07:30,297] A new study created in memory with name: no-name-e18c55f9-86e1-45df-8228-e716cfc62e3d\n",
      "[I 2024-11-21 02:08:01,987] Trial 4 finished with value: 0.5073900189075599 and parameters: {'classifier__n_estimators': 55, 'classifier__learning_rate': 0.06008337116580667, 'classifier__max_depth': 3}. Best is trial 4 with value: 0.5073900189075599.\n",
      "[I 2024-11-21 02:08:06,329] Trial 2 finished with value: 0.15281916092528355 and parameters: {'classifier__n_estimators': 62, 'classifier__learning_rate': 0.022912653901423247, 'classifier__max_depth': 3}. Best is trial 4 with value: 0.5073900189075599.\n",
      "[I 2024-11-21 02:08:22,694] Trial 7 finished with value: 0.562056145299376 and parameters: {'classifier__n_estimators': 54, 'classifier__learning_rate': 0.04491454830663207, 'classifier__max_depth': 5}. Best is trial 7 with value: 0.562056145299376.\n",
      "[I 2024-11-21 02:08:32,217] Trial 3 finished with value: 0.6831539846649578 and parameters: {'classifier__n_estimators': 96, 'classifier__learning_rate': 0.10761410001920915, 'classifier__max_depth': 4}. Best is trial 3 with value: 0.6831539846649578.\n",
      "[I 2024-11-21 02:08:48,001] Trial 5 finished with value: 0.6776571183051596 and parameters: {'classifier__n_estimators': 119, 'classifier__learning_rate': 0.08071756054181496, 'classifier__max_depth': 4}. Best is trial 3 with value: 0.6831539846649578.\n",
      "[I 2024-11-21 02:08:55,008] Trial 6 finished with value: 0.6968296834003769 and parameters: {'classifier__n_estimators': 74, 'classifier__learning_rate': 0.11088473966984835, 'classifier__max_depth': 6}. Best is trial 6 with value: 0.6968296834003769.\n",
      "[I 2024-11-21 02:09:00,429] Trial 0 finished with value: 0.7089275323868857 and parameters: {'classifier__n_estimators': 85, 'classifier__learning_rate': 0.14928935446104918, 'classifier__max_depth': 6}. Best is trial 0 with value: 0.7089275323868857.\n",
      "[I 2024-11-21 02:09:06,214] Trial 1 finished with value: 0.6109503272910025 and parameters: {'classifier__n_estimators': 149, 'classifier__learning_rate': 0.028579029180476695, 'classifier__max_depth': 4}. Best is trial 0 with value: 0.7089275323868857.\n",
      "[I 2024-11-21 02:09:14,801] Trial 10 finished with value: 0.6755108397449148 and parameters: {'classifier__n_estimators': 77, 'classifier__learning_rate': 0.1194461445983365, 'classifier__max_depth': 4}. Best is trial 0 with value: 0.7089275323868857.\n",
      "[I 2024-11-21 02:09:27,664] Trial 9 finished with value: 0.662694517235238 and parameters: {'classifier__n_estimators': 123, 'classifier__learning_rate': 0.05932559574561332, 'classifier__max_depth': 4}. Best is trial 0 with value: 0.7089275323868857.\n",
      "[I 2024-11-21 02:09:36,589] Trial 8 finished with value: 0.6010615619592495 and parameters: {'classifier__n_estimators': 76, 'classifier__learning_rate': 0.03293425112972167, 'classifier__max_depth': 6}. Best is trial 0 with value: 0.7089275323868857.\n",
      "[I 2024-11-21 02:09:42,066] Trial 11 finished with value: 0.257931860840546 and parameters: {'classifier__n_estimators': 97, 'classifier__learning_rate': 0.013170642001185779, 'classifier__max_depth': 4}. Best is trial 0 with value: 0.7089275323868857.\n",
      "[I 2024-11-21 02:10:07,312] Trial 15 finished with value: 0.6441289559284091 and parameters: {'classifier__n_estimators': 64, 'classifier__learning_rate': 0.06878682124210156, 'classifier__max_depth': 5}. Best is trial 0 with value: 0.7089275323868857.\n",
      "[I 2024-11-21 02:10:18,825] Trial 12 finished with value: 0.7000364083316412 and parameters: {'classifier__n_estimators': 82, 'classifier__learning_rate': 0.10596958865073229, 'classifier__max_depth': 6}. Best is trial 0 with value: 0.7089275323868857.\n",
      "[I 2024-11-21 02:10:47,676] Trial 16 finished with value: 0.7003217608203725 and parameters: {'classifier__n_estimators': 68, 'classifier__learning_rate': 0.11864724677675151, 'classifier__max_depth': 7}. Best is trial 0 with value: 0.7089275323868857.\n",
      "[I 2024-11-21 02:10:51,747] Trial 13 finished with value: 0.6742107367379715 and parameters: {'classifier__n_estimators': 110, 'classifier__learning_rate': 0.04762150186784318, 'classifier__max_depth': 6}. Best is trial 0 with value: 0.7089275323868857.\n",
      "[I 2024-11-21 02:11:00,119] Trial 14 finished with value: 0.6983187959951962 and parameters: {'classifier__n_estimators': 93, 'classifier__learning_rate': 0.07516800164850772, 'classifier__max_depth': 7}. Best is trial 0 with value: 0.7089275323868857.\n",
      "[I 2024-11-21 02:11:06,148] Trial 19 finished with value: 0.7119817144819967 and parameters: {'classifier__n_estimators': 79, 'classifier__learning_rate': 0.1458894917364437, 'classifier__max_depth': 7}. Best is trial 19 with value: 0.7119817144819967.\n",
      "[I 2024-11-21 02:11:07,927] Trial 18 finished with value: 0.7137594235514318 and parameters: {'classifier__n_estimators': 90, 'classifier__learning_rate': 0.14919327915370714, 'classifier__max_depth': 7}. Best is trial 18 with value: 0.7137594235514318.\n",
      "[I 2024-11-21 02:11:08,246] Trial 17 finished with value: 0.7126524437869999 and parameters: {'classifier__n_estimators': 98, 'classifier__learning_rate': 0.14801929480273793, 'classifier__max_depth': 7}. Best is trial 18 with value: 0.7137594235514318.\n"
     ]
    },
    {
     "name": "stdout",
     "output_type": "stream",
     "text": [
      "Best parameters: {'classifier__n_estimators': 90, 'classifier__learning_rate': 0.14919327915370714, 'classifier__max_depth': 7}\n",
      "Test Accuracy: 0.9063482381645005\n",
      "F1 Score: 0.7286568787384448\n",
      "              precision    recall  f1-score   support\n",
      "\n",
      "           0       0.93      0.96      0.94     17359\n",
      "           1       0.79      0.68      0.73      3954\n",
      "\n",
      "    accuracy                           0.91     21313\n",
      "   macro avg       0.86      0.82      0.84     21313\n",
      "weighted avg       0.90      0.91      0.90     21313\n",
      "\n"
     ]
    }
   ],
   "source": [
    "# XGBoost\n",
    "xgb_param_distributions = {\n",
    "    \"classifier__n_estimators\": optuna.distributions.IntDistribution(50, 150),\n",
    "    \"classifier__learning_rate\": optuna.distributions.FloatDistribution(0.01, 0.15),\n",
    "    \"classifier__max_depth\": optuna.distributions.IntDistribution(3, 7),\n",
    "}\n",
    "\n",
    "xgb_model, xgb_acc = train_model_with_optuna(\n",
    "    model=XGBClassifier(random_state=314),\n",
    "    param_distributions=xgb_param_distributions,\n",
    "    X_train_embeddings=X_train_embeddings,\n",
    "    y_train=y_train,\n",
    "    X_test_embeddings=X_test_embeddings,\n",
    "    y_test=y_test,\n",
    ")\n",
    "best_models.append((\"xgboost\", xgb_model))"
   ]
  },
  {
   "cell_type": "code",
   "execution_count": 7,
   "id": "ae0c6d8f-0956-4c1b-a699-38ce383eeb63",
   "metadata": {},
   "outputs": [
    {
     "name": "stderr",
     "output_type": "stream",
     "text": [
      "/home/michael/code/python/funnypress-data-study/notebooks/functions.py:139: ExperimentalWarning: OptunaSearchCV is experimental (supported from v0.17.0). The interface can change in the future.\n",
      "  search = OptunaSearchCV(\n",
      "[I 2024-11-21 02:11:12,820] A new study created in memory with name: no-name-4c2a729c-7f75-49f1-b267-734b61e5a2c7\n",
      "[I 2024-11-21 02:11:22,969] Trial 0 finished with value: 0.6346540424409578 and parameters: {'classifier__iterations': 125, 'classifier__learning_rate': 0.054526606475992216, 'classifier__depth': 4}. Best is trial 0 with value: 0.6346540424409578.\n",
      "[I 2024-11-21 02:11:34,750] Trial 1 finished with value: 0.7000941721778149 and parameters: {'classifier__iterations': 150, 'classifier__learning_rate': 0.14272681529120812, 'classifier__depth': 4}. Best is trial 1 with value: 0.7000941721778149.\n",
      "[I 2024-11-21 02:11:40,327] Trial 2 finished with value: 0.25600851078446485 and parameters: {'classifier__iterations': 68, 'classifier__learning_rate': 0.01736318774937866, 'classifier__depth': 3}. Best is trial 1 with value: 0.7000941721778149.\n",
      "[I 2024-11-21 02:11:48,162] Trial 3 finished with value: 0.6227580683388386 and parameters: {'classifier__iterations': 91, 'classifier__learning_rate': 0.06632469930670283, 'classifier__depth': 4}. Best is trial 1 with value: 0.7000941721778149.\n",
      "[I 2024-11-21 02:11:57,184] Trial 4 finished with value: 0.6467182096750961 and parameters: {'classifier__iterations': 138, 'classifier__learning_rate': 0.07650786979572766, 'classifier__depth': 3}. Best is trial 1 with value: 0.7000941721778149.\n",
      "[I 2024-11-21 02:12:02,241] Trial 5 finished with value: 0.5603594838032789 and parameters: {'classifier__iterations': 65, 'classifier__learning_rate': 0.07431881902684255, 'classifier__depth': 3}. Best is trial 1 with value: 0.7000941721778149.\n",
      "[I 2024-11-21 02:12:11,295] Trial 6 finished with value: 0.6711769143267876 and parameters: {'classifier__iterations': 112, 'classifier__learning_rate': 0.10367860160477986, 'classifier__depth': 4}. Best is trial 1 with value: 0.7000941721778149.\n",
      "[I 2024-11-21 02:12:28,637] Trial 7 finished with value: 0.6544022543961947 and parameters: {'classifier__iterations': 136, 'classifier__learning_rate': 0.04401718074247253, 'classifier__depth': 6}. Best is trial 1 with value: 0.7000941721778149.\n",
      "[I 2024-11-21 02:12:39,092] Trial 8 finished with value: 0.6928873226649153 and parameters: {'classifier__iterations': 130, 'classifier__learning_rate': 0.14361845900010856, 'classifier__depth': 4}. Best is trial 1 with value: 0.7000941721778149.\n",
      "[I 2024-11-21 02:12:46,078] Trial 9 finished with value: 0.6376440299276355 and parameters: {'classifier__iterations': 94, 'classifier__learning_rate': 0.10001261968269068, 'classifier__depth': 3}. Best is trial 1 with value: 0.7000941721778149.\n",
      "[I 2024-11-21 02:13:11,369] Trial 10 finished with value: 0.7162833855180212 and parameters: {'classifier__iterations': 150, 'classifier__learning_rate': 0.14670430078978092, 'classifier__depth': 7}. Best is trial 10 with value: 0.7162833855180212.\n",
      "[I 2024-11-21 02:13:36,755] Trial 11 finished with value: 0.7165885153721233 and parameters: {'classifier__iterations': 150, 'classifier__learning_rate': 0.14968206573911058, 'classifier__depth': 7}. Best is trial 11 with value: 0.7165885153721233.\n",
      "[I 2024-11-21 02:14:01,587] Trial 12 finished with value: 0.7153214845835141 and parameters: {'classifier__iterations': 146, 'classifier__learning_rate': 0.12605104873704454, 'classifier__depth': 7}. Best is trial 11 with value: 0.7165885153721233.\n",
      "[I 2024-11-21 02:14:21,187] Trial 13 finished with value: 0.7012729178051001 and parameters: {'classifier__iterations': 113, 'classifier__learning_rate': 0.11697444083919908, 'classifier__depth': 7}. Best is trial 11 with value: 0.7165885153721233.\n",
      "[I 2024-11-21 02:14:28,578] Trial 14 finished with value: 0.6677881615651314 and parameters: {'classifier__iterations': 51, 'classifier__learning_rate': 0.14492410316972174, 'classifier__depth': 6}. Best is trial 11 with value: 0.7165885153721233.\n",
      "[I 2024-11-21 02:14:43,663] Trial 15 finished with value: 0.7020908235918538 and parameters: {'classifier__iterations': 118, 'classifier__learning_rate': 0.12454431041618823, 'classifier__depth': 6}. Best is trial 11 with value: 0.7165885153721233.\n",
      "[I 2024-11-21 02:15:09,247] Trial 16 finished with value: 0.7060567058091718 and parameters: {'classifier__iterations': 150, 'classifier__learning_rate': 0.09875875679836255, 'classifier__depth': 7}. Best is trial 11 with value: 0.7165885153721233.\n",
      "[I 2024-11-21 02:15:19,154] Trial 17 finished with value: 0.6863002930208267 and parameters: {'classifier__iterations': 99, 'classifier__learning_rate': 0.12735220460180052, 'classifier__depth': 5}. Best is trial 11 with value: 0.7165885153721233.\n",
      "[I 2024-11-21 02:15:36,364] Trial 18 finished with value: 0.7129658053245043 and parameters: {'classifier__iterations': 139, 'classifier__learning_rate': 0.14944366751699117, 'classifier__depth': 6}. Best is trial 11 with value: 0.7165885153721233.\n",
      "[I 2024-11-21 02:15:51,740] Trial 19 finished with value: 0.498834501271075 and parameters: {'classifier__iterations': 82, 'classifier__learning_rate': 0.010971496200050779, 'classifier__depth': 7}. Best is trial 11 with value: 0.7165885153721233.\n"
     ]
    },
    {
     "name": "stdout",
     "output_type": "stream",
     "text": [
      "Best parameters: {'classifier__iterations': 150, 'classifier__learning_rate': 0.14968206573911058, 'classifier__depth': 7}\n",
      "Test Accuracy: 0.9051283254351804\n",
      "F1 Score: 0.7232411716397481\n",
      "              precision    recall  f1-score   support\n",
      "\n",
      "           0       0.93      0.96      0.94     17359\n",
      "           1       0.79      0.67      0.72      3954\n",
      "\n",
      "    accuracy                           0.91     21313\n",
      "   macro avg       0.86      0.81      0.83     21313\n",
      "weighted avg       0.90      0.91      0.90     21313\n",
      "\n"
     ]
    }
   ],
   "source": [
    "# CatBoost\n",
    "catboost_param_distributions = {\n",
    "    \"classifier__iterations\": optuna.distributions.IntDistribution(50, 150),\n",
    "    \"classifier__learning_rate\": optuna.distributions.FloatDistribution(0.01, 0.15),\n",
    "    \"classifier__depth\": optuna.distributions.IntDistribution(3, 7),\n",
    "}\n",
    "\n",
    "catboost_model, catboost_acc = train_model_with_optuna(\n",
    "    model=CatBoostClassifier(verbose=0, random_state=314),\n",
    "    param_distributions=catboost_param_distributions,\n",
    "    X_train_embeddings=X_train_embeddings,\n",
    "    y_train=y_train,\n",
    "    X_test_embeddings=X_test_embeddings,\n",
    "    y_test=y_test,\n",
    "    n_jobs=1,\n",
    ")\n",
    "best_models.append((\"catboost\", catboost_model))\n"
   ]
  },
  {
   "cell_type": "code",
   "execution_count": 8,
   "id": "cf053c75-cc3a-4b62-a136-5fa0b8a52bb3",
   "metadata": {},
   "outputs": [
    {
     "name": "stdout",
     "output_type": "stream",
     "text": [
      "Stacking Classifier Test Accuracy: 0.90789658893633\n",
      "Stacking Classifier F1 Score: 0.7352663519892111\n",
      "              precision    recall  f1-score   support\n",
      "\n",
      "           0       0.93      0.96      0.94     17359\n",
      "           1       0.79      0.69      0.74      3954\n",
      "\n",
      "    accuracy                           0.91     21313\n",
      "   macro avg       0.86      0.82      0.84     21313\n",
      "weighted avg       0.90      0.91      0.91     21313\n",
      "\n"
     ]
    }
   ],
   "source": [
    "# Stacking the best models\n",
    "stacked_classifier = StackingClassifier(\n",
    "    estimators=best_models,\n",
    "    final_estimator=GradientBoostingClassifier(random_state=314),\n",
    "    cv=5,\n",
    ")\n",
    "\n",
    "\n",
    "stacked_classifier.fit(X_train_embeddings, y_train)\n",
    "y_pred = stacked_classifier.predict(X_test_embeddings)\n",
    "\n",
    "acc = accuracy_score(y_test, y_pred)\n",
    "f1 = f1_score(y_test, y_pred)\n",
    "\n",
    "print(f\"Stacking Classifier Test Accuracy: {acc}\")\n",
    "print(f\"Stacking Classifier F1 Score: {f1}\")\n",
    "\n",
    "print(classification_report(y_test, y_pred))"
   ]
  },
  {
   "cell_type": "code",
   "execution_count": null,
   "id": "e2caa3fe-912f-4b07-a81d-c2d8bf4120f9",
   "metadata": {},
   "outputs": [],
   "source": []
  }
 ],
 "metadata": {
  "kernelspec": {
   "display_name": "Python 3 (ipykernel)",
   "language": "python",
   "name": "python3"
  },
  "language_info": {
   "codemirror_mode": {
    "name": "ipython",
    "version": 3
   },
   "file_extension": ".py",
   "mimetype": "text/x-python",
   "name": "python",
   "nbconvert_exporter": "python",
   "pygments_lexer": "ipython3",
   "version": "3.12.6"
  }
 },
 "nbformat": 4,
 "nbformat_minor": 5
}
