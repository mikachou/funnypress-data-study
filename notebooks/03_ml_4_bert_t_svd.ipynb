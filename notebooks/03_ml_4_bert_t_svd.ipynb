{
 "cells": [
  {
   "cell_type": "code",
   "execution_count": 1,
   "id": "e2f5161b-e12c-4285-9f1e-d94ac4f0f530",
   "metadata": {},
   "outputs": [
    {
     "name": "stderr",
     "output_type": "stream",
     "text": [
      "2024-11-24 16:51:29.957750: E external/local_xla/xla/stream_executor/cuda/cuda_fft.cc:477] Unable to register cuFFT factory: Attempting to register factory for plugin cuFFT when one has already been registered\n",
      "WARNING: All log messages before absl::InitializeLog() is called are written to STDERR\n",
      "E0000 00:00:1732463489.977499  242151 cuda_dnn.cc:8310] Unable to register cuDNN factory: Attempting to register factory for plugin cuDNN when one has already been registered\n",
      "E0000 00:00:1732463489.983092  242151 cuda_blas.cc:1418] Unable to register cuBLAS factory: Attempting to register factory for plugin cuBLAS when one has already been registered\n",
      "2024-11-24 16:51:30.002210: I tensorflow/core/platform/cpu_feature_guard.cc:210] This TensorFlow binary is optimized to use available CPU instructions in performance-critical operations.\n",
      "To enable the following instructions: AVX2 FMA, in other operations, rebuild TensorFlow with the appropriate compiler flags.\n"
     ]
    }
   ],
   "source": [
    "import pandas as pd\n",
    "from sklearn.model_selection import train_test_split\n",
    "from sklearn.feature_extraction.text import CountVectorizer\n",
    "from sklearn.metrics import accuracy_score, classification_report, f1_score, average_precision_score, make_scorer\n",
    "from sklearn.ensemble import RandomForestClassifier, GradientBoostingClassifier, StackingClassifier\n",
    "from sklearn.svm import SVC\n",
    "from sklearn.neural_network import MLPClassifier\n",
    "from lightgbm import LGBMClassifier\n",
    "from xgboost import XGBClassifier\n",
    "from catboost import CatBoostClassifier\n",
    "import optuna\n",
    "\n",
    "from functions import *\n",
    "from bert_vectorizer import BertVectorizer\n",
    "from svd_transformer import SVDTransformer\n",
    "\n",
    "import os\n",
    "os.environ['TF_GPU_ALLOCATOR'] = 'cuda_malloc_async'\n",
    "\n",
    "# Load your dataset\n",
    "df = pd.read_csv(\"../data/clean/dataset.csv\").fillna('')\n",
    "X = df[\"title\"]\n",
    "y = df[\"funny\"]\n",
    "\n",
    "# Split into train/test sets\n",
    "X_train, X_test, y_train, y_test = train_test_split(X, y, test_size=0.2, random_state=42, stratify=y)"
   ]
  },
  {
   "cell_type": "code",
   "execution_count": 2,
   "id": "8c007096-7eb8-4158-800a-1f03da12b3fd",
   "metadata": {},
   "outputs": [],
   "source": [
    "vectorizer = BertVectorizer()"
   ]
  },
  {
   "cell_type": "code",
   "execution_count": 3,
   "id": "14b9368b-a5f3-49e4-a87a-ec52b5acc53d",
   "metadata": {},
   "outputs": [
    {
     "name": "stderr",
     "output_type": "stream",
     "text": [
      "I0000 00:00:1732463494.178754  242151 gpu_process_state.cc:201] Using CUDA malloc Async allocator for GPU: 0\n",
      "I0000 00:00:1732463494.178963  242151 gpu_device.cc:2022] Created device /job:localhost/replica:0/task:0/device:GPU:0 with 1730 MB memory:  -> device: 0, name: NVIDIA GeForce MX150, pci bus id: 0000:01:00.0, compute capability: 6.1\n",
      "Some weights of the PyTorch model were not used when initializing the TF 2.0 model TFCamembertModel: ['lm_head.dense.bias', 'lm_head.dense.weight', 'lm_head.layer_norm.weight', 'lm_head.layer_norm.bias', 'lm_head.bias']\n",
      "- This IS expected if you are initializing TFCamembertModel from a PyTorch model trained on another task or with another architecture (e.g. initializing a TFBertForSequenceClassification model from a BertForPreTraining model).\n",
      "- This IS NOT expected if you are initializing TFCamembertModel from a PyTorch model that you expect to be exactly identical (e.g. initializing a TFBertForSequenceClassification model from a BertForSequenceClassification model).\n",
      "All the weights of TFCamembertModel were initialized from the PyTorch model.\n",
      "If your task is similar to the task the model of the checkpoint was trained on, you can already use TFCamembertModel for predictions without further training.\n",
      "Encoding Batches: 100%|███████████████████████████████████████████████████████████████████████████████████████████| 2665/2665 [17:22<00:00,  2.56it/s]\n",
      "Encoding Batches: 100%|█████████████████████████████████████████████████████████████████████████████████████████████| 667/667 [04:23<00:00,  2.53it/s]\n"
     ]
    }
   ],
   "source": [
    "X_train_embeddings = vectorizer.fit_transform(list(X_train))\n",
    "X_test_embeddings = vectorizer.transform(list(X_test))"
   ]
  },
  {
   "cell_type": "code",
   "execution_count": 4,
   "id": "efd71b23-de16-4f17-99aa-f6742167fba2",
   "metadata": {},
   "outputs": [
    {
     "name": "stdout",
     "output_type": "stream",
     "text": [
      "Number of components selected: 91\n",
      "Cumulative explained variance: 0.9002\n",
      "(85249, 91) (21313, 91)\n"
     ]
    }
   ],
   "source": [
    "svd_tr = SVDTransformer()\n",
    "X_train_reduced = svd_tr.fit_transform(X_train_embeddings)\n",
    "X_test_reduced = svd_tr.transform(X_test_embeddings)\n",
    "print(X_train_reduced.shape, X_test_reduced.shape)"
   ]
  },
  {
   "cell_type": "code",
   "execution_count": 5,
   "id": "2476ad58-6b1c-48e3-9a8a-6e8f318675f7",
   "metadata": {},
   "outputs": [],
   "source": [
    "# Train models\n",
    "best_models = []"
   ]
  },
  {
   "cell_type": "code",
   "execution_count": 6,
   "id": "cc21ca24-b9d8-43e5-b580-b4e1ae8bffcf",
   "metadata": {},
   "outputs": [
    {
     "name": "stderr",
     "output_type": "stream",
     "text": [
      "/home/michael/code/python/funnypress-data-study/notebooks/functions.py:139: ExperimentalWarning: OptunaSearchCV is experimental (supported from v0.17.0). The interface can change in the future.\n",
      "  search = OptunaSearchCV(\n",
      "[I 2024-11-24 17:13:58,597] A new study created in memory with name: no-name-256bf808-8ed9-4ecf-bea9-41d82fb396be\n",
      "[I 2024-11-24 17:18:42,839] Trial 5 finished with value: 0.0 and parameters: {'classifier__n_estimators': 107, 'classifier__max_depth': 3, 'classifier__min_samples_split': 6, 'classifier__min_samples_leaf': 1}. Best is trial 5 with value: 0.0.\n",
      "[I 2024-11-24 17:21:32,238] Trial 2 finished with value: 0.15307706015420058 and parameters: {'classifier__n_estimators': 92, 'classifier__max_depth': 6, 'classifier__min_samples_split': 2, 'classifier__min_samples_leaf': 3}. Best is trial 2 with value: 0.15307706015420058.\n",
      "[I 2024-11-24 17:23:19,746] Trial 4 finished with value: 0.03453625378065702 and parameters: {'classifier__n_estimators': 134, 'classifier__max_depth': 5, 'classifier__min_samples_split': 2, 'classifier__min_samples_leaf': 4}. Best is trial 2 with value: 0.15307706015420058.\n",
      "[I 2024-11-24 17:24:52,465] Trial 0 finished with value: 0.0003792667509481669 and parameters: {'classifier__n_estimators': 188, 'classifier__max_depth': 4, 'classifier__min_samples_split': 6, 'classifier__min_samples_leaf': 4}. Best is trial 2 with value: 0.15307706015420058.\n",
      "[I 2024-11-24 17:27:36,821] Trial 7 finished with value: 0.4601491909947545 and parameters: {'classifier__n_estimators': 119, 'classifier__max_depth': 9, 'classifier__min_samples_split': 5, 'classifier__min_samples_leaf': 4}. Best is trial 7 with value: 0.4601491909947545.\n",
      "[I 2024-11-24 17:29:34,800] Trial 8 finished with value: 0.3799848624359063 and parameters: {'classifier__n_estimators': 104, 'classifier__max_depth': 8, 'classifier__min_samples_split': 2, 'classifier__min_samples_leaf': 5}. Best is trial 7 with value: 0.4601491909947545.\n",
      "[I 2024-11-24 17:30:19,483] Trial 1 finished with value: 0.5853805048289453 and parameters: {'classifier__n_estimators': 113, 'classifier__max_depth': 12, 'classifier__min_samples_split': 4, 'classifier__min_samples_leaf': 1}. Best is trial 1 with value: 0.5853805048289453.\n",
      "[I 2024-11-24 17:31:17,365] Trial 9 finished with value: 0.6145613246770367 and parameters: {'classifier__n_estimators': 63, 'classifier__max_depth': 14, 'classifier__min_samples_split': 5, 'classifier__min_samples_leaf': 5}. Best is trial 9 with value: 0.6145613246770367.\n",
      "[I 2024-11-24 17:31:45,078] Trial 11 finished with value: 0.15203155908131583 and parameters: {'classifier__n_estimators': 84, 'classifier__max_depth': 6, 'classifier__min_samples_split': 3, 'classifier__min_samples_leaf': 2}. Best is trial 9 with value: 0.6145613246770367.\n",
      "[I 2024-11-24 17:36:10,599] Trial 3 finished with value: 0.6166455939022922 and parameters: {'classifier__n_estimators': 143, 'classifier__max_depth': 14, 'classifier__min_samples_split': 2, 'classifier__min_samples_leaf': 5}. Best is trial 3 with value: 0.6166455939022922.\n",
      "[I 2024-11-24 17:38:13,642] Trial 6 finished with value: 0.6078501526436207 and parameters: {'classifier__n_estimators': 162, 'classifier__max_depth': 13, 'classifier__min_samples_split': 2, 'classifier__min_samples_leaf': 5}. Best is trial 3 with value: 0.6166455939022922.\n",
      "[I 2024-11-24 17:38:45,419] Trial 12 finished with value: 0.0003792667509481669 and parameters: {'classifier__n_estimators': 196, 'classifier__max_depth': 4, 'classifier__min_samples_split': 7, 'classifier__min_samples_leaf': 5}. Best is trial 3 with value: 0.6166455939022922.\n",
      "[I 2024-11-24 17:39:22,907] Trial 13 finished with value: 0.0003792667509481669 and parameters: {'classifier__n_estimators': 174, 'classifier__max_depth': 4, 'classifier__min_samples_split': 2, 'classifier__min_samples_leaf': 5}. Best is trial 3 with value: 0.6166455939022922.\n",
      "[I 2024-11-24 17:40:05,480] Trial 15 finished with value: 0.0353956256175027 and parameters: {'classifier__n_estimators': 129, 'classifier__max_depth': 5, 'classifier__min_samples_split': 10, 'classifier__min_samples_leaf': 1}. Best is trial 3 with value: 0.6166455939022922.\n",
      "[I 2024-11-24 17:40:43,032] Trial 16 finished with value: 0.5204900227601721 and parameters: {'classifier__n_estimators': 73, 'classifier__max_depth': 10, 'classifier__min_samples_split': 10, 'classifier__min_samples_leaf': 1}. Best is trial 3 with value: 0.6166455939022922.\n",
      "[I 2024-11-24 17:44:40,667] Trial 10 finished with value: 0.58467649483296 and parameters: {'classifier__n_estimators': 162, 'classifier__max_depth': 12, 'classifier__min_samples_split': 3, 'classifier__min_samples_leaf': 4}. Best is trial 3 with value: 0.6166455939022922.\n",
      "[I 2024-11-24 17:45:18,348] Trial 18 finished with value: 0.6271669030987226 and parameters: {'classifier__n_estimators': 55, 'classifier__max_depth': 15, 'classifier__min_samples_split': 9, 'classifier__min_samples_leaf': 5}. Best is trial 18 with value: 0.6271669030987226.\n",
      "[I 2024-11-24 17:46:20,600] Trial 14 finished with value: 0.5190056718579539 and parameters: {'classifier__n_estimators': 151, 'classifier__max_depth': 10, 'classifier__min_samples_split': 3, 'classifier__min_samples_leaf': 1}. Best is trial 18 with value: 0.6271669030987226.\n",
      "[I 2024-11-24 17:46:46,225] Trial 19 finished with value: 0.6261574809842683 and parameters: {'classifier__n_estimators': 69, 'classifier__max_depth': 15, 'classifier__min_samples_split': 10, 'classifier__min_samples_leaf': 3}. Best is trial 18 with value: 0.6271669030987226.\n",
      "[I 2024-11-24 17:52:42,253] Trial 17 finished with value: 0.6291067309928942 and parameters: {'classifier__n_estimators': 165, 'classifier__max_depth': 15, 'classifier__min_samples_split': 10, 'classifier__min_samples_leaf': 3}. Best is trial 17 with value: 0.6291067309928942.\n"
     ]
    },
    {
     "name": "stdout",
     "output_type": "stream",
     "text": [
      "Best parameters: {'classifier__n_estimators': 165, 'classifier__max_depth': 15, 'classifier__min_samples_split': 10, 'classifier__min_samples_leaf': 3}\n",
      "Test Accuracy: 0.8985595645849951\n",
      "F1 Score: 0.6405054871965414\n",
      "              precision    recall  f1-score   support\n",
      "\n",
      "           0       0.89      0.99      0.94     17359\n",
      "           1       0.93      0.49      0.64      3954\n",
      "\n",
      "    accuracy                           0.90     21313\n",
      "   macro avg       0.91      0.74      0.79     21313\n",
      "weighted avg       0.90      0.90      0.89     21313\n",
      "\n"
     ]
    }
   ],
   "source": [
    "# Random Forest\n",
    "rf_param_distributions = {\n",
    "    \"classifier__n_estimators\": optuna.distributions.IntDistribution(50, 200),\n",
    "    \"classifier__max_depth\": optuna.distributions.IntDistribution(3, 15),\n",
    "    \"classifier__min_samples_split\": optuna.distributions.IntDistribution(2, 10),\n",
    "    \"classifier__min_samples_leaf\": optuna.distributions.IntDistribution(1, 5),\n",
    "}\n",
    "\n",
    "rf_model, rf_acc = train_model_with_optuna(\n",
    "    model=RandomForestClassifier(random_state=314),\n",
    "    param_distributions=rf_param_distributions,\n",
    "    X_train_embeddings=X_train_reduced,\n",
    "    y_train=y_train,\n",
    "    X_test_embeddings=X_test_reduced,\n",
    "    y_test=y_test,\n",
    ")\n",
    "best_models.append((\"random_forest\", rf_model))"
   ]
  },
  {
   "cell_type": "code",
   "execution_count": 7,
   "id": "10c9b1f3-1d0e-4b14-ae33-50232030d1fc",
   "metadata": {},
   "outputs": [
    {
     "name": "stderr",
     "output_type": "stream",
     "text": [
      "/home/michael/code/python/funnypress-data-study/notebooks/functions.py:139: ExperimentalWarning: OptunaSearchCV is experimental (supported from v0.17.0). The interface can change in the future.\n",
      "  search = OptunaSearchCV(\n",
      "[I 2024-11-24 17:55:47,615] A new study created in memory with name: no-name-985eaa59-5462-4e2d-8a4e-8280f5525fb2\n",
      "[I 2024-11-24 17:56:28,855] Trial 6 finished with value: 0.7244516296161081 and parameters: {'classifier__n_estimators': 83, 'classifier__learning_rate': 0.11596050023767428, 'classifier__max_depth': 3, 'classifier__subsample': 0.8021623787481127, 'classifier__colsample_bytree': 0.7240729887464639}. Best is trial 6 with value: 0.7244516296161081.\n",
      "[I 2024-11-24 17:56:49,500] Trial 0 finished with value: 0.6596035271750883 and parameters: {'classifier__n_estimators': 51, 'classifier__learning_rate': 0.04329057543986922, 'classifier__max_depth': 6, 'classifier__subsample': 0.9223751298852272, 'classifier__colsample_bytree': 0.9098817339005139}. Best is trial 6 with value: 0.7244516296161081.\n",
      "[I 2024-11-24 17:56:51,195] Trial 5 finished with value: 0.7788717830753035 and parameters: {'classifier__n_estimators': 136, 'classifier__learning_rate': 0.1765615461485415, 'classifier__max_depth': 3, 'classifier__subsample': 0.7515798748631237, 'classifier__colsample_bytree': 0.80052047223064}. Best is trial 5 with value: 0.7788717830753035.\n",
      "[I 2024-11-24 17:56:56,061] Trial 1 finished with value: 0.7665525214037151 and parameters: {'classifier__n_estimators': 143, 'classifier__learning_rate': 0.12589188574456345, 'classifier__max_depth': 3, 'classifier__subsample': 0.7827159500894992, 'classifier__colsample_bytree': 0.9191035662141946}. Best is trial 5 with value: 0.7788717830753035.\n",
      "[I 2024-11-24 17:56:58,444] Trial 7 finished with value: 0.744831710991541 and parameters: {'classifier__n_estimators': 85, 'classifier__learning_rate': 0.07690426891120032, 'classifier__max_depth': 5, 'classifier__subsample': 0.8512512000570056, 'classifier__colsample_bytree': 0.7116253957507342}. Best is trial 5 with value: 0.7788717830753035.\n",
      "[I 2024-11-24 17:57:03,853] Trial 3 finished with value: 0.7584484285886862 and parameters: {'classifier__n_estimators': 89, 'classifier__learning_rate': 0.08555278791909567, 'classifier__max_depth': 5, 'classifier__subsample': 0.7701534718804333, 'classifier__colsample_bytree': 0.945401532727601}. Best is trial 5 with value: 0.7788717830753035.\n",
      "[I 2024-11-24 17:57:21,890] Trial 4 finished with value: 0.7843367527641922 and parameters: {'classifier__n_estimators': 87, 'classifier__learning_rate': 0.1282815764529938, 'classifier__max_depth': 6, 'classifier__subsample': 0.7105129535163431, 'classifier__colsample_bytree': 0.8549942770299903}. Best is trial 4 with value: 0.7843367527641922.\n",
      "[I 2024-11-24 17:57:52,750] Trial 11 finished with value: 0.7490403420492554 and parameters: {'classifier__n_estimators': 80, 'classifier__learning_rate': 0.1151052613308997, 'classifier__max_depth': 4, 'classifier__subsample': 0.711354661252402, 'classifier__colsample_bytree': 0.8946109123050492}. Best is trial 4 with value: 0.7843367527641922.\n",
      "[I 2024-11-24 17:58:18,621] Trial 13 finished with value: 0.5648420230209068 and parameters: {'classifier__n_estimators': 77, 'classifier__learning_rate': 0.021877038087205074, 'classifier__max_depth': 5, 'classifier__subsample': 0.8568390983070537, 'classifier__colsample_bytree': 0.8715445595712539}. Best is trial 4 with value: 0.7843367527641922.\n",
      "[I 2024-11-24 17:58:19,279] Trial 9 finished with value: 0.7464829839052254 and parameters: {'classifier__n_estimators': 71, 'classifier__learning_rate': 0.07181766523495291, 'classifier__max_depth': 6, 'classifier__subsample': 0.9468324039454924, 'classifier__colsample_bytree': 0.9555857596365194}. Best is trial 4 with value: 0.7843367527641922.\n",
      "[I 2024-11-24 17:58:21,661] Trial 14 finished with value: 0.7744102648557106 and parameters: {'classifier__n_estimators': 81, 'classifier__learning_rate': 0.1919516923271629, 'classifier__max_depth': 4, 'classifier__subsample': 0.8267481244881878, 'classifier__colsample_bytree': 0.8269289303606889}. Best is trial 4 with value: 0.7843367527641922.\n",
      "[I 2024-11-24 17:59:07,267] Trial 10 finished with value: 0.7268036578309112 and parameters: {'classifier__n_estimators': 112, 'classifier__learning_rate': 0.035359167756816544, 'classifier__max_depth': 6, 'classifier__subsample': 0.854132482972292, 'classifier__colsample_bytree': 0.929203567705978}. Best is trial 4 with value: 0.7843367527641922.\n",
      "[I 2024-11-24 17:59:09,119] Trial 2 finished with value: 0.7982231842713589 and parameters: {'classifier__n_estimators': 139, 'classifier__learning_rate': 0.10578594973059686, 'classifier__max_depth': 7, 'classifier__subsample': 0.8061609351429644, 'classifier__colsample_bytree': 0.9830155988159023}. Best is trial 2 with value: 0.7982231842713589.\n",
      "[I 2024-11-24 17:59:12,890] Trial 15 finished with value: 0.5356727233664205 and parameters: {'classifier__n_estimators': 64, 'classifier__learning_rate': 0.02250029924292722, 'classifier__max_depth': 6, 'classifier__subsample': 0.9842099205872714, 'classifier__colsample_bytree': 0.7327119930200426}. Best is trial 2 with value: 0.7982231842713589.\n",
      "[I 2024-11-24 17:59:21,447] Trial 12 finished with value: 0.7984590083901166 and parameters: {'classifier__n_estimators': 138, 'classifier__learning_rate': 0.13258330280777178, 'classifier__max_depth': 6, 'classifier__subsample': 0.9331832965775448, 'classifier__colsample_bytree': 0.8917352484710113}. Best is trial 12 with value: 0.7984590083901166.\n",
      "[I 2024-11-24 17:59:26,878] Trial 8 finished with value: 0.7759378657370143 and parameters: {'classifier__n_estimators': 127, 'classifier__learning_rate': 0.05831629353028128, 'classifier__max_depth': 7, 'classifier__subsample': 0.9617980849941357, 'classifier__colsample_bytree': 0.7353488334391859}. Best is trial 12 with value: 0.7984590083901166.\n",
      "[I 2024-11-24 17:59:29,155] Trial 16 finished with value: 0.7218521281039267 and parameters: {'classifier__n_estimators': 63, 'classifier__learning_rate': 0.05967747923837507, 'classifier__max_depth': 6, 'classifier__subsample': 0.8393891428042308, 'classifier__colsample_bytree': 0.951030272009397}. Best is trial 12 with value: 0.7984590083901166.\n",
      "[I 2024-11-24 17:59:57,307] Trial 17 finished with value: 0.799513997435991 and parameters: {'classifier__n_estimators': 116, 'classifier__learning_rate': 0.16785462390276756, 'classifier__max_depth': 7, 'classifier__subsample': 0.9961258928290214, 'classifier__colsample_bytree': 0.8230135015780369}. Best is trial 17 with value: 0.799513997435991.\n",
      "[I 2024-11-24 17:59:58,719] Trial 18 finished with value: 0.8007161662019735 and parameters: {'classifier__n_estimators': 121, 'classifier__learning_rate': 0.1686411399077262, 'classifier__max_depth': 7, 'classifier__subsample': 0.7060002034262184, 'classifier__colsample_bytree': 0.8014489853048463}. Best is trial 18 with value: 0.8007161662019735.\n",
      "[I 2024-11-24 18:00:05,970] Trial 19 finished with value: 0.800114952527025 and parameters: {'classifier__n_estimators': 116, 'classifier__learning_rate': 0.16607002059958945, 'classifier__max_depth': 7, 'classifier__subsample': 0.7070976264038656, 'classifier__colsample_bytree': 0.8028023790894391}. Best is trial 18 with value: 0.8007161662019735.\n"
     ]
    },
    {
     "name": "stdout",
     "output_type": "stream",
     "text": [
      "Best parameters: {'classifier__n_estimators': 121, 'classifier__learning_rate': 0.1686411399077262, 'classifier__max_depth': 7, 'classifier__subsample': 0.7060002034262184, 'classifier__colsample_bytree': 0.8014489853048463}\n",
      "Test Accuracy: 0.9310749307934125\n",
      "F1 Score: 0.8011371328008664\n",
      "              precision    recall  f1-score   support\n",
      "\n",
      "           0       0.94      0.97      0.96     17359\n",
      "           1       0.86      0.75      0.80      3954\n",
      "\n",
      "    accuracy                           0.93     21313\n",
      "   macro avg       0.90      0.86      0.88     21313\n",
      "weighted avg       0.93      0.93      0.93     21313\n",
      "\n"
     ]
    }
   ],
   "source": [
    "# XGBoost\n",
    "xgb_param_distributions = {\n",
    "    \"classifier__n_estimators\": optuna.distributions.IntDistribution(50, 150),\n",
    "    \"classifier__learning_rate\": optuna.distributions.FloatDistribution(0.01, 0.2),\n",
    "    \"classifier__max_depth\": optuna.distributions.IntDistribution(3, 7),\n",
    "    \"classifier__subsample\": optuna.distributions.FloatDistribution(0.7, 1.0),\n",
    "    \"classifier__colsample_bytree\": optuna.distributions.FloatDistribution(0.7, 1.0),\n",
    "}\n",
    "\n",
    "xgb_model, xgb_acc = train_model_with_optuna(\n",
    "    model=XGBClassifier(random_state=314),\n",
    "    param_distributions=xgb_param_distributions,\n",
    "    X_train_embeddings=X_train_reduced,\n",
    "    y_train=y_train,\n",
    "    X_test_embeddings=X_test_reduced,\n",
    "    y_test=y_test,\n",
    ")\n",
    "best_models.append((\"xgboost\", xgb_model))"
   ]
  },
  {
   "cell_type": "code",
   "execution_count": 8,
   "id": "ae0c6d8f-0956-4c1b-a699-38ce383eeb63",
   "metadata": {},
   "outputs": [
    {
     "name": "stderr",
     "output_type": "stream",
     "text": [
      "/home/michael/code/python/funnypress-data-study/notebooks/functions.py:139: ExperimentalWarning: OptunaSearchCV is experimental (supported from v0.17.0). The interface can change in the future.\n",
      "  search = OptunaSearchCV(\n",
      "[I 2024-11-24 18:00:19,149] A new study created in memory with name: no-name-a7b6d5a4-081e-4b77-bbc0-82d93c9eb1bd\n",
      "[I 2024-11-24 18:00:33,020] Trial 0 finished with value: 0.7363581971705161 and parameters: {'classifier__iterations': 162, 'classifier__learning_rate': 0.07042896593170372, 'classifier__depth': 4, 'classifier__l2_leaf_reg': 9.937201957010922}. Best is trial 0 with value: 0.7363581971705161.\n",
      "[I 2024-11-24 18:00:49,569] Trial 1 finished with value: 0.754167515080419 and parameters: {'classifier__iterations': 193, 'classifier__learning_rate': 0.07861427827249752, 'classifier__depth': 4, 'classifier__l2_leaf_reg': 1.4733477838886282}. Best is trial 1 with value: 0.754167515080419.\n",
      "[I 2024-11-24 18:00:57,696] Trial 2 finished with value: 0.7128490138647778 and parameters: {'classifier__iterations': 58, 'classifier__learning_rate': 0.08890639956363168, 'classifier__depth': 6, 'classifier__l2_leaf_reg': 3.818651932862034}. Best is trial 1 with value: 0.754167515080419.\n",
      "[I 2024-11-24 18:01:09,606] Trial 3 finished with value: 0.7452391570373927 and parameters: {'classifier__iterations': 181, 'classifier__learning_rate': 0.10026068043705898, 'classifier__depth': 3, 'classifier__l2_leaf_reg': 2.380240619173904}. Best is trial 1 with value: 0.754167515080419.\n",
      "[I 2024-11-24 18:01:31,363] Trial 4 finished with value: 0.6715528403473282 and parameters: {'classifier__iterations': 119, 'classifier__learning_rate': 0.022911679335517545, 'classifier__depth': 7, 'classifier__l2_leaf_reg': 7.022195817450135}. Best is trial 1 with value: 0.754167515080419.\n",
      "[I 2024-11-24 18:01:39,777] Trial 5 finished with value: 0.7549943134982038 and parameters: {'classifier__iterations': 91, 'classifier__learning_rate': 0.17289813490098388, 'classifier__depth': 4, 'classifier__l2_leaf_reg': 7.798533689181041}. Best is trial 5 with value: 0.7549943134982038.\n",
      "[I 2024-11-24 18:01:56,101] Trial 6 finished with value: 0.7965319982663106 and parameters: {'classifier__iterations': 169, 'classifier__learning_rate': 0.19133933721443305, 'classifier__depth': 5, 'classifier__l2_leaf_reg': 4.953437377816247}. Best is trial 6 with value: 0.7965319982663106.\n",
      "[I 2024-11-24 18:02:14,969] Trial 7 finished with value: 0.697239377236867 and parameters: {'classifier__iterations': 147, 'classifier__learning_rate': 0.029597095578556082, 'classifier__depth': 6, 'classifier__l2_leaf_reg': 1.26240378249804}. Best is trial 6 with value: 0.7965319982663106.\n",
      "[I 2024-11-24 18:02:32,302] Trial 8 finished with value: 0.7878375880121785 and parameters: {'classifier__iterations': 94, 'classifier__learning_rate': 0.18294521022626278, 'classifier__depth': 7, 'classifier__l2_leaf_reg': 5.133765718079592}. Best is trial 6 with value: 0.7965319982663106.\n",
      "[I 2024-11-24 18:02:54,962] Trial 9 finished with value: 0.720292807688972 and parameters: {'classifier__iterations': 50, 'classifier__learning_rate': 0.07099335834395103, 'classifier__depth': 9, 'classifier__l2_leaf_reg': 5.198737285257815}. Best is trial 6 with value: 0.7965319982663106.\n",
      "[I 2024-11-24 18:04:54,143] Trial 10 finished with value: 0.7973383130012248 and parameters: {'classifier__iterations': 144, 'classifier__learning_rate': 0.1396727583528465, 'classifier__depth': 10, 'classifier__l2_leaf_reg': 3.732028847987086}. Best is trial 10 with value: 0.7973383130012248.\n",
      "[I 2024-11-24 18:06:52,651] Trial 11 finished with value: 0.7960804916252139 and parameters: {'classifier__iterations': 144, 'classifier__learning_rate': 0.14595117287517773, 'classifier__depth': 10, 'classifier__l2_leaf_reg': 4.0217910706598605}. Best is trial 10 with value: 0.7973383130012248.\n",
      "[I 2024-11-24 18:08:03,627] Trial 12 finished with value: 0.8026461638827145 and parameters: {'classifier__iterations': 167, 'classifier__learning_rate': 0.13975210731551047, 'classifier__depth': 9, 'classifier__l2_leaf_reg': 3.3973682308590614}. Best is trial 12 with value: 0.8026461638827145.\n",
      "[I 2024-11-24 18:08:59,883] Trial 13 finished with value: 0.7989228800206261 and parameters: {'classifier__iterations': 133, 'classifier__learning_rate': 0.13918531927629293, 'classifier__depth': 9, 'classifier__l2_leaf_reg': 3.114394505768429}. Best is trial 12 with value: 0.8026461638827145.\n",
      "[I 2024-11-24 18:09:30,074] Trial 14 finished with value: 0.7917479327632027 and parameters: {'classifier__iterations': 120, 'classifier__learning_rate': 0.1327343190148082, 'classifier__depth': 8, 'classifier__l2_leaf_reg': 2.847045531621183}. Best is trial 12 with value: 0.8026461638827145.\n",
      "[I 2024-11-24 18:10:53,229] Trial 15 finished with value: 0.8062045820036422 and parameters: {'classifier__iterations': 200, 'classifier__learning_rate': 0.1202665319623726, 'classifier__depth': 9, 'classifier__l2_leaf_reg': 6.779238303733177}. Best is trial 15 with value: 0.8062045820036422.\n",
      "[I 2024-11-24 18:11:41,754] Trial 16 finished with value: 0.8027278200641508 and parameters: {'classifier__iterations': 199, 'classifier__learning_rate': 0.1165336644811757, 'classifier__depth': 8, 'classifier__l2_leaf_reg': 6.705181333709826}. Best is trial 15 with value: 0.8062045820036422.\n",
      "[I 2024-11-24 18:12:30,770] Trial 17 finished with value: 0.8022486587338964 and parameters: {'classifier__iterations': 199, 'classifier__learning_rate': 0.11677202558783245, 'classifier__depth': 8, 'classifier__l2_leaf_reg': 6.983207924242877}. Best is trial 15 with value: 0.8062045820036422.\n",
      "[I 2024-11-24 18:13:17,552] Trial 18 finished with value: 0.7715328018802489 and parameters: {'classifier__iterations': 185, 'classifier__learning_rate': 0.050476529372031065, 'classifier__depth': 8, 'classifier__l2_leaf_reg': 8.38918071051441}. Best is trial 15 with value: 0.8062045820036422.\n",
      "[I 2024-11-24 18:15:59,446] Trial 19 finished with value: 0.8060575816430287 and parameters: {'classifier__iterations': 199, 'classifier__learning_rate': 0.16294645689374124, 'classifier__depth': 10, 'classifier__l2_leaf_reg': 6.159429671277533}. Best is trial 15 with value: 0.8062045820036422.\n"
     ]
    },
    {
     "name": "stdout",
     "output_type": "stream",
     "text": [
      "Best parameters: {'classifier__iterations': 200, 'classifier__learning_rate': 0.1202665319623726, 'classifier__depth': 9, 'classifier__l2_leaf_reg': 6.779238303733177}\n",
      "Test Accuracy: 0.9330924787688265\n",
      "F1 Score: 0.8074534161490683\n",
      "              precision    recall  f1-score   support\n",
      "\n",
      "           0       0.95      0.97      0.96     17359\n",
      "           1       0.87      0.76      0.81      3954\n",
      "\n",
      "    accuracy                           0.93     21313\n",
      "   macro avg       0.91      0.86      0.88     21313\n",
      "weighted avg       0.93      0.93      0.93     21313\n",
      "\n"
     ]
    }
   ],
   "source": [
    "# CatBoost\n",
    "catboost_param_distributions = {\n",
    "    \"classifier__iterations\": optuna.distributions.IntDistribution(50, 200),\n",
    "    \"classifier__learning_rate\": optuna.distributions.FloatDistribution(0.01, 0.2),\n",
    "    \"classifier__depth\": optuna.distributions.IntDistribution(3, 10),\n",
    "    \"classifier__l2_leaf_reg\": optuna.distributions.FloatDistribution(1.0, 10.0),\n",
    "}\n",
    "\n",
    "catboost_model, catboost_acc = train_model_with_optuna(\n",
    "    model=CatBoostClassifier(verbose=0, random_state=314),\n",
    "    param_distributions=catboost_param_distributions,\n",
    "    X_train_embeddings=X_train_reduced,\n",
    "    y_train=y_train,\n",
    "    X_test_embeddings=X_test_reduced,\n",
    "    y_test=y_test,\n",
    "    n_jobs=1,\n",
    ")\n",
    "best_models.append((\"catboost\", catboost_model))\n"
   ]
  },
  {
   "cell_type": "code",
   "execution_count": 9,
   "id": "cf053c75-cc3a-4b62-a136-5fa0b8a52bb3",
   "metadata": {},
   "outputs": [
    {
     "name": "stdout",
     "output_type": "stream",
     "text": [
      "Stacking Classifier Test Accuracy: 0.9328578801670342\n",
      "Stacking Classifier F1 Score: 0.8111389732083938\n",
      "              precision    recall  f1-score   support\n",
      "\n",
      "           0       0.95      0.97      0.96     17359\n",
      "           1       0.85      0.78      0.81      3954\n",
      "\n",
      "    accuracy                           0.93     21313\n",
      "   macro avg       0.90      0.87      0.89     21313\n",
      "weighted avg       0.93      0.93      0.93     21313\n",
      "\n"
     ]
    }
   ],
   "source": [
    "# Stacking the best models\n",
    "stacked_classifier = StackingClassifier(\n",
    "    estimators=best_models,\n",
    "    final_estimator=GradientBoostingClassifier(random_state=314),\n",
    "    cv=5,\n",
    ")\n",
    "\n",
    "\n",
    "stacked_classifier.fit(X_train_reduced, y_train)\n",
    "y_pred = stacked_classifier.predict(X_test_reduced)\n",
    "\n",
    "acc = accuracy_score(y_test, y_pred)\n",
    "f1 = f1_score(y_test, y_pred)\n",
    "\n",
    "print(f\"Stacking Classifier Test Accuracy: {acc}\")\n",
    "print(f\"Stacking Classifier F1 Score: {f1}\")\n",
    "\n",
    "print(classification_report(y_test, y_pred))"
   ]
  },
  {
   "cell_type": "code",
   "execution_count": null,
   "id": "e2caa3fe-912f-4b07-a81d-c2d8bf4120f9",
   "metadata": {},
   "outputs": [],
   "source": []
  }
 ],
 "metadata": {
  "kernelspec": {
   "display_name": "Python 3 (ipykernel)",
   "language": "python",
   "name": "python3"
  },
  "language_info": {
   "codemirror_mode": {
    "name": "ipython",
    "version": 3
   },
   "file_extension": ".py",
   "mimetype": "text/x-python",
   "name": "python",
   "nbconvert_exporter": "python",
   "pygments_lexer": "ipython3",
   "version": "3.12.6"
  }
 },
 "nbformat": 4,
 "nbformat_minor": 5
}
